{
  "metadata": {
    "kernelspec": {
      "language": "python",
      "display_name": "Python 3",
      "name": "python3"
    },
    "language_info": {
      "name": "python",
      "version": "3.7.12",
      "mimetype": "text/x-python",
      "codemirror_mode": {
        "name": "ipython",
        "version": 3
      },
      "pygments_lexer": "ipython3",
      "nbconvert_exporter": "python",
      "file_extension": ".py"
    },
    "colab": {
      "name": "youtube-analysis.ipynb",
      "provenance": []
    }
  },
  "nbformat_minor": 0,
  "nbformat": 4,
  "cells": [
    {
      "cell_type": "code",
      "source": [
        "! pip install kaggle"
      ],
      "metadata": {
        "colab": {
          "base_uri": "https://localhost:8080/"
        },
        "id": "mM9Wnnza1VMA",
        "outputId": "e77a7a13-450e-4a1d-c3a7-d0bd43728d14"
      },
      "execution_count": 1,
      "outputs": [
        {
          "output_type": "stream",
          "name": "stdout",
          "text": [
            "Requirement already satisfied: kaggle in /usr/local/lib/python3.7/dist-packages (1.5.12)\n",
            "Requirement already satisfied: tqdm in /usr/local/lib/python3.7/dist-packages (from kaggle) (4.62.3)\n",
            "Requirement already satisfied: urllib3 in /usr/local/lib/python3.7/dist-packages (from kaggle) (1.24.3)\n",
            "Requirement already satisfied: python-dateutil in /usr/local/lib/python3.7/dist-packages (from kaggle) (2.8.2)\n",
            "Requirement already satisfied: six>=1.10 in /usr/local/lib/python3.7/dist-packages (from kaggle) (1.15.0)\n",
            "Requirement already satisfied: requests in /usr/local/lib/python3.7/dist-packages (from kaggle) (2.23.0)\n",
            "Requirement already satisfied: python-slugify in /usr/local/lib/python3.7/dist-packages (from kaggle) (5.0.2)\n",
            "Requirement already satisfied: certifi in /usr/local/lib/python3.7/dist-packages (from kaggle) (2021.10.8)\n",
            "Requirement already satisfied: text-unidecode>=1.3 in /usr/local/lib/python3.7/dist-packages (from python-slugify->kaggle) (1.3)\n",
            "Requirement already satisfied: idna<3,>=2.5 in /usr/local/lib/python3.7/dist-packages (from requests->kaggle) (2.10)\n",
            "Requirement already satisfied: chardet<4,>=3.0.2 in /usr/local/lib/python3.7/dist-packages (from requests->kaggle) (3.0.4)\n"
          ]
        }
      ]
    },
    {
      "cell_type": "code",
      "source": [
        "! mkdir ~/.kaggle"
      ],
      "metadata": {
        "id": "15nIrG8Q1s03"
      },
      "execution_count": 2,
      "outputs": []
    },
    {
      "cell_type": "code",
      "source": [
        "! cp kaggle.json ~/.kaggle/"
      ],
      "metadata": {
        "id": "PJyhmiO71vG1"
      },
      "execution_count": 3,
      "outputs": []
    },
    {
      "cell_type": "code",
      "source": [
        "! chmod 600 ~/.kaggle/kaggle.json"
      ],
      "metadata": {
        "id": "bam2OQn81yKk"
      },
      "execution_count": 4,
      "outputs": []
    },
    {
      "cell_type": "code",
      "source": [
        "! kaggle datasets download hrishikeshkini/category-file"
      ],
      "metadata": {
        "colab": {
          "base_uri": "https://localhost:8080/"
        },
        "id": "0Qp9YEkL2JPo",
        "outputId": "f8e0b959-5a17-4f13-b28d-b6c3379310e5"
      },
      "execution_count": 5,
      "outputs": [
        {
          "output_type": "stream",
          "name": "stdout",
          "text": [
            "Downloading category-file.zip to /content\n",
            "\r  0% 0.00/524 [00:00<?, ?B/s]\n",
            "\r100% 524/524 [00:00<00:00, 814kB/s]\n"
          ]
        }
      ]
    },
    {
      "cell_type": "code",
      "source": [
        "! kaggle datasets download datasnaek/youtube"
      ],
      "metadata": {
        "colab": {
          "base_uri": "https://localhost:8080/"
        },
        "id": "1PPuD7Fr4zku",
        "outputId": "692779ce-9e54-4c48-da99-dddb48c21f61"
      },
      "execution_count": 7,
      "outputs": [
        {
          "output_type": "stream",
          "name": "stdout",
          "text": [
            "Downloading youtube.zip to /content\n",
            " 70% 39.0M/55.9M [00:00<00:00, 81.0MB/s]\n",
            "100% 55.9M/55.9M [00:00<00:00, 141MB/s] \n"
          ]
        }
      ]
    },
    {
      "cell_type": "code",
      "source": [
        "! unzip category-file.zip"
      ],
      "metadata": {
        "colab": {
          "base_uri": "https://localhost:8080/"
        },
        "id": "G4pOm3Dd2X8z",
        "outputId": "3912200b-a7e2-4735-d039-8cf5774621b4"
      },
      "execution_count": 6,
      "outputs": [
        {
          "output_type": "stream",
          "name": "stdout",
          "text": [
            "Archive:  category-file.zip\n",
            "  inflating: category_file.txt       \n"
          ]
        }
      ]
    },
    {
      "cell_type": "code",
      "source": [
        "! unzip youtube.zip"
      ],
      "metadata": {
        "colab": {
          "base_uri": "https://localhost:8080/"
        },
        "id": "cGPSb8hv5Bsb",
        "outputId": "7e62c7b7-ea5d-4a25-83ef-3d937dd69b10"
      },
      "execution_count": 9,
      "outputs": [
        {
          "output_type": "stream",
          "name": "stdout",
          "text": [
            "Archive:  youtube.zip\n",
            "  inflating: GB_category_id.json     \n",
            "  inflating: GBcomments.csv          \n",
            "  inflating: GBvideos.csv            \n",
            "  inflating: US_category_id.json     \n",
            "  inflating: UScomments.csv          \n",
            "  inflating: USvideos.csv            \n"
          ]
        }
      ]
    },
    {
      "cell_type": "code",
      "source": [
        "import numpy as np # linear algebra\n",
        "import pandas as pd # data processing, CSV file I/O (e.g. pd.read_csv)\n",
        "import os"
      ],
      "metadata": {
        "_uuid": "8f2839f25d086af736a60e9eeb907d3b93b6e0e5",
        "_cell_guid": "b1076dfc-b9ad-4769-8c92-a6c4dae69d19",
        "execution": {
          "iopub.status.busy": "2022-02-08T06:18:02.913040Z",
          "iopub.execute_input": "2022-02-08T06:18:02.913539Z",
          "iopub.status.idle": "2022-02-08T06:18:02.925724Z",
          "shell.execute_reply.started": "2022-02-08T06:18:02.913496Z",
          "shell.execute_reply": "2022-02-08T06:18:02.924919Z"
        },
        "trusted": true,
        "id": "sc7cG1NA1Srb"
      },
      "execution_count": 11,
      "outputs": []
    },
    {
      "cell_type": "code",
      "source": [
        "comments = pd.read_csv(r'/content/UScomments.csv', error_bad_lines=False)"
      ],
      "metadata": {
        "execution": {
          "iopub.status.busy": "2022-02-08T06:18:07.822964Z",
          "iopub.execute_input": "2022-02-08T06:18:07.823758Z",
          "iopub.status.idle": "2022-02-08T06:18:09.169672Z",
          "shell.execute_reply.started": "2022-02-08T06:18:07.823719Z",
          "shell.execute_reply": "2022-02-08T06:18:09.168733Z"
        },
        "trusted": true,
        "colab": {
          "base_uri": "https://localhost:8080/"
        },
        "id": "OW2YIkWI1Sru",
        "outputId": "60d76ab8-16fd-4de0-c703-b8967ee673d2"
      },
      "execution_count": 12,
      "outputs": [
        {
          "output_type": "stream",
          "name": "stderr",
          "text": [
            "/usr/local/lib/python3.7/dist-packages/IPython/core/interactiveshell.py:2882: FutureWarning: The error_bad_lines argument has been deprecated and will be removed in a future version.\n",
            "\n",
            "\n",
            "  exec(code_obj, self.user_global_ns, self.user_ns)\n",
            "b'Skipping line 41589: expected 4 fields, saw 11\\nSkipping line 51628: expected 4 fields, saw 7\\nSkipping line 114465: expected 4 fields, saw 5\\n'\n",
            "b'Skipping line 142496: expected 4 fields, saw 8\\nSkipping line 189732: expected 4 fields, saw 6\\nSkipping line 245218: expected 4 fields, saw 7\\n'\n",
            "b'Skipping line 388430: expected 4 fields, saw 5\\n'\n",
            "/usr/local/lib/python3.7/dist-packages/IPython/core/interactiveshell.py:2882: DtypeWarning: Columns (2,3) have mixed types.Specify dtype option on import or set low_memory=False.\n",
            "  exec(code_obj, self.user_global_ns, self.user_ns)\n"
          ]
        }
      ]
    },
    {
      "cell_type": "code",
      "source": [
        "comments.head()"
      ],
      "metadata": {
        "execution": {
          "iopub.status.busy": "2022-02-08T05:24:50.899589Z",
          "iopub.execute_input": "2022-02-08T05:24:50.899808Z",
          "iopub.status.idle": "2022-02-08T05:24:50.922958Z",
          "shell.execute_reply.started": "2022-02-08T05:24:50.899783Z",
          "shell.execute_reply": "2022-02-08T05:24:50.921972Z"
        },
        "trusted": true,
        "colab": {
          "base_uri": "https://localhost:8080/",
          "height": 206
        },
        "id": "p-Cj_uVt1Srx",
        "outputId": "83c5ef1d-ac62-49eb-9f18-65336c2177d1"
      },
      "execution_count": 13,
      "outputs": [
        {
          "output_type": "execute_result",
          "data": {
            "text/html": [
              "\n",
              "  <div id=\"df-859d17db-a723-4884-a48d-79305fbcc153\">\n",
              "    <div class=\"colab-df-container\">\n",
              "      <div>\n",
              "<style scoped>\n",
              "    .dataframe tbody tr th:only-of-type {\n",
              "        vertical-align: middle;\n",
              "    }\n",
              "\n",
              "    .dataframe tbody tr th {\n",
              "        vertical-align: top;\n",
              "    }\n",
              "\n",
              "    .dataframe thead th {\n",
              "        text-align: right;\n",
              "    }\n",
              "</style>\n",
              "<table border=\"1\" class=\"dataframe\">\n",
              "  <thead>\n",
              "    <tr style=\"text-align: right;\">\n",
              "      <th></th>\n",
              "      <th>video_id</th>\n",
              "      <th>comment_text</th>\n",
              "      <th>likes</th>\n",
              "      <th>replies</th>\n",
              "    </tr>\n",
              "  </thead>\n",
              "  <tbody>\n",
              "    <tr>\n",
              "      <th>0</th>\n",
              "      <td>XpVt6Z1Gjjo</td>\n",
              "      <td>Logan Paul it's yo big day ‼️‼️‼️</td>\n",
              "      <td>4</td>\n",
              "      <td>0</td>\n",
              "    </tr>\n",
              "    <tr>\n",
              "      <th>1</th>\n",
              "      <td>XpVt6Z1Gjjo</td>\n",
              "      <td>I've been following you from the start of your...</td>\n",
              "      <td>3</td>\n",
              "      <td>0</td>\n",
              "    </tr>\n",
              "    <tr>\n",
              "      <th>2</th>\n",
              "      <td>XpVt6Z1Gjjo</td>\n",
              "      <td>Say hi to Kong and maverick for me</td>\n",
              "      <td>3</td>\n",
              "      <td>0</td>\n",
              "    </tr>\n",
              "    <tr>\n",
              "      <th>3</th>\n",
              "      <td>XpVt6Z1Gjjo</td>\n",
              "      <td>MY FAN . attendance</td>\n",
              "      <td>3</td>\n",
              "      <td>0</td>\n",
              "    </tr>\n",
              "    <tr>\n",
              "      <th>4</th>\n",
              "      <td>XpVt6Z1Gjjo</td>\n",
              "      <td>trending 😉</td>\n",
              "      <td>3</td>\n",
              "      <td>0</td>\n",
              "    </tr>\n",
              "  </tbody>\n",
              "</table>\n",
              "</div>\n",
              "      <button class=\"colab-df-convert\" onclick=\"convertToInteractive('df-859d17db-a723-4884-a48d-79305fbcc153')\"\n",
              "              title=\"Convert this dataframe to an interactive table.\"\n",
              "              style=\"display:none;\">\n",
              "        \n",
              "  <svg xmlns=\"http://www.w3.org/2000/svg\" height=\"24px\"viewBox=\"0 0 24 24\"\n",
              "       width=\"24px\">\n",
              "    <path d=\"M0 0h24v24H0V0z\" fill=\"none\"/>\n",
              "    <path d=\"M18.56 5.44l.94 2.06.94-2.06 2.06-.94-2.06-.94-.94-2.06-.94 2.06-2.06.94zm-11 1L8.5 8.5l.94-2.06 2.06-.94-2.06-.94L8.5 2.5l-.94 2.06-2.06.94zm10 10l.94 2.06.94-2.06 2.06-.94-2.06-.94-.94-2.06-.94 2.06-2.06.94z\"/><path d=\"M17.41 7.96l-1.37-1.37c-.4-.4-.92-.59-1.43-.59-.52 0-1.04.2-1.43.59L10.3 9.45l-7.72 7.72c-.78.78-.78 2.05 0 2.83L4 21.41c.39.39.9.59 1.41.59.51 0 1.02-.2 1.41-.59l7.78-7.78 2.81-2.81c.8-.78.8-2.07 0-2.86zM5.41 20L4 18.59l7.72-7.72 1.47 1.35L5.41 20z\"/>\n",
              "  </svg>\n",
              "      </button>\n",
              "      \n",
              "  <style>\n",
              "    .colab-df-container {\n",
              "      display:flex;\n",
              "      flex-wrap:wrap;\n",
              "      gap: 12px;\n",
              "    }\n",
              "\n",
              "    .colab-df-convert {\n",
              "      background-color: #E8F0FE;\n",
              "      border: none;\n",
              "      border-radius: 50%;\n",
              "      cursor: pointer;\n",
              "      display: none;\n",
              "      fill: #1967D2;\n",
              "      height: 32px;\n",
              "      padding: 0 0 0 0;\n",
              "      width: 32px;\n",
              "    }\n",
              "\n",
              "    .colab-df-convert:hover {\n",
              "      background-color: #E2EBFA;\n",
              "      box-shadow: 0px 1px 2px rgba(60, 64, 67, 0.3), 0px 1px 3px 1px rgba(60, 64, 67, 0.15);\n",
              "      fill: #174EA6;\n",
              "    }\n",
              "\n",
              "    [theme=dark] .colab-df-convert {\n",
              "      background-color: #3B4455;\n",
              "      fill: #D2E3FC;\n",
              "    }\n",
              "\n",
              "    [theme=dark] .colab-df-convert:hover {\n",
              "      background-color: #434B5C;\n",
              "      box-shadow: 0px 1px 3px 1px rgba(0, 0, 0, 0.15);\n",
              "      filter: drop-shadow(0px 1px 2px rgba(0, 0, 0, 0.3));\n",
              "      fill: #FFFFFF;\n",
              "    }\n",
              "  </style>\n",
              "\n",
              "      <script>\n",
              "        const buttonEl =\n",
              "          document.querySelector('#df-859d17db-a723-4884-a48d-79305fbcc153 button.colab-df-convert');\n",
              "        buttonEl.style.display =\n",
              "          google.colab.kernel.accessAllowed ? 'block' : 'none';\n",
              "\n",
              "        async function convertToInteractive(key) {\n",
              "          const element = document.querySelector('#df-859d17db-a723-4884-a48d-79305fbcc153');\n",
              "          const dataTable =\n",
              "            await google.colab.kernel.invokeFunction('convertToInteractive',\n",
              "                                                     [key], {});\n",
              "          if (!dataTable) return;\n",
              "\n",
              "          const docLinkHtml = 'Like what you see? Visit the ' +\n",
              "            '<a target=\"_blank\" href=https://colab.research.google.com/notebooks/data_table.ipynb>data table notebook</a>'\n",
              "            + ' to learn more about interactive tables.';\n",
              "          element.innerHTML = '';\n",
              "          dataTable['output_type'] = 'display_data';\n",
              "          await google.colab.output.renderOutput(dataTable, element);\n",
              "          const docLink = document.createElement('div');\n",
              "          docLink.innerHTML = docLinkHtml;\n",
              "          element.appendChild(docLink);\n",
              "        }\n",
              "      </script>\n",
              "    </div>\n",
              "  </div>\n",
              "  "
            ],
            "text/plain": [
              "      video_id                                       comment_text likes replies\n",
              "0  XpVt6Z1Gjjo                  Logan Paul it's yo big day ‼️‼️‼️     4       0\n",
              "1  XpVt6Z1Gjjo  I've been following you from the start of your...     3       0\n",
              "2  XpVt6Z1Gjjo                 Say hi to Kong and maverick for me     3       0\n",
              "3  XpVt6Z1Gjjo                                MY FAN . attendance     3       0\n",
              "4  XpVt6Z1Gjjo                                         trending 😉     3       0"
            ]
          },
          "metadata": {},
          "execution_count": 13
        }
      ]
    },
    {
      "cell_type": "code",
      "source": [
        "comments.shape"
      ],
      "metadata": {
        "execution": {
          "iopub.status.busy": "2022-02-08T05:24:50.925345Z",
          "iopub.execute_input": "2022-02-08T05:24:50.925853Z",
          "iopub.status.idle": "2022-02-08T05:24:50.931587Z",
          "shell.execute_reply.started": "2022-02-08T05:24:50.925821Z",
          "shell.execute_reply": "2022-02-08T05:24:50.930644Z"
        },
        "trusted": true,
        "colab": {
          "base_uri": "https://localhost:8080/"
        },
        "id": "LuDyG5-O1Srz",
        "outputId": "43b95a9e-d6b0-4433-edb7-9ff5d4116dd0"
      },
      "execution_count": 14,
      "outputs": [
        {
          "output_type": "execute_result",
          "data": {
            "text/plain": [
              "(691400, 4)"
            ]
          },
          "metadata": {},
          "execution_count": 14
        }
      ]
    },
    {
      "cell_type": "code",
      "source": [
        "comments.isnull().sum()"
      ],
      "metadata": {
        "execution": {
          "iopub.status.busy": "2022-02-08T06:18:30.803930Z",
          "iopub.execute_input": "2022-02-08T06:18:30.804691Z",
          "iopub.status.idle": "2022-02-08T06:18:31.117549Z",
          "shell.execute_reply.started": "2022-02-08T06:18:30.804636Z",
          "shell.execute_reply": "2022-02-08T06:18:31.116680Z"
        },
        "trusted": true,
        "colab": {
          "base_uri": "https://localhost:8080/"
        },
        "id": "ynZGCPsM1Sr0",
        "outputId": "d07883c6-75bb-4b3b-e6dc-36d04a3910c5"
      },
      "execution_count": 15,
      "outputs": [
        {
          "output_type": "execute_result",
          "data": {
            "text/plain": [
              "video_id         0\n",
              "comment_text    25\n",
              "likes            0\n",
              "replies          0\n",
              "dtype: int64"
            ]
          },
          "metadata": {},
          "execution_count": 15
        }
      ]
    },
    {
      "cell_type": "code",
      "source": [
        "comments.dropna(inplace=True)"
      ],
      "metadata": {
        "execution": {
          "iopub.status.busy": "2022-02-08T05:24:51.256593Z",
          "iopub.execute_input": "2022-02-08T05:24:51.256891Z",
          "iopub.status.idle": "2022-02-08T05:24:51.621735Z",
          "shell.execute_reply.started": "2022-02-08T05:24:51.256860Z",
          "shell.execute_reply": "2022-02-08T05:24:51.620950Z"
        },
        "trusted": true,
        "id": "kCMut5BI1Sr2"
      },
      "execution_count": 16,
      "outputs": []
    },
    {
      "cell_type": "code",
      "source": [
        "comments.isnull().sum()"
      ],
      "metadata": {
        "execution": {
          "iopub.status.busy": "2022-02-08T05:24:51.622988Z",
          "iopub.execute_input": "2022-02-08T05:24:51.623452Z",
          "iopub.status.idle": "2022-02-08T05:24:51.951236Z",
          "shell.execute_reply.started": "2022-02-08T05:24:51.623407Z",
          "shell.execute_reply": "2022-02-08T05:24:51.950398Z"
        },
        "trusted": true,
        "colab": {
          "base_uri": "https://localhost:8080/"
        },
        "id": "i2Ta13O81Sr3",
        "outputId": "04819a2d-70c6-4318-cded-31a7709f3849"
      },
      "execution_count": 17,
      "outputs": [
        {
          "output_type": "execute_result",
          "data": {
            "text/plain": [
              "video_id        0\n",
              "comment_text    0\n",
              "likes           0\n",
              "replies         0\n",
              "dtype: int64"
            ]
          },
          "metadata": {},
          "execution_count": 17
        }
      ]
    },
    {
      "cell_type": "markdown",
      "source": [
        "**Performing Sentiment Analysis**"
      ],
      "metadata": {
        "id": "HlVf22QY1Sr6"
      }
    },
    {
      "cell_type": "code",
      "source": [
        "!pip install textblob"
      ],
      "metadata": {
        "execution": {
          "iopub.status.busy": "2022-02-08T05:24:51.952920Z",
          "iopub.execute_input": "2022-02-08T05:24:51.954302Z",
          "iopub.status.idle": "2022-02-08T05:25:01.977158Z",
          "shell.execute_reply.started": "2022-02-08T05:24:51.954269Z",
          "shell.execute_reply": "2022-02-08T05:25:01.976135Z"
        },
        "trusted": true,
        "colab": {
          "base_uri": "https://localhost:8080/"
        },
        "id": "jFtspmLo1Sr_",
        "outputId": "fda4a190-6f0d-450e-fecd-d7ef78be7339"
      },
      "execution_count": 18,
      "outputs": [
        {
          "output_type": "stream",
          "name": "stdout",
          "text": [
            "Requirement already satisfied: textblob in /usr/local/lib/python3.7/dist-packages (0.15.3)\n",
            "Requirement already satisfied: nltk>=3.1 in /usr/local/lib/python3.7/dist-packages (from textblob) (3.2.5)\n",
            "Requirement already satisfied: six in /usr/local/lib/python3.7/dist-packages (from nltk>=3.1->textblob) (1.15.0)\n"
          ]
        }
      ]
    },
    {
      "cell_type": "code",
      "source": [
        "from textblob import TextBlob\n",
        "TextBlob(\"yu are the best\").sentiment.polarity"
      ],
      "metadata": {
        "execution": {
          "iopub.status.busy": "2022-02-08T06:18:40.124368Z",
          "iopub.execute_input": "2022-02-08T06:18:40.124882Z",
          "iopub.status.idle": "2022-02-08T06:18:40.130791Z",
          "shell.execute_reply.started": "2022-02-08T06:18:40.124843Z",
          "shell.execute_reply": "2022-02-08T06:18:40.129930Z"
        },
        "trusted": true,
        "colab": {
          "base_uri": "https://localhost:8080/"
        },
        "id": "v299TkIf1SsE",
        "outputId": "1822a5c5-4d3e-4eea-8441-464ebaaeffea"
      },
      "execution_count": 19,
      "outputs": [
        {
          "output_type": "execute_result",
          "data": {
            "text/plain": [
              "1.0"
            ]
          },
          "metadata": {},
          "execution_count": 19
        }
      ]
    },
    {
      "cell_type": "code",
      "source": [
        "polarity = []\n",
        "\n",
        "for comment in comments['comment_text']:\n",
        "    try:\n",
        "        polarity.append(TextBlob(comment).sentiment.polarity)\n",
        "    except:\n",
        "        polarity.append(0)"
      ],
      "metadata": {
        "execution": {
          "iopub.status.busy": "2022-02-08T05:25:03.651911Z",
          "iopub.execute_input": "2022-02-08T05:25:03.652184Z",
          "iopub.status.idle": "2022-02-08T05:28:07.315209Z",
          "shell.execute_reply.started": "2022-02-08T05:25:03.652135Z",
          "shell.execute_reply": "2022-02-08T05:28:07.314325Z"
        },
        "trusted": true,
        "id": "MpQn_oFU1SsH"
      },
      "execution_count": 20,
      "outputs": []
    },
    {
      "cell_type": "code",
      "source": [
        "polarity[0:10]"
      ],
      "metadata": {
        "execution": {
          "iopub.status.busy": "2022-02-08T05:28:07.316742Z",
          "iopub.execute_input": "2022-02-08T05:28:07.317340Z",
          "iopub.status.idle": "2022-02-08T05:28:07.323331Z",
          "shell.execute_reply.started": "2022-02-08T05:28:07.317292Z",
          "shell.execute_reply": "2022-02-08T05:28:07.322495Z"
        },
        "trusted": true,
        "colab": {
          "base_uri": "https://localhost:8080/"
        },
        "id": "thE1_4qc1SsJ",
        "outputId": "cc2e5de4-dd32-42b4-c0da-1e488a765256"
      },
      "execution_count": 21,
      "outputs": [
        {
          "output_type": "execute_result",
          "data": {
            "text/plain": [
              "[0.0, 0.0, 0.0, 0.0, 0.0, 0.0, 0.0, 0.0, 0.8, -0.13571428571428573]"
            ]
          },
          "metadata": {},
          "execution_count": 21
        }
      ]
    },
    {
      "cell_type": "code",
      "source": [
        "comments['polarity'] = polarity"
      ],
      "metadata": {
        "execution": {
          "iopub.status.busy": "2022-02-08T05:28:07.324670Z",
          "iopub.execute_input": "2022-02-08T05:28:07.325039Z",
          "iopub.status.idle": "2022-02-08T05:28:07.454840Z",
          "shell.execute_reply.started": "2022-02-08T05:28:07.324987Z",
          "shell.execute_reply": "2022-02-08T05:28:07.454011Z"
        },
        "trusted": true,
        "id": "MZN-Tk-i1SsL"
      },
      "execution_count": 22,
      "outputs": []
    },
    {
      "cell_type": "code",
      "source": [
        "comments.head()"
      ],
      "metadata": {
        "execution": {
          "iopub.status.busy": "2022-02-08T05:28:07.456148Z",
          "iopub.execute_input": "2022-02-08T05:28:07.456946Z",
          "iopub.status.idle": "2022-02-08T05:28:07.471108Z",
          "shell.execute_reply.started": "2022-02-08T05:28:07.456903Z",
          "shell.execute_reply": "2022-02-08T05:28:07.470182Z"
        },
        "trusted": true,
        "colab": {
          "base_uri": "https://localhost:8080/",
          "height": 206
        },
        "id": "MRPuDdIa1SsN",
        "outputId": "fa3e550d-50e7-4d62-b215-8c52777b7684"
      },
      "execution_count": 23,
      "outputs": [
        {
          "output_type": "execute_result",
          "data": {
            "text/html": [
              "\n",
              "  <div id=\"df-557b44c6-7438-48e4-921f-50d663d26713\">\n",
              "    <div class=\"colab-df-container\">\n",
              "      <div>\n",
              "<style scoped>\n",
              "    .dataframe tbody tr th:only-of-type {\n",
              "        vertical-align: middle;\n",
              "    }\n",
              "\n",
              "    .dataframe tbody tr th {\n",
              "        vertical-align: top;\n",
              "    }\n",
              "\n",
              "    .dataframe thead th {\n",
              "        text-align: right;\n",
              "    }\n",
              "</style>\n",
              "<table border=\"1\" class=\"dataframe\">\n",
              "  <thead>\n",
              "    <tr style=\"text-align: right;\">\n",
              "      <th></th>\n",
              "      <th>video_id</th>\n",
              "      <th>comment_text</th>\n",
              "      <th>likes</th>\n",
              "      <th>replies</th>\n",
              "      <th>polarity</th>\n",
              "    </tr>\n",
              "  </thead>\n",
              "  <tbody>\n",
              "    <tr>\n",
              "      <th>0</th>\n",
              "      <td>XpVt6Z1Gjjo</td>\n",
              "      <td>Logan Paul it's yo big day ‼️‼️‼️</td>\n",
              "      <td>4</td>\n",
              "      <td>0</td>\n",
              "      <td>0.0</td>\n",
              "    </tr>\n",
              "    <tr>\n",
              "      <th>1</th>\n",
              "      <td>XpVt6Z1Gjjo</td>\n",
              "      <td>I've been following you from the start of your...</td>\n",
              "      <td>3</td>\n",
              "      <td>0</td>\n",
              "      <td>0.0</td>\n",
              "    </tr>\n",
              "    <tr>\n",
              "      <th>2</th>\n",
              "      <td>XpVt6Z1Gjjo</td>\n",
              "      <td>Say hi to Kong and maverick for me</td>\n",
              "      <td>3</td>\n",
              "      <td>0</td>\n",
              "      <td>0.0</td>\n",
              "    </tr>\n",
              "    <tr>\n",
              "      <th>3</th>\n",
              "      <td>XpVt6Z1Gjjo</td>\n",
              "      <td>MY FAN . attendance</td>\n",
              "      <td>3</td>\n",
              "      <td>0</td>\n",
              "      <td>0.0</td>\n",
              "    </tr>\n",
              "    <tr>\n",
              "      <th>4</th>\n",
              "      <td>XpVt6Z1Gjjo</td>\n",
              "      <td>trending 😉</td>\n",
              "      <td>3</td>\n",
              "      <td>0</td>\n",
              "      <td>0.0</td>\n",
              "    </tr>\n",
              "  </tbody>\n",
              "</table>\n",
              "</div>\n",
              "      <button class=\"colab-df-convert\" onclick=\"convertToInteractive('df-557b44c6-7438-48e4-921f-50d663d26713')\"\n",
              "              title=\"Convert this dataframe to an interactive table.\"\n",
              "              style=\"display:none;\">\n",
              "        \n",
              "  <svg xmlns=\"http://www.w3.org/2000/svg\" height=\"24px\"viewBox=\"0 0 24 24\"\n",
              "       width=\"24px\">\n",
              "    <path d=\"M0 0h24v24H0V0z\" fill=\"none\"/>\n",
              "    <path d=\"M18.56 5.44l.94 2.06.94-2.06 2.06-.94-2.06-.94-.94-2.06-.94 2.06-2.06.94zm-11 1L8.5 8.5l.94-2.06 2.06-.94-2.06-.94L8.5 2.5l-.94 2.06-2.06.94zm10 10l.94 2.06.94-2.06 2.06-.94-2.06-.94-.94-2.06-.94 2.06-2.06.94z\"/><path d=\"M17.41 7.96l-1.37-1.37c-.4-.4-.92-.59-1.43-.59-.52 0-1.04.2-1.43.59L10.3 9.45l-7.72 7.72c-.78.78-.78 2.05 0 2.83L4 21.41c.39.39.9.59 1.41.59.51 0 1.02-.2 1.41-.59l7.78-7.78 2.81-2.81c.8-.78.8-2.07 0-2.86zM5.41 20L4 18.59l7.72-7.72 1.47 1.35L5.41 20z\"/>\n",
              "  </svg>\n",
              "      </button>\n",
              "      \n",
              "  <style>\n",
              "    .colab-df-container {\n",
              "      display:flex;\n",
              "      flex-wrap:wrap;\n",
              "      gap: 12px;\n",
              "    }\n",
              "\n",
              "    .colab-df-convert {\n",
              "      background-color: #E8F0FE;\n",
              "      border: none;\n",
              "      border-radius: 50%;\n",
              "      cursor: pointer;\n",
              "      display: none;\n",
              "      fill: #1967D2;\n",
              "      height: 32px;\n",
              "      padding: 0 0 0 0;\n",
              "      width: 32px;\n",
              "    }\n",
              "\n",
              "    .colab-df-convert:hover {\n",
              "      background-color: #E2EBFA;\n",
              "      box-shadow: 0px 1px 2px rgba(60, 64, 67, 0.3), 0px 1px 3px 1px rgba(60, 64, 67, 0.15);\n",
              "      fill: #174EA6;\n",
              "    }\n",
              "\n",
              "    [theme=dark] .colab-df-convert {\n",
              "      background-color: #3B4455;\n",
              "      fill: #D2E3FC;\n",
              "    }\n",
              "\n",
              "    [theme=dark] .colab-df-convert:hover {\n",
              "      background-color: #434B5C;\n",
              "      box-shadow: 0px 1px 3px 1px rgba(0, 0, 0, 0.15);\n",
              "      filter: drop-shadow(0px 1px 2px rgba(0, 0, 0, 0.3));\n",
              "      fill: #FFFFFF;\n",
              "    }\n",
              "  </style>\n",
              "\n",
              "      <script>\n",
              "        const buttonEl =\n",
              "          document.querySelector('#df-557b44c6-7438-48e4-921f-50d663d26713 button.colab-df-convert');\n",
              "        buttonEl.style.display =\n",
              "          google.colab.kernel.accessAllowed ? 'block' : 'none';\n",
              "\n",
              "        async function convertToInteractive(key) {\n",
              "          const element = document.querySelector('#df-557b44c6-7438-48e4-921f-50d663d26713');\n",
              "          const dataTable =\n",
              "            await google.colab.kernel.invokeFunction('convertToInteractive',\n",
              "                                                     [key], {});\n",
              "          if (!dataTable) return;\n",
              "\n",
              "          const docLinkHtml = 'Like what you see? Visit the ' +\n",
              "            '<a target=\"_blank\" href=https://colab.research.google.com/notebooks/data_table.ipynb>data table notebook</a>'\n",
              "            + ' to learn more about interactive tables.';\n",
              "          element.innerHTML = '';\n",
              "          dataTable['output_type'] = 'display_data';\n",
              "          await google.colab.output.renderOutput(dataTable, element);\n",
              "          const docLink = document.createElement('div');\n",
              "          docLink.innerHTML = docLinkHtml;\n",
              "          element.appendChild(docLink);\n",
              "        }\n",
              "      </script>\n",
              "    </div>\n",
              "  </div>\n",
              "  "
            ],
            "text/plain": [
              "      video_id  ... polarity\n",
              "0  XpVt6Z1Gjjo  ...      0.0\n",
              "1  XpVt6Z1Gjjo  ...      0.0\n",
              "2  XpVt6Z1Gjjo  ...      0.0\n",
              "3  XpVt6Z1Gjjo  ...      0.0\n",
              "4  XpVt6Z1Gjjo  ...      0.0\n",
              "\n",
              "[5 rows x 5 columns]"
            ]
          },
          "metadata": {},
          "execution_count": 23
        }
      ]
    },
    {
      "cell_type": "code",
      "source": [
        "comments[comments['polarity'] == 1]"
      ],
      "metadata": {
        "execution": {
          "iopub.status.busy": "2022-02-08T05:28:07.472732Z",
          "iopub.execute_input": "2022-02-08T05:28:07.473035Z",
          "iopub.status.idle": "2022-02-08T05:28:07.498959Z",
          "shell.execute_reply.started": "2022-02-08T05:28:07.472994Z",
          "shell.execute_reply": "2022-02-08T05:28:07.498383Z"
        },
        "trusted": true,
        "colab": {
          "base_uri": "https://localhost:8080/",
          "height": 424
        },
        "id": "TidMx4hO1SsP",
        "outputId": "8daaec33-984d-48ba-cfdd-ef6f538d927c"
      },
      "execution_count": 24,
      "outputs": [
        {
          "output_type": "execute_result",
          "data": {
            "text/html": [
              "\n",
              "  <div id=\"df-d3f5cd45-fbf2-4e56-a301-414793fb59da\">\n",
              "    <div class=\"colab-df-container\">\n",
              "      <div>\n",
              "<style scoped>\n",
              "    .dataframe tbody tr th:only-of-type {\n",
              "        vertical-align: middle;\n",
              "    }\n",
              "\n",
              "    .dataframe tbody tr th {\n",
              "        vertical-align: top;\n",
              "    }\n",
              "\n",
              "    .dataframe thead th {\n",
              "        text-align: right;\n",
              "    }\n",
              "</style>\n",
              "<table border=\"1\" class=\"dataframe\">\n",
              "  <thead>\n",
              "    <tr style=\"text-align: right;\">\n",
              "      <th></th>\n",
              "      <th>video_id</th>\n",
              "      <th>comment_text</th>\n",
              "      <th>likes</th>\n",
              "      <th>replies</th>\n",
              "      <th>polarity</th>\n",
              "    </tr>\n",
              "  </thead>\n",
              "  <tbody>\n",
              "    <tr>\n",
              "      <th>64</th>\n",
              "      <td>XpVt6Z1Gjjo</td>\n",
              "      <td>yu are the best</td>\n",
              "      <td>1</td>\n",
              "      <td>0</td>\n",
              "      <td>1.0</td>\n",
              "    </tr>\n",
              "    <tr>\n",
              "      <th>156</th>\n",
              "      <td>cLdxuaxaQwc</td>\n",
              "      <td>Power is the disease.  Care is the cure.  Keep...</td>\n",
              "      <td>0</td>\n",
              "      <td>0</td>\n",
              "      <td>1.0</td>\n",
              "    </tr>\n",
              "    <tr>\n",
              "      <th>227</th>\n",
              "      <td>WYYvHb03Eog</td>\n",
              "      <td>YAS Can't wait to get it! I just need to sell ...</td>\n",
              "      <td>0</td>\n",
              "      <td>0</td>\n",
              "      <td>1.0</td>\n",
              "    </tr>\n",
              "    <tr>\n",
              "      <th>307</th>\n",
              "      <td>sjlHnJvXdQs</td>\n",
              "      <td>This is priceless</td>\n",
              "      <td>0</td>\n",
              "      <td>0</td>\n",
              "      <td>1.0</td>\n",
              "    </tr>\n",
              "    <tr>\n",
              "      <th>319</th>\n",
              "      <td>sjlHnJvXdQs</td>\n",
              "      <td>Summed up perfectly</td>\n",
              "      <td>0</td>\n",
              "      <td>0</td>\n",
              "      <td>1.0</td>\n",
              "    </tr>\n",
              "    <tr>\n",
              "      <th>...</th>\n",
              "      <td>...</td>\n",
              "      <td>...</td>\n",
              "      <td>...</td>\n",
              "      <td>...</td>\n",
              "      <td>...</td>\n",
              "    </tr>\n",
              "    <tr>\n",
              "      <th>691373</th>\n",
              "      <td>EoejGgUNmVU</td>\n",
              "      <td>Perfect. Every version</td>\n",
              "      <td>0</td>\n",
              "      <td>0</td>\n",
              "      <td>1.0</td>\n",
              "    </tr>\n",
              "    <tr>\n",
              "      <th>691383</th>\n",
              "      <td>EoejGgUNmVU</td>\n",
              "      <td>Me encantaaaaa &lt;3</td>\n",
              "      <td>0</td>\n",
              "      <td>0</td>\n",
              "      <td>1.0</td>\n",
              "    </tr>\n",
              "    <tr>\n",
              "      <th>691388</th>\n",
              "      <td>EoejGgUNmVU</td>\n",
              "      <td>Best song ever 🤘</td>\n",
              "      <td>0</td>\n",
              "      <td>0</td>\n",
              "      <td>1.0</td>\n",
              "    </tr>\n",
              "    <tr>\n",
              "      <th>691389</th>\n",
              "      <td>EoejGgUNmVU</td>\n",
              "      <td>excellent performance</td>\n",
              "      <td>0</td>\n",
              "      <td>0</td>\n",
              "      <td>1.0</td>\n",
              "    </tr>\n",
              "    <tr>\n",
              "      <th>691393</th>\n",
              "      <td>EoejGgUNmVU</td>\n",
              "      <td>&lt;3</td>\n",
              "      <td>0</td>\n",
              "      <td>0</td>\n",
              "      <td>1.0</td>\n",
              "    </tr>\n",
              "  </tbody>\n",
              "</table>\n",
              "<p>19390 rows × 5 columns</p>\n",
              "</div>\n",
              "      <button class=\"colab-df-convert\" onclick=\"convertToInteractive('df-d3f5cd45-fbf2-4e56-a301-414793fb59da')\"\n",
              "              title=\"Convert this dataframe to an interactive table.\"\n",
              "              style=\"display:none;\">\n",
              "        \n",
              "  <svg xmlns=\"http://www.w3.org/2000/svg\" height=\"24px\"viewBox=\"0 0 24 24\"\n",
              "       width=\"24px\">\n",
              "    <path d=\"M0 0h24v24H0V0z\" fill=\"none\"/>\n",
              "    <path d=\"M18.56 5.44l.94 2.06.94-2.06 2.06-.94-2.06-.94-.94-2.06-.94 2.06-2.06.94zm-11 1L8.5 8.5l.94-2.06 2.06-.94-2.06-.94L8.5 2.5l-.94 2.06-2.06.94zm10 10l.94 2.06.94-2.06 2.06-.94-2.06-.94-.94-2.06-.94 2.06-2.06.94z\"/><path d=\"M17.41 7.96l-1.37-1.37c-.4-.4-.92-.59-1.43-.59-.52 0-1.04.2-1.43.59L10.3 9.45l-7.72 7.72c-.78.78-.78 2.05 0 2.83L4 21.41c.39.39.9.59 1.41.59.51 0 1.02-.2 1.41-.59l7.78-7.78 2.81-2.81c.8-.78.8-2.07 0-2.86zM5.41 20L4 18.59l7.72-7.72 1.47 1.35L5.41 20z\"/>\n",
              "  </svg>\n",
              "      </button>\n",
              "      \n",
              "  <style>\n",
              "    .colab-df-container {\n",
              "      display:flex;\n",
              "      flex-wrap:wrap;\n",
              "      gap: 12px;\n",
              "    }\n",
              "\n",
              "    .colab-df-convert {\n",
              "      background-color: #E8F0FE;\n",
              "      border: none;\n",
              "      border-radius: 50%;\n",
              "      cursor: pointer;\n",
              "      display: none;\n",
              "      fill: #1967D2;\n",
              "      height: 32px;\n",
              "      padding: 0 0 0 0;\n",
              "      width: 32px;\n",
              "    }\n",
              "\n",
              "    .colab-df-convert:hover {\n",
              "      background-color: #E2EBFA;\n",
              "      box-shadow: 0px 1px 2px rgba(60, 64, 67, 0.3), 0px 1px 3px 1px rgba(60, 64, 67, 0.15);\n",
              "      fill: #174EA6;\n",
              "    }\n",
              "\n",
              "    [theme=dark] .colab-df-convert {\n",
              "      background-color: #3B4455;\n",
              "      fill: #D2E3FC;\n",
              "    }\n",
              "\n",
              "    [theme=dark] .colab-df-convert:hover {\n",
              "      background-color: #434B5C;\n",
              "      box-shadow: 0px 1px 3px 1px rgba(0, 0, 0, 0.15);\n",
              "      filter: drop-shadow(0px 1px 2px rgba(0, 0, 0, 0.3));\n",
              "      fill: #FFFFFF;\n",
              "    }\n",
              "  </style>\n",
              "\n",
              "      <script>\n",
              "        const buttonEl =\n",
              "          document.querySelector('#df-d3f5cd45-fbf2-4e56-a301-414793fb59da button.colab-df-convert');\n",
              "        buttonEl.style.display =\n",
              "          google.colab.kernel.accessAllowed ? 'block' : 'none';\n",
              "\n",
              "        async function convertToInteractive(key) {\n",
              "          const element = document.querySelector('#df-d3f5cd45-fbf2-4e56-a301-414793fb59da');\n",
              "          const dataTable =\n",
              "            await google.colab.kernel.invokeFunction('convertToInteractive',\n",
              "                                                     [key], {});\n",
              "          if (!dataTable) return;\n",
              "\n",
              "          const docLinkHtml = 'Like what you see? Visit the ' +\n",
              "            '<a target=\"_blank\" href=https://colab.research.google.com/notebooks/data_table.ipynb>data table notebook</a>'\n",
              "            + ' to learn more about interactive tables.';\n",
              "          element.innerHTML = '';\n",
              "          dataTable['output_type'] = 'display_data';\n",
              "          await google.colab.output.renderOutput(dataTable, element);\n",
              "          const docLink = document.createElement('div');\n",
              "          docLink.innerHTML = docLinkHtml;\n",
              "          element.appendChild(docLink);\n",
              "        }\n",
              "      </script>\n",
              "    </div>\n",
              "  </div>\n",
              "  "
            ],
            "text/plain": [
              "           video_id  ... polarity\n",
              "64      XpVt6Z1Gjjo  ...      1.0\n",
              "156     cLdxuaxaQwc  ...      1.0\n",
              "227     WYYvHb03Eog  ...      1.0\n",
              "307     sjlHnJvXdQs  ...      1.0\n",
              "319     sjlHnJvXdQs  ...      1.0\n",
              "...             ...  ...      ...\n",
              "691373  EoejGgUNmVU  ...      1.0\n",
              "691383  EoejGgUNmVU  ...      1.0\n",
              "691388  EoejGgUNmVU  ...      1.0\n",
              "691389  EoejGgUNmVU  ...      1.0\n",
              "691393  EoejGgUNmVU  ...      1.0\n",
              "\n",
              "[19390 rows x 5 columns]"
            ]
          },
          "metadata": {},
          "execution_count": 24
        }
      ]
    },
    {
      "cell_type": "code",
      "source": [
        "positive_coomments = comments[comments['polarity'] == 1]"
      ],
      "metadata": {
        "execution": {
          "iopub.status.busy": "2022-02-08T05:28:07.502074Z",
          "iopub.execute_input": "2022-02-08T05:28:07.502800Z",
          "iopub.status.idle": "2022-02-08T05:28:07.516034Z",
          "shell.execute_reply.started": "2022-02-08T05:28:07.502750Z",
          "shell.execute_reply": "2022-02-08T05:28:07.515429Z"
        },
        "trusted": true,
        "id": "HmGdvb-01SsR"
      },
      "execution_count": 25,
      "outputs": []
    },
    {
      "cell_type": "code",
      "source": [
        "positive_coomments.head()"
      ],
      "metadata": {
        "execution": {
          "iopub.status.busy": "2022-02-08T05:28:07.516962Z",
          "iopub.execute_input": "2022-02-08T05:28:07.517357Z",
          "iopub.status.idle": "2022-02-08T05:28:07.529963Z",
          "shell.execute_reply.started": "2022-02-08T05:28:07.517323Z",
          "shell.execute_reply": "2022-02-08T05:28:07.529057Z"
        },
        "trusted": true,
        "colab": {
          "base_uri": "https://localhost:8080/",
          "height": 206
        },
        "id": "eTlYS7XG1SsS",
        "outputId": "f421b3ef-7bc3-4ce2-8de7-543d7ff742da"
      },
      "execution_count": 26,
      "outputs": [
        {
          "output_type": "execute_result",
          "data": {
            "text/html": [
              "\n",
              "  <div id=\"df-efa54bc5-d9b7-472e-9601-e27a405d0f14\">\n",
              "    <div class=\"colab-df-container\">\n",
              "      <div>\n",
              "<style scoped>\n",
              "    .dataframe tbody tr th:only-of-type {\n",
              "        vertical-align: middle;\n",
              "    }\n",
              "\n",
              "    .dataframe tbody tr th {\n",
              "        vertical-align: top;\n",
              "    }\n",
              "\n",
              "    .dataframe thead th {\n",
              "        text-align: right;\n",
              "    }\n",
              "</style>\n",
              "<table border=\"1\" class=\"dataframe\">\n",
              "  <thead>\n",
              "    <tr style=\"text-align: right;\">\n",
              "      <th></th>\n",
              "      <th>video_id</th>\n",
              "      <th>comment_text</th>\n",
              "      <th>likes</th>\n",
              "      <th>replies</th>\n",
              "      <th>polarity</th>\n",
              "    </tr>\n",
              "  </thead>\n",
              "  <tbody>\n",
              "    <tr>\n",
              "      <th>64</th>\n",
              "      <td>XpVt6Z1Gjjo</td>\n",
              "      <td>yu are the best</td>\n",
              "      <td>1</td>\n",
              "      <td>0</td>\n",
              "      <td>1.0</td>\n",
              "    </tr>\n",
              "    <tr>\n",
              "      <th>156</th>\n",
              "      <td>cLdxuaxaQwc</td>\n",
              "      <td>Power is the disease.  Care is the cure.  Keep...</td>\n",
              "      <td>0</td>\n",
              "      <td>0</td>\n",
              "      <td>1.0</td>\n",
              "    </tr>\n",
              "    <tr>\n",
              "      <th>227</th>\n",
              "      <td>WYYvHb03Eog</td>\n",
              "      <td>YAS Can't wait to get it! I just need to sell ...</td>\n",
              "      <td>0</td>\n",
              "      <td>0</td>\n",
              "      <td>1.0</td>\n",
              "    </tr>\n",
              "    <tr>\n",
              "      <th>307</th>\n",
              "      <td>sjlHnJvXdQs</td>\n",
              "      <td>This is priceless</td>\n",
              "      <td>0</td>\n",
              "      <td>0</td>\n",
              "      <td>1.0</td>\n",
              "    </tr>\n",
              "    <tr>\n",
              "      <th>319</th>\n",
              "      <td>sjlHnJvXdQs</td>\n",
              "      <td>Summed up perfectly</td>\n",
              "      <td>0</td>\n",
              "      <td>0</td>\n",
              "      <td>1.0</td>\n",
              "    </tr>\n",
              "  </tbody>\n",
              "</table>\n",
              "</div>\n",
              "      <button class=\"colab-df-convert\" onclick=\"convertToInteractive('df-efa54bc5-d9b7-472e-9601-e27a405d0f14')\"\n",
              "              title=\"Convert this dataframe to an interactive table.\"\n",
              "              style=\"display:none;\">\n",
              "        \n",
              "  <svg xmlns=\"http://www.w3.org/2000/svg\" height=\"24px\"viewBox=\"0 0 24 24\"\n",
              "       width=\"24px\">\n",
              "    <path d=\"M0 0h24v24H0V0z\" fill=\"none\"/>\n",
              "    <path d=\"M18.56 5.44l.94 2.06.94-2.06 2.06-.94-2.06-.94-.94-2.06-.94 2.06-2.06.94zm-11 1L8.5 8.5l.94-2.06 2.06-.94-2.06-.94L8.5 2.5l-.94 2.06-2.06.94zm10 10l.94 2.06.94-2.06 2.06-.94-2.06-.94-.94-2.06-.94 2.06-2.06.94z\"/><path d=\"M17.41 7.96l-1.37-1.37c-.4-.4-.92-.59-1.43-.59-.52 0-1.04.2-1.43.59L10.3 9.45l-7.72 7.72c-.78.78-.78 2.05 0 2.83L4 21.41c.39.39.9.59 1.41.59.51 0 1.02-.2 1.41-.59l7.78-7.78 2.81-2.81c.8-.78.8-2.07 0-2.86zM5.41 20L4 18.59l7.72-7.72 1.47 1.35L5.41 20z\"/>\n",
              "  </svg>\n",
              "      </button>\n",
              "      \n",
              "  <style>\n",
              "    .colab-df-container {\n",
              "      display:flex;\n",
              "      flex-wrap:wrap;\n",
              "      gap: 12px;\n",
              "    }\n",
              "\n",
              "    .colab-df-convert {\n",
              "      background-color: #E8F0FE;\n",
              "      border: none;\n",
              "      border-radius: 50%;\n",
              "      cursor: pointer;\n",
              "      display: none;\n",
              "      fill: #1967D2;\n",
              "      height: 32px;\n",
              "      padding: 0 0 0 0;\n",
              "      width: 32px;\n",
              "    }\n",
              "\n",
              "    .colab-df-convert:hover {\n",
              "      background-color: #E2EBFA;\n",
              "      box-shadow: 0px 1px 2px rgba(60, 64, 67, 0.3), 0px 1px 3px 1px rgba(60, 64, 67, 0.15);\n",
              "      fill: #174EA6;\n",
              "    }\n",
              "\n",
              "    [theme=dark] .colab-df-convert {\n",
              "      background-color: #3B4455;\n",
              "      fill: #D2E3FC;\n",
              "    }\n",
              "\n",
              "    [theme=dark] .colab-df-convert:hover {\n",
              "      background-color: #434B5C;\n",
              "      box-shadow: 0px 1px 3px 1px rgba(0, 0, 0, 0.15);\n",
              "      filter: drop-shadow(0px 1px 2px rgba(0, 0, 0, 0.3));\n",
              "      fill: #FFFFFF;\n",
              "    }\n",
              "  </style>\n",
              "\n",
              "      <script>\n",
              "        const buttonEl =\n",
              "          document.querySelector('#df-efa54bc5-d9b7-472e-9601-e27a405d0f14 button.colab-df-convert');\n",
              "        buttonEl.style.display =\n",
              "          google.colab.kernel.accessAllowed ? 'block' : 'none';\n",
              "\n",
              "        async function convertToInteractive(key) {\n",
              "          const element = document.querySelector('#df-efa54bc5-d9b7-472e-9601-e27a405d0f14');\n",
              "          const dataTable =\n",
              "            await google.colab.kernel.invokeFunction('convertToInteractive',\n",
              "                                                     [key], {});\n",
              "          if (!dataTable) return;\n",
              "\n",
              "          const docLinkHtml = 'Like what you see? Visit the ' +\n",
              "            '<a target=\"_blank\" href=https://colab.research.google.com/notebooks/data_table.ipynb>data table notebook</a>'\n",
              "            + ' to learn more about interactive tables.';\n",
              "          element.innerHTML = '';\n",
              "          dataTable['output_type'] = 'display_data';\n",
              "          await google.colab.output.renderOutput(dataTable, element);\n",
              "          const docLink = document.createElement('div');\n",
              "          docLink.innerHTML = docLinkHtml;\n",
              "          element.appendChild(docLink);\n",
              "        }\n",
              "      </script>\n",
              "    </div>\n",
              "  </div>\n",
              "  "
            ],
            "text/plain": [
              "        video_id  ... polarity\n",
              "64   XpVt6Z1Gjjo  ...      1.0\n",
              "156  cLdxuaxaQwc  ...      1.0\n",
              "227  WYYvHb03Eog  ...      1.0\n",
              "307  sjlHnJvXdQs  ...      1.0\n",
              "319  sjlHnJvXdQs  ...      1.0\n",
              "\n",
              "[5 rows x 5 columns]"
            ]
          },
          "metadata": {},
          "execution_count": 26
        }
      ]
    },
    {
      "cell_type": "code",
      "source": [
        "negative_coomments = comments[comments['polarity'] == -1]"
      ],
      "metadata": {
        "execution": {
          "iopub.status.busy": "2022-02-08T05:28:07.531352Z",
          "iopub.execute_input": "2022-02-08T05:28:07.532540Z",
          "iopub.status.idle": "2022-02-08T05:28:07.540014Z",
          "shell.execute_reply.started": "2022-02-08T05:28:07.532505Z",
          "shell.execute_reply": "2022-02-08T05:28:07.539318Z"
        },
        "trusted": true,
        "id": "JMuaL2pr1SsU"
      },
      "execution_count": 27,
      "outputs": []
    },
    {
      "cell_type": "code",
      "source": [
        "negative_coomments.head()"
      ],
      "metadata": {
        "execution": {
          "iopub.status.busy": "2022-02-08T05:28:07.541243Z",
          "iopub.execute_input": "2022-02-08T05:28:07.541646Z",
          "iopub.status.idle": "2022-02-08T05:28:07.554275Z",
          "shell.execute_reply.started": "2022-02-08T05:28:07.541611Z",
          "shell.execute_reply": "2022-02-08T05:28:07.553675Z"
        },
        "trusted": true,
        "colab": {
          "base_uri": "https://localhost:8080/",
          "height": 206
        },
        "id": "8c9Fu34D1SsV",
        "outputId": "98397479-dd97-40dc-eaf4-86b18d8f6d28"
      },
      "execution_count": 28,
      "outputs": [
        {
          "output_type": "execute_result",
          "data": {
            "text/html": [
              "\n",
              "  <div id=\"df-5d44000a-36f6-4c25-987e-4496270f4c6e\">\n",
              "    <div class=\"colab-df-container\">\n",
              "      <div>\n",
              "<style scoped>\n",
              "    .dataframe tbody tr th:only-of-type {\n",
              "        vertical-align: middle;\n",
              "    }\n",
              "\n",
              "    .dataframe tbody tr th {\n",
              "        vertical-align: top;\n",
              "    }\n",
              "\n",
              "    .dataframe thead th {\n",
              "        text-align: right;\n",
              "    }\n",
              "</style>\n",
              "<table border=\"1\" class=\"dataframe\">\n",
              "  <thead>\n",
              "    <tr style=\"text-align: right;\">\n",
              "      <th></th>\n",
              "      <th>video_id</th>\n",
              "      <th>comment_text</th>\n",
              "      <th>likes</th>\n",
              "      <th>replies</th>\n",
              "      <th>polarity</th>\n",
              "    </tr>\n",
              "  </thead>\n",
              "  <tbody>\n",
              "    <tr>\n",
              "      <th>512</th>\n",
              "      <td>8wNr-NQImFg</td>\n",
              "      <td>BEN CARSON IS THE MAN!!!!! THEY HATE HIM CAUSE...</td>\n",
              "      <td>0</td>\n",
              "      <td>0</td>\n",
              "      <td>-1.0</td>\n",
              "    </tr>\n",
              "    <tr>\n",
              "      <th>562</th>\n",
              "      <td>8wNr-NQImFg</td>\n",
              "      <td>Well… The brain surgeon Ben Carson just proved...</td>\n",
              "      <td>0</td>\n",
              "      <td>0</td>\n",
              "      <td>-1.0</td>\n",
              "    </tr>\n",
              "    <tr>\n",
              "      <th>952</th>\n",
              "      <td>Ayb_2qbZHm4</td>\n",
              "      <td>WHY DID YOU MAKE FURRY FORCE?! SO NASTY!!!</td>\n",
              "      <td>0</td>\n",
              "      <td>0</td>\n",
              "      <td>-1.0</td>\n",
              "    </tr>\n",
              "    <tr>\n",
              "      <th>1371</th>\n",
              "      <td>vu_9muoxT50</td>\n",
              "      <td>WTF BRUH!!!!!!</td>\n",
              "      <td>0</td>\n",
              "      <td>0</td>\n",
              "      <td>-1.0</td>\n",
              "    </tr>\n",
              "    <tr>\n",
              "      <th>1391</th>\n",
              "      <td>vu_9muoxT50</td>\n",
              "      <td>cheeseus christ thats insane!!!</td>\n",
              "      <td>0</td>\n",
              "      <td>0</td>\n",
              "      <td>-1.0</td>\n",
              "    </tr>\n",
              "  </tbody>\n",
              "</table>\n",
              "</div>\n",
              "      <button class=\"colab-df-convert\" onclick=\"convertToInteractive('df-5d44000a-36f6-4c25-987e-4496270f4c6e')\"\n",
              "              title=\"Convert this dataframe to an interactive table.\"\n",
              "              style=\"display:none;\">\n",
              "        \n",
              "  <svg xmlns=\"http://www.w3.org/2000/svg\" height=\"24px\"viewBox=\"0 0 24 24\"\n",
              "       width=\"24px\">\n",
              "    <path d=\"M0 0h24v24H0V0z\" fill=\"none\"/>\n",
              "    <path d=\"M18.56 5.44l.94 2.06.94-2.06 2.06-.94-2.06-.94-.94-2.06-.94 2.06-2.06.94zm-11 1L8.5 8.5l.94-2.06 2.06-.94-2.06-.94L8.5 2.5l-.94 2.06-2.06.94zm10 10l.94 2.06.94-2.06 2.06-.94-2.06-.94-.94-2.06-.94 2.06-2.06.94z\"/><path d=\"M17.41 7.96l-1.37-1.37c-.4-.4-.92-.59-1.43-.59-.52 0-1.04.2-1.43.59L10.3 9.45l-7.72 7.72c-.78.78-.78 2.05 0 2.83L4 21.41c.39.39.9.59 1.41.59.51 0 1.02-.2 1.41-.59l7.78-7.78 2.81-2.81c.8-.78.8-2.07 0-2.86zM5.41 20L4 18.59l7.72-7.72 1.47 1.35L5.41 20z\"/>\n",
              "  </svg>\n",
              "      </button>\n",
              "      \n",
              "  <style>\n",
              "    .colab-df-container {\n",
              "      display:flex;\n",
              "      flex-wrap:wrap;\n",
              "      gap: 12px;\n",
              "    }\n",
              "\n",
              "    .colab-df-convert {\n",
              "      background-color: #E8F0FE;\n",
              "      border: none;\n",
              "      border-radius: 50%;\n",
              "      cursor: pointer;\n",
              "      display: none;\n",
              "      fill: #1967D2;\n",
              "      height: 32px;\n",
              "      padding: 0 0 0 0;\n",
              "      width: 32px;\n",
              "    }\n",
              "\n",
              "    .colab-df-convert:hover {\n",
              "      background-color: #E2EBFA;\n",
              "      box-shadow: 0px 1px 2px rgba(60, 64, 67, 0.3), 0px 1px 3px 1px rgba(60, 64, 67, 0.15);\n",
              "      fill: #174EA6;\n",
              "    }\n",
              "\n",
              "    [theme=dark] .colab-df-convert {\n",
              "      background-color: #3B4455;\n",
              "      fill: #D2E3FC;\n",
              "    }\n",
              "\n",
              "    [theme=dark] .colab-df-convert:hover {\n",
              "      background-color: #434B5C;\n",
              "      box-shadow: 0px 1px 3px 1px rgba(0, 0, 0, 0.15);\n",
              "      filter: drop-shadow(0px 1px 2px rgba(0, 0, 0, 0.3));\n",
              "      fill: #FFFFFF;\n",
              "    }\n",
              "  </style>\n",
              "\n",
              "      <script>\n",
              "        const buttonEl =\n",
              "          document.querySelector('#df-5d44000a-36f6-4c25-987e-4496270f4c6e button.colab-df-convert');\n",
              "        buttonEl.style.display =\n",
              "          google.colab.kernel.accessAllowed ? 'block' : 'none';\n",
              "\n",
              "        async function convertToInteractive(key) {\n",
              "          const element = document.querySelector('#df-5d44000a-36f6-4c25-987e-4496270f4c6e');\n",
              "          const dataTable =\n",
              "            await google.colab.kernel.invokeFunction('convertToInteractive',\n",
              "                                                     [key], {});\n",
              "          if (!dataTable) return;\n",
              "\n",
              "          const docLinkHtml = 'Like what you see? Visit the ' +\n",
              "            '<a target=\"_blank\" href=https://colab.research.google.com/notebooks/data_table.ipynb>data table notebook</a>'\n",
              "            + ' to learn more about interactive tables.';\n",
              "          element.innerHTML = '';\n",
              "          dataTable['output_type'] = 'display_data';\n",
              "          await google.colab.output.renderOutput(dataTable, element);\n",
              "          const docLink = document.createElement('div');\n",
              "          docLink.innerHTML = docLinkHtml;\n",
              "          element.appendChild(docLink);\n",
              "        }\n",
              "      </script>\n",
              "    </div>\n",
              "  </div>\n",
              "  "
            ],
            "text/plain": [
              "         video_id  ... polarity\n",
              "512   8wNr-NQImFg  ...     -1.0\n",
              "562   8wNr-NQImFg  ...     -1.0\n",
              "952   Ayb_2qbZHm4  ...     -1.0\n",
              "1371  vu_9muoxT50  ...     -1.0\n",
              "1391  vu_9muoxT50  ...     -1.0\n",
              "\n",
              "[5 rows x 5 columns]"
            ]
          },
          "metadata": {},
          "execution_count": 28
        }
      ]
    },
    {
      "cell_type": "markdown",
      "source": [
        "**Wordcloud representation of sentiments**"
      ],
      "metadata": {
        "id": "0JoXc9Xr1SsW"
      }
    },
    {
      "cell_type": "code",
      "source": [
        "!pip install wordCloud"
      ],
      "metadata": {
        "execution": {
          "iopub.status.busy": "2022-02-08T05:28:07.555898Z",
          "iopub.execute_input": "2022-02-08T05:28:07.556295Z",
          "iopub.status.idle": "2022-02-08T05:28:16.374855Z",
          "shell.execute_reply.started": "2022-02-08T05:28:07.556266Z",
          "shell.execute_reply": "2022-02-08T05:28:16.373749Z"
        },
        "trusted": true,
        "colab": {
          "base_uri": "https://localhost:8080/"
        },
        "id": "GpzUczgx1SsX",
        "outputId": "c8d463fc-2404-4006-b377-9c408192393d"
      },
      "execution_count": 29,
      "outputs": [
        {
          "output_type": "stream",
          "name": "stdout",
          "text": [
            "Requirement already satisfied: wordCloud in /usr/local/lib/python3.7/dist-packages (1.5.0)\n",
            "Requirement already satisfied: numpy>=1.6.1 in /usr/local/lib/python3.7/dist-packages (from wordCloud) (1.19.5)\n",
            "Requirement already satisfied: pillow in /usr/local/lib/python3.7/dist-packages (from wordCloud) (7.1.2)\n"
          ]
        }
      ]
    },
    {
      "cell_type": "code",
      "source": [
        "from wordcloud import WordCloud, STOPWORDS"
      ],
      "metadata": {
        "execution": {
          "iopub.status.busy": "2022-02-08T05:28:16.376313Z",
          "iopub.execute_input": "2022-02-08T05:28:16.376565Z",
          "iopub.status.idle": "2022-02-08T05:28:16.424610Z",
          "shell.execute_reply.started": "2022-02-08T05:28:16.376535Z",
          "shell.execute_reply": "2022-02-08T05:28:16.423882Z"
        },
        "trusted": true,
        "id": "HoVE5R_21SsY"
      },
      "execution_count": 30,
      "outputs": []
    },
    {
      "cell_type": "code",
      "source": [
        "negative_coomments['comment_text']"
      ],
      "metadata": {
        "execution": {
          "iopub.status.busy": "2022-02-08T05:28:16.425630Z",
          "iopub.execute_input": "2022-02-08T05:28:16.426416Z",
          "iopub.status.idle": "2022-02-08T05:28:16.436872Z",
          "shell.execute_reply.started": "2022-02-08T05:28:16.426371Z",
          "shell.execute_reply": "2022-02-08T05:28:16.435950Z"
        },
        "trusted": true,
        "colab": {
          "base_uri": "https://localhost:8080/"
        },
        "id": "sYVHyzkU1SsZ",
        "outputId": "0b12613d-2f0e-4b9c-b7e1-9f8291abf0e7"
      },
      "execution_count": 31,
      "outputs": [
        {
          "output_type": "execute_result",
          "data": {
            "text/plain": [
              "512       BEN CARSON IS THE MAN!!!!! THEY HATE HIM CAUSE...\n",
              "562       Well… The brain surgeon Ben Carson just proved...\n",
              "952              WHY DID YOU MAKE FURRY FORCE?! SO NASTY!!!\n",
              "1371                                         WTF BRUH!!!!!!\n",
              "1391                        cheeseus christ thats insane!!!\n",
              "                                ...                        \n",
              "690788                                  Like Kelly she evil\n",
              "690865                       R U FUCKING KIDDING ME?!?!?!?!\n",
              "691073             This is horribly offensive please report\n",
              "691180    Sink holes looks terrifying sinkholes sink you...\n",
              "691224    Trump talked to the president of US Virgin Isl...\n",
              "Name: comment_text, Length: 3508, dtype: object"
            ]
          },
          "metadata": {},
          "execution_count": 31
        }
      ]
    },
    {
      "cell_type": "code",
      "source": [
        "positive_coomments['comment_text']"
      ],
      "metadata": {
        "execution": {
          "iopub.status.busy": "2022-02-08T05:28:16.438183Z",
          "iopub.execute_input": "2022-02-08T05:28:16.438484Z",
          "iopub.status.idle": "2022-02-08T05:28:16.446530Z",
          "shell.execute_reply.started": "2022-02-08T05:28:16.438456Z",
          "shell.execute_reply": "2022-02-08T05:28:16.445731Z"
        },
        "trusted": true,
        "colab": {
          "base_uri": "https://localhost:8080/"
        },
        "id": "kBmnzY1r1Ssb",
        "outputId": "22c48e52-6416-4140-8206-24a576b0e186"
      },
      "execution_count": 32,
      "outputs": [
        {
          "output_type": "execute_result",
          "data": {
            "text/plain": [
              "64                                          yu are the best\n",
              "156       Power is the disease.  Care is the cure.  Keep...\n",
              "227       YAS Can't wait to get it! I just need to sell ...\n",
              "307                                       This is priceless\n",
              "319                                     Summed up perfectly\n",
              "                                ...                        \n",
              "691373                               Perfect. Every version\n",
              "691383                                    Me encantaaaaa <3\n",
              "691388                                     Best song ever 🤘\n",
              "691389                                excellent performance\n",
              "691393                                                   <3\n",
              "Name: comment_text, Length: 19390, dtype: object"
            ]
          },
          "metadata": {},
          "execution_count": 32
        }
      ]
    },
    {
      "cell_type": "code",
      "source": [
        "total_comments_neg = ' '.join(negative_coomments['comment_text'])"
      ],
      "metadata": {
        "execution": {
          "iopub.status.busy": "2022-02-08T05:28:16.447830Z",
          "iopub.execute_input": "2022-02-08T05:28:16.448244Z",
          "iopub.status.idle": "2022-02-08T05:28:16.459799Z",
          "shell.execute_reply.started": "2022-02-08T05:28:16.448215Z",
          "shell.execute_reply": "2022-02-08T05:28:16.458892Z"
        },
        "trusted": true,
        "id": "WG4-bHFl1Ssc"
      },
      "execution_count": 33,
      "outputs": []
    },
    {
      "cell_type": "code",
      "source": [
        "total_comments_pos = ' '.join(positive_coomments['comment_text'])"
      ],
      "metadata": {
        "execution": {
          "iopub.status.busy": "2022-02-08T05:28:16.466081Z",
          "iopub.execute_input": "2022-02-08T05:28:16.466329Z",
          "iopub.status.idle": "2022-02-08T05:28:16.485801Z",
          "shell.execute_reply.started": "2022-02-08T05:28:16.466298Z",
          "shell.execute_reply": "2022-02-08T05:28:16.485070Z"
        },
        "trusted": true,
        "id": "1TRBHD_K1Ssd"
      },
      "execution_count": 34,
      "outputs": []
    },
    {
      "cell_type": "code",
      "source": [
        "total_comments_neg[0:100]"
      ],
      "metadata": {
        "execution": {
          "iopub.status.busy": "2022-02-08T05:28:16.487912Z",
          "iopub.execute_input": "2022-02-08T05:28:16.488474Z",
          "iopub.status.idle": "2022-02-08T05:28:16.502230Z",
          "shell.execute_reply.started": "2022-02-08T05:28:16.488438Z",
          "shell.execute_reply": "2022-02-08T05:28:16.501407Z"
        },
        "trusted": true,
        "colab": {
          "base_uri": "https://localhost:8080/",
          "height": 35
        },
        "id": "xckvRwTx1Sse",
        "outputId": "ddf3b4c6-53c4-41e2-816c-cad7772ff11c"
      },
      "execution_count": 35,
      "outputs": [
        {
          "output_type": "execute_result",
          "data": {
            "application/vnd.google.colaboratory.intrinsic+json": {
              "type": "string"
            },
            "text/plain": [
              "\"BEN CARSON IS THE MAN!!!!! THEY HATE HIM CAUSE HE EXPOSED HITLARY'S RITUAL ABUSE ON CHILDREN!!!!!!! \""
            ]
          },
          "metadata": {},
          "execution_count": 35
        }
      ]
    },
    {
      "cell_type": "code",
      "source": [
        "total_comments_pos[0:100]"
      ],
      "metadata": {
        "execution": {
          "iopub.status.busy": "2022-02-08T05:28:16.503492Z",
          "iopub.execute_input": "2022-02-08T05:28:16.503906Z",
          "iopub.status.idle": "2022-02-08T05:28:16.513293Z",
          "shell.execute_reply.started": "2022-02-08T05:28:16.503873Z",
          "shell.execute_reply": "2022-02-08T05:28:16.512398Z"
        },
        "trusted": true,
        "colab": {
          "base_uri": "https://localhost:8080/",
          "height": 35
        },
        "id": "_ToIl0U81Ssf",
        "outputId": "7c7f1394-1a6a-4085-b0f9-5f8d5341da81"
      },
      "execution_count": 36,
      "outputs": [
        {
          "output_type": "execute_result",
          "data": {
            "application/vnd.google.colaboratory.intrinsic+json": {
              "type": "string"
            },
            "text/plain": [
              "'yu are the best Power is the disease.\\xa0 Care is the cure.\\xa0 Keep caring for yourself and others as bes'"
            ]
          },
          "metadata": {},
          "execution_count": 36
        }
      ]
    },
    {
      "cell_type": "code",
      "source": [
        "import matplotlib.pyplot as plt"
      ],
      "metadata": {
        "execution": {
          "iopub.status.busy": "2022-02-08T05:28:16.514686Z",
          "iopub.execute_input": "2022-02-08T05:28:16.515242Z",
          "iopub.status.idle": "2022-02-08T05:28:16.522380Z",
          "shell.execute_reply.started": "2022-02-08T05:28:16.515190Z",
          "shell.execute_reply": "2022-02-08T05:28:16.521674Z"
        },
        "trusted": true,
        "id": "pDTPuIE21Ssg"
      },
      "execution_count": 37,
      "outputs": []
    },
    {
      "cell_type": "code",
      "source": [
        "wordcloud = WordCloud(stopwords=(set(STOPWORDS))).generate(total_comments_pos)\n",
        "plt.figure(figsize=(10,10))\n",
        "plt.imshow(wordcloud)\n",
        "plt.axis('off')"
      ],
      "metadata": {
        "execution": {
          "iopub.status.busy": "2022-02-08T05:28:16.523672Z",
          "iopub.execute_input": "2022-02-08T05:28:16.524372Z",
          "iopub.status.idle": "2022-02-08T05:28:17.835912Z",
          "shell.execute_reply.started": "2022-02-08T05:28:16.524331Z",
          "shell.execute_reply": "2022-02-08T05:28:17.835282Z"
        },
        "trusted": true,
        "colab": {
          "base_uri": "https://localhost:8080/",
          "height": 327
        },
        "id": "pLVZhQnZ1Ssg",
        "outputId": "bdee44e7-359c-4a7a-8e2a-87977ad5b457"
      },
      "execution_count": 38,
      "outputs": [
        {
          "output_type": "execute_result",
          "data": {
            "text/plain": [
              "(-0.5, 399.5, 199.5, -0.5)"
            ]
          },
          "metadata": {},
          "execution_count": 38
        },
        {
          "output_type": "display_data",
          "data": {
            "image/png": "[encoded data removed]",
            "text/plain": [
              "<Figure size 720x720 with 1 Axes>"
            ]
          },
          "metadata": {
            "needs_background": "light"
          }
        }
      ]
    },
    {
      "cell_type": "code",
      "source": [
        "wordcloud = WordCloud(stopwords=(set(STOPWORDS))).generate(total_comments_neg)\n",
        "plt.figure(figsize=(10,10))\n",
        "plt.imshow(wordcloud)\n",
        "plt.axis('off')"
      ],
      "metadata": {
        "execution": {
          "iopub.status.busy": "2022-02-08T05:28:17.836832Z",
          "iopub.execute_input": "2022-02-08T05:28:17.837137Z",
          "iopub.status.idle": "2022-02-08T05:28:18.698212Z",
          "shell.execute_reply.started": "2022-02-08T05:28:17.837111Z",
          "shell.execute_reply": "2022-02-08T05:28:18.697316Z"
        },
        "trusted": true,
        "colab": {
          "base_uri": "https://localhost:8080/",
          "height": 327
        },
        "id": "e2pI8BYY1Ssh",
        "outputId": "9eb5cb5a-077a-4ce1-8bd6-99c749d357b7"
      },
      "execution_count": 39,
      "outputs": [
        {
          "output_type": "execute_result",
          "data": {
            "text/plain": [
              "(-0.5, 399.5, 199.5, -0.5)"
            ]
          },
          "metadata": {},
          "execution_count": 39
        },
        {
          "output_type": "display_data",
          "data": {
            "image/png": "[encoded data removed]",
            "text/plain": [
              "<Figure size 720x720 with 1 Axes>"
            ]
          },
          "metadata": {
            "needs_background": "light"
          }
        }
      ]
    },
    {
      "cell_type": "markdown",
      "source": [
        "**Emoji Analysis**"
      ],
      "metadata": {
        "id": "tNdJc6fq1Ssi"
      }
    },
    {
      "cell_type": "code",
      "source": [
        "!pip install emoji"
      ],
      "metadata": {
        "execution": {
          "iopub.status.busy": "2022-02-08T05:28:18.699645Z",
          "iopub.execute_input": "2022-02-08T05:28:18.700069Z",
          "iopub.status.idle": "2022-02-08T05:28:27.741546Z",
          "shell.execute_reply.started": "2022-02-08T05:28:18.700024Z",
          "shell.execute_reply": "2022-02-08T05:28:27.740538Z"
        },
        "trusted": true,
        "colab": {
          "base_uri": "https://localhost:8080/"
        },
        "id": "a3sKClfs1Ssj",
        "outputId": "20b89721-1162-4e05-afe5-4f67a904baab"
      },
      "execution_count": 40,
      "outputs": [
        {
          "output_type": "stream",
          "name": "stdout",
          "text": [
            "Collecting emoji\n",
            "  Downloading emoji-1.6.3.tar.gz (174 kB)\n",
            "\u001b[?25l\r\u001b[K     |█▉                              | 10 kB 19.5 MB/s eta 0:00:01\r\u001b[K     |███▊                            | 20 kB 12.3 MB/s eta 0:00:01\r\u001b[K     |█████▋                          | 30 kB 9.4 MB/s eta 0:00:01\r\u001b[K     |███████▌                        | 40 kB 8.3 MB/s eta 0:00:01\r\u001b[K     |█████████▍                      | 51 kB 5.1 MB/s eta 0:00:01\r\u001b[K     |███████████▎                    | 61 kB 5.2 MB/s eta 0:00:01\r\u001b[K     |█████████████▏                  | 71 kB 5.5 MB/s eta 0:00:01\r\u001b[K     |███████████████                 | 81 kB 6.1 MB/s eta 0:00:01\r\u001b[K     |█████████████████               | 92 kB 4.7 MB/s eta 0:00:01\r\u001b[K     |██████████████████▉             | 102 kB 5.2 MB/s eta 0:00:01\r\u001b[K     |████████████████████▊           | 112 kB 5.2 MB/s eta 0:00:01\r\u001b[K     |██████████████████████▋         | 122 kB 5.2 MB/s eta 0:00:01\r\u001b[K     |████████████████████████▌       | 133 kB 5.2 MB/s eta 0:00:01\r\u001b[K     |██████████████████████████▍     | 143 kB 5.2 MB/s eta 0:00:01\r\u001b[K     |████████████████████████████▏   | 153 kB 5.2 MB/s eta 0:00:01\r\u001b[K     |██████████████████████████████  | 163 kB 5.2 MB/s eta 0:00:01\r\u001b[K     |████████████████████████████████| 174 kB 5.2 MB/s eta 0:00:01\r\u001b[K     |████████████████████████████████| 174 kB 5.2 MB/s \n",
            "\u001b[?25hBuilding wheels for collected packages: emoji\n",
            "  Building wheel for emoji (setup.py) ... \u001b[?25l\u001b[?25hdone\n",
            "  Created wheel for emoji: filename=emoji-1.6.3-py3-none-any.whl size=170298 sha256=4497c6be05276ea175a14a5d508844acc36dba1a5ca580b4247866debec1c56c\n",
            "  Stored in directory: /root/.cache/pip/wheels/03/8b/d7/ad579fbef83c287215c0caab60fb0ae0f30c4d7ce5f580eade\n",
            "Successfully built emoji\n",
            "Installing collected packages: emoji\n",
            "Successfully installed emoji-1.6.3\n"
          ]
        }
      ]
    },
    {
      "cell_type": "code",
      "source": [
        "import emoji\n",
        "comments.head(10)"
      ],
      "metadata": {
        "execution": {
          "iopub.status.busy": "2022-02-08T05:28:27.743039Z",
          "iopub.execute_input": "2022-02-08T05:28:27.743291Z",
          "iopub.status.idle": "2022-02-08T05:28:27.792024Z",
          "shell.execute_reply.started": "2022-02-08T05:28:27.743261Z",
          "shell.execute_reply": "2022-02-08T05:28:27.791350Z"
        },
        "trusted": true,
        "colab": {
          "base_uri": "https://localhost:8080/",
          "height": 363
        },
        "id": "ccLbIamP1Ssk",
        "outputId": "bd03ad76-b821-470f-c60b-b56c30952169"
      },
      "execution_count": 41,
      "outputs": [
        {
          "output_type": "execute_result",
          "data": {
            "text/html": [
              "\n",
              "  <div id=\"df-beba3586-e8dc-4429-8e06-03d0afaea741\">\n",
              "    <div class=\"colab-df-container\">\n",
              "      <div>\n",
              "<style scoped>\n",
              "    .dataframe tbody tr th:only-of-type {\n",
              "        vertical-align: middle;\n",
              "    }\n",
              "\n",
              "    .dataframe tbody tr th {\n",
              "        vertical-align: top;\n",
              "    }\n",
              "\n",
              "    .dataframe thead th {\n",
              "        text-align: right;\n",
              "    }\n",
              "</style>\n",
              "<table border=\"1\" class=\"dataframe\">\n",
              "  <thead>\n",
              "    <tr style=\"text-align: right;\">\n",
              "      <th></th>\n",
              "      <th>video_id</th>\n",
              "      <th>comment_text</th>\n",
              "      <th>likes</th>\n",
              "      <th>replies</th>\n",
              "      <th>polarity</th>\n",
              "    </tr>\n",
              "  </thead>\n",
              "  <tbody>\n",
              "    <tr>\n",
              "      <th>0</th>\n",
              "      <td>XpVt6Z1Gjjo</td>\n",
              "      <td>Logan Paul it's yo big day ‼️‼️‼️</td>\n",
              "      <td>4</td>\n",
              "      <td>0</td>\n",
              "      <td>0.000000</td>\n",
              "    </tr>\n",
              "    <tr>\n",
              "      <th>1</th>\n",
              "      <td>XpVt6Z1Gjjo</td>\n",
              "      <td>I've been following you from the start of your...</td>\n",
              "      <td>3</td>\n",
              "      <td>0</td>\n",
              "      <td>0.000000</td>\n",
              "    </tr>\n",
              "    <tr>\n",
              "      <th>2</th>\n",
              "      <td>XpVt6Z1Gjjo</td>\n",
              "      <td>Say hi to Kong and maverick for me</td>\n",
              "      <td>3</td>\n",
              "      <td>0</td>\n",
              "      <td>0.000000</td>\n",
              "    </tr>\n",
              "    <tr>\n",
              "      <th>3</th>\n",
              "      <td>XpVt6Z1Gjjo</td>\n",
              "      <td>MY FAN . attendance</td>\n",
              "      <td>3</td>\n",
              "      <td>0</td>\n",
              "      <td>0.000000</td>\n",
              "    </tr>\n",
              "    <tr>\n",
              "      <th>4</th>\n",
              "      <td>XpVt6Z1Gjjo</td>\n",
              "      <td>trending 😉</td>\n",
              "      <td>3</td>\n",
              "      <td>0</td>\n",
              "      <td>0.000000</td>\n",
              "    </tr>\n",
              "    <tr>\n",
              "      <th>5</th>\n",
              "      <td>XpVt6Z1Gjjo</td>\n",
              "      <td>#1 on trending AYYEEEEE</td>\n",
              "      <td>3</td>\n",
              "      <td>0</td>\n",
              "      <td>0.000000</td>\n",
              "    </tr>\n",
              "    <tr>\n",
              "      <th>6</th>\n",
              "      <td>XpVt6Z1Gjjo</td>\n",
              "      <td>The end though 😭👍🏻❤️</td>\n",
              "      <td>4</td>\n",
              "      <td>0</td>\n",
              "      <td>0.000000</td>\n",
              "    </tr>\n",
              "    <tr>\n",
              "      <th>7</th>\n",
              "      <td>XpVt6Z1Gjjo</td>\n",
              "      <td>#1 trending!!!!!!!!!</td>\n",
              "      <td>3</td>\n",
              "      <td>0</td>\n",
              "      <td>0.000000</td>\n",
              "    </tr>\n",
              "    <tr>\n",
              "      <th>8</th>\n",
              "      <td>XpVt6Z1Gjjo</td>\n",
              "      <td>Happy one year vlogaversary</td>\n",
              "      <td>3</td>\n",
              "      <td>0</td>\n",
              "      <td>0.800000</td>\n",
              "    </tr>\n",
              "    <tr>\n",
              "      <th>9</th>\n",
              "      <td>XpVt6Z1Gjjo</td>\n",
              "      <td>You and your shit brother may have single hand...</td>\n",
              "      <td>0</td>\n",
              "      <td>0</td>\n",
              "      <td>-0.135714</td>\n",
              "    </tr>\n",
              "  </tbody>\n",
              "</table>\n",
              "</div>\n",
              "      <button class=\"colab-df-convert\" onclick=\"convertToInteractive('df-beba3586-e8dc-4429-8e06-03d0afaea741')\"\n",
              "              title=\"Convert this dataframe to an interactive table.\"\n",
              "              style=\"display:none;\">\n",
              "        \n",
              "  <svg xmlns=\"http://www.w3.org/2000/svg\" height=\"24px\"viewBox=\"0 0 24 24\"\n",
              "       width=\"24px\">\n",
              "    <path d=\"M0 0h24v24H0V0z\" fill=\"none\"/>\n",
              "    <path d=\"M18.56 5.44l.94 2.06.94-2.06 2.06-.94-2.06-.94-.94-2.06-.94 2.06-2.06.94zm-11 1L8.5 8.5l.94-2.06 2.06-.94-2.06-.94L8.5 2.5l-.94 2.06-2.06.94zm10 10l.94 2.06.94-2.06 2.06-.94-2.06-.94-.94-2.06-.94 2.06-2.06.94z\"/><path d=\"M17.41 7.96l-1.37-1.37c-.4-.4-.92-.59-1.43-.59-.52 0-1.04.2-1.43.59L10.3 9.45l-7.72 7.72c-.78.78-.78 2.05 0 2.83L4 21.41c.39.39.9.59 1.41.59.51 0 1.02-.2 1.41-.59l7.78-7.78 2.81-2.81c.8-.78.8-2.07 0-2.86zM5.41 20L4 18.59l7.72-7.72 1.47 1.35L5.41 20z\"/>\n",
              "  </svg>\n",
              "      </button>\n",
              "      \n",
              "  <style>\n",
              "    .colab-df-container {\n",
              "      display:flex;\n",
              "      flex-wrap:wrap;\n",
              "      gap: 12px;\n",
              "    }\n",
              "\n",
              "    .colab-df-convert {\n",
              "      background-color: #E8F0FE;\n",
              "      border: none;\n",
              "      border-radius: 50%;\n",
              "      cursor: pointer;\n",
              "      display: none;\n",
              "      fill: #1967D2;\n",
              "      height: 32px;\n",
              "      padding: 0 0 0 0;\n",
              "      width: 32px;\n",
              "    }\n",
              "\n",
              "    .colab-df-convert:hover {\n",
              "      background-color: #E2EBFA;\n",
              "      box-shadow: 0px 1px 2px rgba(60, 64, 67, 0.3), 0px 1px 3px 1px rgba(60, 64, 67, 0.15);\n",
              "      fill: #174EA6;\n",
              "    }\n",
              "\n",
              "    [theme=dark] .colab-df-convert {\n",
              "      background-color: #3B4455;\n",
              "      fill: #D2E3FC;\n",
              "    }\n",
              "\n",
              "    [theme=dark] .colab-df-convert:hover {\n",
              "      background-color: #434B5C;\n",
              "      box-shadow: 0px 1px 3px 1px rgba(0, 0, 0, 0.15);\n",
              "      filter: drop-shadow(0px 1px 2px rgba(0, 0, 0, 0.3));\n",
              "      fill: #FFFFFF;\n",
              "    }\n",
              "  </style>\n",
              "\n",
              "      <script>\n",
              "        const buttonEl =\n",
              "          document.querySelector('#df-beba3586-e8dc-4429-8e06-03d0afaea741 button.colab-df-convert');\n",
              "        buttonEl.style.display =\n",
              "          google.colab.kernel.accessAllowed ? 'block' : 'none';\n",
              "\n",
              "        async function convertToInteractive(key) {\n",
              "          const element = document.querySelector('#df-beba3586-e8dc-4429-8e06-03d0afaea741');\n",
              "          const dataTable =\n",
              "            await google.colab.kernel.invokeFunction('convertToInteractive',\n",
              "                                                     [key], {});\n",
              "          if (!dataTable) return;\n",
              "\n",
              "          const docLinkHtml = 'Like what you see? Visit the ' +\n",
              "            '<a target=\"_blank\" href=https://colab.research.google.com/notebooks/data_table.ipynb>data table notebook</a>'\n",
              "            + ' to learn more about interactive tables.';\n",
              "          element.innerHTML = '';\n",
              "          dataTable['output_type'] = 'display_data';\n",
              "          await google.colab.output.renderOutput(dataTable, element);\n",
              "          const docLink = document.createElement('div');\n",
              "          docLink.innerHTML = docLinkHtml;\n",
              "          element.appendChild(docLink);\n",
              "        }\n",
              "      </script>\n",
              "    </div>\n",
              "  </div>\n",
              "  "
            ],
            "text/plain": [
              "      video_id  ...  polarity\n",
              "0  XpVt6Z1Gjjo  ...  0.000000\n",
              "1  XpVt6Z1Gjjo  ...  0.000000\n",
              "2  XpVt6Z1Gjjo  ...  0.000000\n",
              "3  XpVt6Z1Gjjo  ...  0.000000\n",
              "4  XpVt6Z1Gjjo  ...  0.000000\n",
              "5  XpVt6Z1Gjjo  ...  0.000000\n",
              "6  XpVt6Z1Gjjo  ...  0.000000\n",
              "7  XpVt6Z1Gjjo  ...  0.000000\n",
              "8  XpVt6Z1Gjjo  ...  0.800000\n",
              "9  XpVt6Z1Gjjo  ... -0.135714\n",
              "\n",
              "[10 rows x 5 columns]"
            ]
          },
          "metadata": {},
          "execution_count": 41
        }
      ]
    },
    {
      "cell_type": "code",
      "source": [
        "print('😉')"
      ],
      "metadata": {
        "execution": {
          "iopub.status.busy": "2022-02-08T05:28:27.793158Z",
          "iopub.execute_input": "2022-02-08T05:28:27.793358Z",
          "iopub.status.idle": "2022-02-08T05:28:27.798305Z",
          "shell.execute_reply.started": "2022-02-08T05:28:27.793332Z",
          "shell.execute_reply": "2022-02-08T05:28:27.797462Z"
        },
        "trusted": true,
        "colab": {
          "base_uri": "https://localhost:8080/"
        },
        "id": "gitPE3yd1Ssk",
        "outputId": "ba5213a8-cf3f-46ab-e804-aa3211502cf8"
      },
      "execution_count": 42,
      "outputs": [
        {
          "output_type": "stream",
          "name": "stdout",
          "text": [
            "😉\n"
          ]
        }
      ]
    },
    {
      "cell_type": "code",
      "source": [
        "print(\"\\U0001F923\")"
      ],
      "metadata": {
        "execution": {
          "iopub.status.busy": "2022-02-08T05:28:27.799725Z",
          "iopub.execute_input": "2022-02-08T05:28:27.799989Z",
          "iopub.status.idle": "2022-02-08T05:28:27.811362Z",
          "shell.execute_reply.started": "2022-02-08T05:28:27.799929Z",
          "shell.execute_reply": "2022-02-08T05:28:27.810363Z"
        },
        "trusted": true,
        "colab": {
          "base_uri": "https://localhost:8080/"
        },
        "id": "JA4QnyJQ1Ssl",
        "outputId": "d6d46a78-7450-4bbe-ccbc-aebf5d6dd93a"
      },
      "execution_count": 43,
      "outputs": [
        {
          "output_type": "stream",
          "name": "stdout",
          "text": [
            "🤣\n"
          ]
        }
      ]
    },
    {
      "cell_type": "code",
      "source": [
        "comment = 'trending 😉'"
      ],
      "metadata": {
        "execution": {
          "iopub.status.busy": "2022-02-08T05:28:27.813085Z",
          "iopub.execute_input": "2022-02-08T05:28:27.813309Z",
          "iopub.status.idle": "2022-02-08T05:28:27.820150Z",
          "shell.execute_reply.started": "2022-02-08T05:28:27.813282Z",
          "shell.execute_reply": "2022-02-08T05:28:27.819281Z"
        },
        "trusted": true,
        "id": "V9pfZyu71Ssm"
      },
      "execution_count": 44,
      "outputs": []
    },
    {
      "cell_type": "code",
      "source": [
        "comment"
      ],
      "metadata": {
        "execution": {
          "iopub.status.busy": "2022-02-08T05:28:27.821632Z",
          "iopub.execute_input": "2022-02-08T05:28:27.822239Z",
          "iopub.status.idle": "2022-02-08T05:28:27.833138Z",
          "shell.execute_reply.started": "2022-02-08T05:28:27.822193Z",
          "shell.execute_reply": "2022-02-08T05:28:27.832242Z"
        },
        "trusted": true,
        "colab": {
          "base_uri": "https://localhost:8080/",
          "height": 35
        },
        "id": "Ckb9fHjS1Ssn",
        "outputId": "7f47d48d-c1aa-4c2a-e245-ab5be96dd189"
      },
      "execution_count": 45,
      "outputs": [
        {
          "output_type": "execute_result",
          "data": {
            "application/vnd.google.colaboratory.intrinsic+json": {
              "type": "string"
            },
            "text/plain": [
              "'trending 😉'"
            ]
          },
          "metadata": {},
          "execution_count": 45
        }
      ]
    },
    {
      "cell_type": "code",
      "source": [
        "[c for c in comment if c in emoji.UNICODE_EMOJI_ENGLISH]"
      ],
      "metadata": {
        "execution": {
          "iopub.status.busy": "2022-02-08T05:28:27.836266Z",
          "iopub.execute_input": "2022-02-08T05:28:27.836534Z",
          "iopub.status.idle": "2022-02-08T05:28:27.845143Z",
          "shell.execute_reply.started": "2022-02-08T05:28:27.836501Z",
          "shell.execute_reply": "2022-02-08T05:28:27.844474Z"
        },
        "trusted": true,
        "colab": {
          "base_uri": "https://localhost:8080/"
        },
        "id": "rXDANv_I1Sso",
        "outputId": "59296ff6-aef0-449c-d12d-0918a98b0849"
      },
      "execution_count": 46,
      "outputs": [
        {
          "output_type": "execute_result",
          "data": {
            "text/plain": [
              "['😉']"
            ]
          },
          "metadata": {},
          "execution_count": 46
        }
      ]
    },
    {
      "cell_type": "code",
      "source": [
        "emoji_list = []\n",
        "for comment in comments['comment_text']:\n",
        "    for c in comment:\n",
        "        if c in emoji.UNICODE_EMOJI_ENGLISH:\n",
        "            emoji_list.append(c)"
      ],
      "metadata": {
        "execution": {
          "iopub.status.busy": "2022-02-08T05:28:27.846189Z",
          "iopub.execute_input": "2022-02-08T05:28:27.847027Z",
          "iopub.status.idle": "2022-02-08T05:28:35.676709Z",
          "shell.execute_reply.started": "2022-02-08T05:28:27.846967Z",
          "shell.execute_reply": "2022-02-08T05:28:35.675904Z"
        },
        "trusted": true,
        "id": "yp1mMaM11Sso"
      },
      "execution_count": 47,
      "outputs": []
    },
    {
      "cell_type": "code",
      "source": [
        "len(emoji_list)"
      ],
      "metadata": {
        "execution": {
          "iopub.status.busy": "2022-02-08T05:28:35.677762Z",
          "iopub.execute_input": "2022-02-08T05:28:35.677986Z",
          "iopub.status.idle": "2022-02-08T05:28:35.683106Z",
          "shell.execute_reply.started": "2022-02-08T05:28:35.677954Z",
          "shell.execute_reply": "2022-02-08T05:28:35.682442Z"
        },
        "trusted": true,
        "colab": {
          "base_uri": "https://localhost:8080/"
        },
        "id": "q7yxJcFL1Ssp",
        "outputId": "e1a0386d-2669-48ad-99ab-e757787ad1f9"
      },
      "execution_count": 48,
      "outputs": [
        {
          "output_type": "execute_result",
          "data": {
            "text/plain": [
              "294549"
            ]
          },
          "metadata": {},
          "execution_count": 48
        }
      ]
    },
    {
      "cell_type": "code",
      "source": [
        "emoji_list[0:10]"
      ],
      "metadata": {
        "execution": {
          "iopub.status.busy": "2022-02-08T05:28:35.684146Z",
          "iopub.execute_input": "2022-02-08T05:28:35.684349Z",
          "iopub.status.idle": "2022-02-08T05:28:35.702173Z",
          "shell.execute_reply.started": "2022-02-08T05:28:35.684322Z",
          "shell.execute_reply": "2022-02-08T05:28:35.701319Z"
        },
        "trusted": true,
        "colab": {
          "base_uri": "https://localhost:8080/"
        },
        "id": "w-9RpXLx1Ssq",
        "outputId": "7b807a6e-08ef-454f-f08b-cf0831aaeaca"
      },
      "execution_count": 49,
      "outputs": [
        {
          "output_type": "execute_result",
          "data": {
            "text/plain": [
              "['‼', '‼', '‼', '😉', '😭', '👍', '🏻', '❤', '😍', '💋']"
            ]
          },
          "metadata": {},
          "execution_count": 49
        }
      ]
    },
    {
      "cell_type": "code",
      "source": [
        "from collections import Counter\n",
        "Counter(emoji_list).most_common(10)"
      ],
      "metadata": {
        "execution": {
          "iopub.status.busy": "2022-02-08T05:28:35.703434Z",
          "iopub.execute_input": "2022-02-08T05:28:35.703847Z",
          "iopub.status.idle": "2022-02-08T05:28:35.742226Z",
          "shell.execute_reply.started": "2022-02-08T05:28:35.703817Z",
          "shell.execute_reply": "2022-02-08T05:28:35.741391Z"
        },
        "trusted": true,
        "colab": {
          "base_uri": "https://localhost:8080/"
        },
        "id": "Elc4owcr1Ssq",
        "outputId": "0a0f9633-ff89-470e-f841-34ff969a1462"
      },
      "execution_count": 50,
      "outputs": [
        {
          "output_type": "execute_result",
          "data": {
            "text/plain": [
              "[('😂', 36987),\n",
              " ('😍', 33453),\n",
              " ('❤', 31119),\n",
              " ('🔥', 8694),\n",
              " ('😭', 8398),\n",
              " ('👏', 5719),\n",
              " ('😘', 5545),\n",
              " ('👍', 5476),\n",
              " ('💖', 5359),\n",
              " ('💕', 5147)]"
            ]
          },
          "metadata": {},
          "execution_count": 50
        }
      ]
    },
    {
      "cell_type": "code",
      "source": [
        "Counter(emoji_list).most_common(10)[0][0]"
      ],
      "metadata": {
        "execution": {
          "iopub.status.busy": "2022-02-08T05:28:35.744186Z",
          "iopub.execute_input": "2022-02-08T05:28:35.744433Z",
          "iopub.status.idle": "2022-02-08T05:28:35.780677Z",
          "shell.execute_reply.started": "2022-02-08T05:28:35.744405Z",
          "shell.execute_reply": "2022-02-08T05:28:35.779987Z"
        },
        "trusted": true,
        "colab": {
          "base_uri": "https://localhost:8080/",
          "height": 35
        },
        "id": "lOGKW80P1Ssr",
        "outputId": "2fdcdf98-9cba-41af-e7c2-a05b79756b0e"
      },
      "execution_count": 51,
      "outputs": [
        {
          "output_type": "execute_result",
          "data": {
            "application/vnd.google.colaboratory.intrinsic+json": {
              "type": "string"
            },
            "text/plain": [
              "'😂'"
            ]
          },
          "metadata": {},
          "execution_count": 51
        }
      ]
    },
    {
      "cell_type": "code",
      "source": [
        "emojis = [Counter(emoji_list).most_common(10)[i][0] for i in range(10)]\n",
        "freq = [Counter(emoji_list).most_common(10)[i][1] for i in range(10)]"
      ],
      "metadata": {
        "execution": {
          "iopub.status.busy": "2022-02-08T05:28:35.781722Z",
          "iopub.execute_input": "2022-02-08T05:28:35.782505Z",
          "iopub.status.idle": "2022-02-08T05:28:36.339922Z",
          "shell.execute_reply.started": "2022-02-08T05:28:35.782389Z",
          "shell.execute_reply": "2022-02-08T05:28:36.338988Z"
        },
        "trusted": true,
        "id": "72abUGlX1Sss"
      },
      "execution_count": 52,
      "outputs": []
    },
    {
      "cell_type": "code",
      "source": [
        "emojis"
      ],
      "metadata": {
        "execution": {
          "iopub.status.busy": "2022-02-08T05:28:36.341220Z",
          "iopub.execute_input": "2022-02-08T05:28:36.341459Z",
          "iopub.status.idle": "2022-02-08T05:28:36.346595Z",
          "shell.execute_reply.started": "2022-02-08T05:28:36.341430Z",
          "shell.execute_reply": "2022-02-08T05:28:36.345948Z"
        },
        "trusted": true,
        "colab": {
          "base_uri": "https://localhost:8080/"
        },
        "id": "Il9gBEpK1Sst",
        "outputId": "5cfea4e6-07d3-4b56-b94f-ecfb7adfd145"
      },
      "execution_count": 53,
      "outputs": [
        {
          "output_type": "execute_result",
          "data": {
            "text/plain": [
              "['😂', '😍', '❤', '🔥', '😭', '👏', '😘', '👍', '💖', '💕']"
            ]
          },
          "metadata": {},
          "execution_count": 53
        }
      ]
    },
    {
      "cell_type": "code",
      "source": [
        "freq"
      ],
      "metadata": {
        "execution": {
          "iopub.status.busy": "2022-02-08T05:28:36.347658Z",
          "iopub.execute_input": "2022-02-08T05:28:36.348343Z",
          "iopub.status.idle": "2022-02-08T05:28:36.358183Z",
          "shell.execute_reply.started": "2022-02-08T05:28:36.348310Z",
          "shell.execute_reply": "2022-02-08T05:28:36.357383Z"
        },
        "trusted": true,
        "colab": {
          "base_uri": "https://localhost:8080/"
        },
        "id": "hS_Q425D1Ssu",
        "outputId": "ca499000-8259-4deb-fe0f-5926da6c1644"
      },
      "execution_count": 54,
      "outputs": [
        {
          "output_type": "execute_result",
          "data": {
            "text/plain": [
              "[36987, 33453, 31119, 8694, 8398, 5719, 5545, 5476, 5359, 5147]"
            ]
          },
          "metadata": {},
          "execution_count": 54
        }
      ]
    },
    {
      "cell_type": "code",
      "source": [
        "import plotly.graph_objs as go\n",
        "from plotly.offline import iplot"
      ],
      "metadata": {
        "execution": {
          "iopub.status.busy": "2022-02-08T05:28:36.359443Z",
          "iopub.execute_input": "2022-02-08T05:28:36.359696Z",
          "iopub.status.idle": "2022-02-08T05:28:36.390927Z",
          "shell.execute_reply.started": "2022-02-08T05:28:36.359670Z",
          "shell.execute_reply": "2022-02-08T05:28:36.390217Z"
        },
        "trusted": true,
        "id": "FTq-oMXC1Ssv"
      },
      "execution_count": 55,
      "outputs": []
    },
    {
      "cell_type": "code",
      "source": [
        "trace = go.Bar(x = emojis, y = freq)\n",
        "iplot([trace])"
      ],
      "metadata": {
        "execution": {
          "iopub.status.busy": "2022-02-08T05:28:36.393665Z",
          "iopub.execute_input": "2022-02-08T05:28:36.394008Z",
          "iopub.status.idle": "2022-02-08T05:28:37.461925Z",
          "shell.execute_reply.started": "2022-02-08T05:28:36.393965Z",
          "shell.execute_reply": "2022-02-08T05:28:37.461141Z"
        },
        "trusted": true,
        "colab": {
          "base_uri": "https://localhost:8080/",
          "height": 542
        },
        "id": "bhuyNqvT1Ssw",
        "outputId": "f528075f-4920-45a6-dd69-e46d65b5f729"
      },
      "execution_count": 56,
      "outputs": [
        {
          "output_type": "display_data",
          "data": {
            "text/html": [
              "<html>\n",
              "<head><meta charset=\"utf-8\" /></head>\n",
              "<body>\n",
              "    <div>            <script src=\"https://cdnjs.cloudflare.com/ajax/libs/mathjax/2.7.5/MathJax.js?config=TeX-AMS-MML_SVG\"></script><script type=\"text/javascript\">if (window.MathJax) {MathJax.Hub.Config({SVG: {font: \"STIX-Web\"}});}</script>                <script type=\"text/javascript\">window.PlotlyConfig = {MathJaxConfig: 'local'};</script>\n",
              "        <script src=\"https://cdn.plot.ly/plotly-2.8.3.min.js\"></script>                <div id=\"0a348da9-65fd-4914-ae2d-e9edea245efe\" class=\"plotly-graph-div\" style=\"height:525px; width:100%;\"></div>            <script type=\"text/javascript\">                                    window.PLOTLYENV=window.PLOTLYENV || {};                                    if (document.getElementById(\"0a348da9-65fd-4914-ae2d-e9edea245efe\")) {                    Plotly.newPlot(                        \"0a348da9-65fd-4914-ae2d-e9edea245efe\",                        [{\"x\":[\"\\ud83d\\ude02\",\"\\ud83d\\ude0d\",\"\\u2764\",\"\\ud83d\\udd25\",\"\\ud83d\\ude2d\",\"\\ud83d\\udc4f\",\"\\ud83d\\ude18\",\"\\ud83d\\udc4d\",\"\\ud83d\\udc96\",\"\\ud83d\\udc95\"],\"y\":[36987,33453,31119,8694,8398,5719,5545,5476,5359,5147],\"type\":\"bar\"}],                        {\"template\":{\"data\":{\"barpolar\":[{\"marker\":{\"line\":{\"color\":\"#E5ECF6\",\"width\":0.5},\"pattern\":{\"fillmode\":\"overlay\",\"size\":10,\"solidity\":0.2}},\"type\":\"barpolar\"}],\"bar\":[{\"error_x\":{\"color\":\"#2a3f5f\"},\"error_y\":{\"color\":\"#2a3f5f\"},\"marker\":{\"line\":{\"color\":\"#E5ECF6\",\"width\":0.5},\"pattern\":{\"fillmode\":\"overlay\",\"size\":10,\"solidity\":0.2}},\"type\":\"bar\"}],\"carpet\":[{\"aaxis\":{\"endlinecolor\":\"#2a3f5f\",\"gridcolor\":\"white\",\"linecolor\":\"white\",\"minorgridcolor\":\"white\",\"startlinecolor\":\"#2a3f5f\"},\"baxis\":{\"endlinecolor\":\"#2a3f5f\",\"gridcolor\":\"white\",\"linecolor\":\"white\",\"minorgridcolor\":\"white\",\"startlinecolor\":\"#2a3f5f\"},\"type\":\"carpet\"}],\"choropleth\":[{\"colorbar\":{\"outlinewidth\":0,\"ticks\":\"\"},\"type\":\"choropleth\"}],\"contourcarpet\":[{\"colorbar\":{\"outlinewidth\":0,\"ticks\":\"\"},\"type\":\"contourcarpet\"}],\"contour\":[{\"colorbar\":{\"outlinewidth\":0,\"ticks\":\"\"},\"colorscale\":[[0.0,\"#0d0887\"],[0.1111111111111111,\"#46039f\"],[0.2222222222222222,\"#7201a8\"],[0.3333333333333333,\"#9c179e\"],[0.4444444444444444,\"#bd3786\"],[0.5555555555555556,\"#d8576b\"],[0.6666666666666666,\"#ed7953\"],[0.7777777777777778,\"#fb9f3a\"],[0.8888888888888888,\"#fdca26\"],[1.0,\"#f0f921\"]],\"type\":\"contour\"}],\"heatmapgl\":[{\"colorbar\":{\"outlinewidth\":0,\"ticks\":\"\"},\"colorscale\":[[0.0,\"#0d0887\"],[0.1111111111111111,\"#46039f\"],[0.2222222222222222,\"#7201a8\"],[0.3333333333333333,\"#9c179e\"],[0.4444444444444444,\"#bd3786\"],[0.5555555555555556,\"#d8576b\"],[0.6666666666666666,\"#ed7953\"],[0.7777777777777778,\"#fb9f3a\"],[0.8888888888888888,\"#fdca26\"],[1.0,\"#f0f921\"]],\"type\":\"heatmapgl\"}],\"heatmap\":[{\"colorbar\":{\"outlinewidth\":0,\"ticks\":\"\"},\"colorscale\":[[0.0,\"#0d0887\"],[0.1111111111111111,\"#46039f\"],[0.2222222222222222,\"#7201a8\"],[0.3333333333333333,\"#9c179e\"],[0.4444444444444444,\"#bd3786\"],[0.5555555555555556,\"#d8576b\"],[0.6666666666666666,\"#ed7953\"],[0.7777777777777778,\"#fb9f3a\"],[0.8888888888888888,\"#fdca26\"],[1.0,\"#f0f921\"]],\"type\":\"heatmap\"}],\"histogram2dcontour\":[{\"colorbar\":{\"outlinewidth\":0,\"ticks\":\"\"},\"colorscale\":[[0.0,\"#0d0887\"],[0.1111111111111111,\"#46039f\"],[0.2222222222222222,\"#7201a8\"],[0.3333333333333333,\"#9c179e\"],[0.4444444444444444,\"#bd3786\"],[0.5555555555555556,\"#d8576b\"],[0.6666666666666666,\"#ed7953\"],[0.7777777777777778,\"#fb9f3a\"],[0.8888888888888888,\"#fdca26\"],[1.0,\"#f0f921\"]],\"type\":\"histogram2dcontour\"}],\"histogram2d\":[{\"colorbar\":{\"outlinewidth\":0,\"ticks\":\"\"},\"colorscale\":[[0.0,\"#0d0887\"],[0.1111111111111111,\"#46039f\"],[0.2222222222222222,\"#7201a8\"],[0.3333333333333333,\"#9c179e\"],[0.4444444444444444,\"#bd3786\"],[0.5555555555555556,\"#d8576b\"],[0.6666666666666666,\"#ed7953\"],[0.7777777777777778,\"#fb9f3a\"],[0.8888888888888888,\"#fdca26\"],[1.0,\"#f0f921\"]],\"type\":\"histogram2d\"}],\"histogram\":[{\"marker\":{\"pattern\":{\"fillmode\":\"overlay\",\"size\":10,\"solidity\":0.2}},\"type\":\"histogram\"}],\"mesh3d\":[{\"colorbar\":{\"outlinewidth\":0,\"ticks\":\"\"},\"type\":\"mesh3d\"}],\"parcoords\":[{\"line\":{\"colorbar\":{\"outlinewidth\":0,\"ticks\":\"\"}},\"type\":\"parcoords\"}],\"pie\":[{\"automargin\":true,\"type\":\"pie\"}],\"scatter3d\":[{\"line\":{\"colorbar\":{\"outlinewidth\":0,\"ticks\":\"\"}},\"marker\":{\"colorbar\":{\"outlinewidth\":0,\"ticks\":\"\"}},\"type\":\"scatter3d\"}],\"scattercarpet\":[{\"marker\":{\"colorbar\":{\"outlinewidth\":0,\"ticks\":\"\"}},\"type\":\"scattercarpet\"}],\"scattergeo\":[{\"marker\":{\"colorbar\":{\"outlinewidth\":0,\"ticks\":\"\"}},\"type\":\"scattergeo\"}],\"scattergl\":[{\"marker\":{\"colorbar\":{\"outlinewidth\":0,\"ticks\":\"\"}},\"type\":\"scattergl\"}],\"scattermapbox\":[{\"marker\":{\"colorbar\":{\"outlinewidth\":0,\"ticks\":\"\"}},\"type\":\"scattermapbox\"}],\"scatterpolargl\":[{\"marker\":{\"colorbar\":{\"outlinewidth\":0,\"ticks\":\"\"}},\"type\":\"scatterpolargl\"}],\"scatterpolar\":[{\"marker\":{\"colorbar\":{\"outlinewidth\":0,\"ticks\":\"\"}},\"type\":\"scatterpolar\"}],\"scatter\":[{\"marker\":{\"colorbar\":{\"outlinewidth\":0,\"ticks\":\"\"}},\"type\":\"scatter\"}],\"scatterternary\":[{\"marker\":{\"colorbar\":{\"outlinewidth\":0,\"ticks\":\"\"}},\"type\":\"scatterternary\"}],\"surface\":[{\"colorbar\":{\"outlinewidth\":0,\"ticks\":\"\"},\"colorscale\":[[0.0,\"#0d0887\"],[0.1111111111111111,\"#46039f\"],[0.2222222222222222,\"#7201a8\"],[0.3333333333333333,\"#9c179e\"],[0.4444444444444444,\"#bd3786\"],[0.5555555555555556,\"#d8576b\"],[0.6666666666666666,\"#ed7953\"],[0.7777777777777778,\"#fb9f3a\"],[0.8888888888888888,\"#fdca26\"],[1.0,\"#f0f921\"]],\"type\":\"surface\"}],\"table\":[{\"cells\":{\"fill\":{\"color\":\"#EBF0F8\"},\"line\":{\"color\":\"white\"}},\"header\":{\"fill\":{\"color\":\"#C8D4E3\"},\"line\":{\"color\":\"white\"}},\"type\":\"table\"}]},\"layout\":{\"annotationdefaults\":{\"arrowcolor\":\"#2a3f5f\",\"arrowhead\":0,\"arrowwidth\":1},\"autotypenumbers\":\"strict\",\"coloraxis\":{\"colorbar\":{\"outlinewidth\":0,\"ticks\":\"\"}},\"colorscale\":{\"diverging\":[[0,\"#8e0152\"],[0.1,\"#c51b7d\"],[0.2,\"#de77ae\"],[0.3,\"#f1b6da\"],[0.4,\"#fde0ef\"],[0.5,\"#f7f7f7\"],[0.6,\"#e6f5d0\"],[0.7,\"#b8e186\"],[0.8,\"#7fbc41\"],[0.9,\"#4d9221\"],[1,\"#276419\"]],\"sequential\":[[0.0,\"#0d0887\"],[0.1111111111111111,\"#46039f\"],[0.2222222222222222,\"#7201a8\"],[0.3333333333333333,\"#9c179e\"],[0.4444444444444444,\"#bd3786\"],[0.5555555555555556,\"#d8576b\"],[0.6666666666666666,\"#ed7953\"],[0.7777777777777778,\"#fb9f3a\"],[0.8888888888888888,\"#fdca26\"],[1.0,\"#f0f921\"]],\"sequentialminus\":[[0.0,\"#0d0887\"],[0.1111111111111111,\"#46039f\"],[0.2222222222222222,\"#7201a8\"],[0.3333333333333333,\"#9c179e\"],[0.4444444444444444,\"#bd3786\"],[0.5555555555555556,\"#d8576b\"],[0.6666666666666666,\"#ed7953\"],[0.7777777777777778,\"#fb9f3a\"],[0.8888888888888888,\"#fdca26\"],[1.0,\"#f0f921\"]]},\"colorway\":[\"#636efa\",\"#EF553B\",\"#00cc96\",\"#ab63fa\",\"#FFA15A\",\"#19d3f3\",\"#FF6692\",\"#B6E880\",\"#FF97FF\",\"#FECB52\"],\"font\":{\"color\":\"#2a3f5f\"},\"geo\":{\"bgcolor\":\"white\",\"lakecolor\":\"white\",\"landcolor\":\"#E5ECF6\",\"showlakes\":true,\"showland\":true,\"subunitcolor\":\"white\"},\"hoverlabel\":{\"align\":\"left\"},\"hovermode\":\"closest\",\"mapbox\":{\"style\":\"light\"},\"paper_bgcolor\":\"white\",\"plot_bgcolor\":\"#E5ECF6\",\"polar\":{\"angularaxis\":{\"gridcolor\":\"white\",\"linecolor\":\"white\",\"ticks\":\"\"},\"bgcolor\":\"#E5ECF6\",\"radialaxis\":{\"gridcolor\":\"white\",\"linecolor\":\"white\",\"ticks\":\"\"}},\"scene\":{\"xaxis\":{\"backgroundcolor\":\"#E5ECF6\",\"gridcolor\":\"white\",\"gridwidth\":2,\"linecolor\":\"white\",\"showbackground\":true,\"ticks\":\"\",\"zerolinecolor\":\"white\"},\"yaxis\":{\"backgroundcolor\":\"#E5ECF6\",\"gridcolor\":\"white\",\"gridwidth\":2,\"linecolor\":\"white\",\"showbackground\":true,\"ticks\":\"\",\"zerolinecolor\":\"white\"},\"zaxis\":{\"backgroundcolor\":\"#E5ECF6\",\"gridcolor\":\"white\",\"gridwidth\":2,\"linecolor\":\"white\",\"showbackground\":true,\"ticks\":\"\",\"zerolinecolor\":\"white\"}},\"shapedefaults\":{\"line\":{\"color\":\"#2a3f5f\"}},\"ternary\":{\"aaxis\":{\"gridcolor\":\"white\",\"linecolor\":\"white\",\"ticks\":\"\"},\"baxis\":{\"gridcolor\":\"white\",\"linecolor\":\"white\",\"ticks\":\"\"},\"bgcolor\":\"#E5ECF6\",\"caxis\":{\"gridcolor\":\"white\",\"linecolor\":\"white\",\"ticks\":\"\"}},\"title\":{\"x\":0.05},\"xaxis\":{\"automargin\":true,\"gridcolor\":\"white\",\"linecolor\":\"white\",\"ticks\":\"\",\"title\":{\"standoff\":15},\"zerolinecolor\":\"white\",\"zerolinewidth\":2},\"yaxis\":{\"automargin\":true,\"gridcolor\":\"white\",\"linecolor\":\"white\",\"ticks\":\"\",\"title\":{\"standoff\":15},\"zerolinecolor\":\"white\",\"zerolinewidth\":2}}}},                        {\"responsive\": true}                    ).then(function(){\n",
              "                            \n",
              "var gd = document.getElementById('0a348da9-65fd-4914-ae2d-e9edea245efe');\n",
              "var x = new MutationObserver(function (mutations, observer) {{\n",
              "        var display = window.getComputedStyle(gd).display;\n",
              "        if (!display || display === 'none') {{\n",
              "            console.log([gd, 'removed!']);\n",
              "            Plotly.purge(gd);\n",
              "            observer.disconnect();\n",
              "        }}\n",
              "}});\n",
              "\n",
              "// Listen for the removal of the full notebook cells\n",
              "var notebookContainer = gd.closest('#notebook-container');\n",
              "if (notebookContainer) {{\n",
              "    x.observe(notebookContainer, {childList: true});\n",
              "}}\n",
              "\n",
              "// Listen for the clearing of the current output cell\n",
              "var outputEl = gd.closest('.output');\n",
              "if (outputEl) {{\n",
              "    x.observe(outputEl, {childList: true});\n",
              "}}\n",
              "\n",
              "                        })                };                            </script>        </div>\n",
              "</body>\n",
              "</html>"
            ]
          },
          "metadata": {}
        }
      ]
    },
    {
      "cell_type": "markdown",
      "source": [
        "**Collecting Entire data**"
      ],
      "metadata": {
        "id": "pKlUHw3B1Ssx"
      }
    },
    {
      "cell_type": "code",
      "source": [
        "import os\n",
        "path  = r'/content'\n",
        "files = os.listdir(path)"
      ],
      "metadata": {
        "execution": {
          "iopub.status.busy": "2022-02-08T05:28:37.463057Z",
          "iopub.execute_input": "2022-02-08T05:28:37.463332Z",
          "iopub.status.idle": "2022-02-08T05:28:37.468540Z",
          "shell.execute_reply.started": "2022-02-08T05:28:37.463303Z",
          "shell.execute_reply": "2022-02-08T05:28:37.467786Z"
        },
        "trusted": true,
        "id": "GxgAb-pa1Ssx"
      },
      "execution_count": 58,
      "outputs": []
    },
    {
      "cell_type": "code",
      "source": [
        "files"
      ],
      "metadata": {
        "execution": {
          "iopub.status.busy": "2022-02-08T05:28:37.469801Z",
          "iopub.execute_input": "2022-02-08T05:28:37.470051Z",
          "iopub.status.idle": "2022-02-08T05:28:37.479375Z",
          "shell.execute_reply.started": "2022-02-08T05:28:37.470023Z",
          "shell.execute_reply": "2022-02-08T05:28:37.478628Z"
        },
        "trusted": true,
        "colab": {
          "base_uri": "https://localhost:8080/"
        },
        "id": "0HWtznCh1Ssy",
        "outputId": "d3b20ca6-283a-4fb5-e48b-83bac8db9320"
      },
      "execution_count": 59,
      "outputs": [
        {
          "output_type": "execute_result",
          "data": {
            "text/plain": [
              "['.config',\n",
              " 'category_file.txt',\n",
              " 'youtube.zip',\n",
              " 'kaggle.json',\n",
              " 'USvideos.csv',\n",
              " 'US_category_id.json',\n",
              " 'GBvideos.csv',\n",
              " 'GB_category_id.json',\n",
              " 'UScomments.csv',\n",
              " 'category-file.zip',\n",
              " 'GBcomments.csv',\n",
              " 'sample_data']"
            ]
          },
          "metadata": {},
          "execution_count": 59
        }
      ]
    },
    {
      "cell_type": "code",
      "source": [
        "csv = ['GBvideos.csv', 'USvideos.csv']\n",
        "csv"
      ],
      "metadata": {
        "execution": {
          "iopub.status.busy": "2022-02-08T05:28:37.480385Z",
          "iopub.execute_input": "2022-02-08T05:28:37.480638Z",
          "iopub.status.idle": "2022-02-08T05:28:37.490661Z",
          "shell.execute_reply.started": "2022-02-08T05:28:37.480606Z",
          "shell.execute_reply": "2022-02-08T05:28:37.490101Z"
        },
        "trusted": true,
        "colab": {
          "base_uri": "https://localhost:8080/"
        },
        "id": "8Mgdqgz-1Ssy",
        "outputId": "dbdeda39-acb9-49ec-a999-ef1b6e6a82da"
      },
      "execution_count": 60,
      "outputs": [
        {
          "output_type": "execute_result",
          "data": {
            "text/plain": [
              "['GBvideos.csv', 'USvideos.csv']"
            ]
          },
          "metadata": {},
          "execution_count": 60
        }
      ]
    },
    {
      "cell_type": "code",
      "source": [
        "csv[1].split('.')[0][0:2]"
      ],
      "metadata": {
        "execution": {
          "iopub.status.busy": "2022-02-08T05:28:37.491905Z",
          "iopub.execute_input": "2022-02-08T05:28:37.492108Z",
          "iopub.status.idle": "2022-02-08T05:28:37.502397Z",
          "shell.execute_reply.started": "2022-02-08T05:28:37.492083Z",
          "shell.execute_reply": "2022-02-08T05:28:37.501545Z"
        },
        "trusted": true,
        "colab": {
          "base_uri": "https://localhost:8080/",
          "height": 35
        },
        "id": "7267pg3e1Ssz",
        "outputId": "9b7af740-5d39-4c76-8ec7-830ee3d10408"
      },
      "execution_count": 61,
      "outputs": [
        {
          "output_type": "execute_result",
          "data": {
            "application/vnd.google.colaboratory.intrinsic+json": {
              "type": "string"
            },
            "text/plain": [
              "'US'"
            ]
          },
          "metadata": {},
          "execution_count": 61
        }
      ]
    },
    {
      "cell_type": "code",
      "source": [
        "full_df = pd.DataFrame()\n",
        "for file in csv:\n",
        "    df = pd.read_csv(path+'/'+file, encoding='iso-8859-1', error_bad_lines=False)\n",
        "    df['country'] = file.split('.')[0][0:2]\n",
        "    full_df = pd.concat([full_df, df])\n",
        "    \n",
        "    "
      ],
      "metadata": {
        "execution": {
          "iopub.status.busy": "2022-02-08T05:28:37.503379Z",
          "iopub.execute_input": "2022-02-08T05:28:37.503638Z",
          "iopub.status.idle": "2022-02-08T05:28:37.683651Z",
          "shell.execute_reply.started": "2022-02-08T05:28:37.503606Z",
          "shell.execute_reply": "2022-02-08T05:28:37.682894Z"
        },
        "trusted": true,
        "colab": {
          "base_uri": "https://localhost:8080/"
        },
        "id": "XZEJMP7K1Ss0",
        "outputId": "cd4615fb-7688-432b-dda9-bb8ab17d762a"
      },
      "execution_count": 62,
      "outputs": [
        {
          "output_type": "stream",
          "name": "stderr",
          "text": [
            "/usr/local/lib/python3.7/dist-packages/IPython/core/interactiveshell.py:2882: FutureWarning:\n",
            "\n",
            "The error_bad_lines argument has been deprecated and will be removed in a future version.\n",
            "\n",
            "\n",
            "\n",
            "b'Skipping line 2398: expected 11 fields, saw 21\\nSkipping line 2797: expected 11 fields, saw 21\\n'\n",
            "b'Skipping line 2401: expected 11 fields, saw 21\\nSkipping line 2800: expected 11 fields, saw 21\\nSkipping line 5297: expected 11 fields, saw 12\\nSkipping line 5299: expected 11 fields, saw 12\\nSkipping line 5300: expected 11 fields, saw 12\\nSkipping line 5301: expected 11 fields, saw 12\\n'\n"
          ]
        }
      ]
    },
    {
      "cell_type": "code",
      "source": [
        "full_df.head()"
      ],
      "metadata": {
        "execution": {
          "iopub.status.busy": "2022-02-08T05:28:37.684612Z",
          "iopub.execute_input": "2022-02-08T05:28:37.685221Z",
          "iopub.status.idle": "2022-02-08T05:28:37.701842Z",
          "shell.execute_reply.started": "2022-02-08T05:28:37.685187Z",
          "shell.execute_reply": "2022-02-08T05:28:37.701206Z"
        },
        "trusted": true,
        "colab": {
          "base_uri": "https://localhost:8080/",
          "height": 583
        },
        "id": "nSXIJF4h1Ss1",
        "outputId": "762a2a36-6364-4f89-fbf6-f96282b409ae"
      },
      "execution_count": 63,
      "outputs": [
        {
          "output_type": "execute_result",
          "data": {
            "text/html": [
              "\n",
              "  <div id=\"df-7e7eb434-f593-42fc-a67e-6271ad4714cf\">\n",
              "    <div class=\"colab-df-container\">\n",
              "      <div>\n",
              "<style scoped>\n",
              "    .dataframe tbody tr th:only-of-type {\n",
              "        vertical-align: middle;\n",
              "    }\n",
              "\n",
              "    .dataframe tbody tr th {\n",
              "        vertical-align: top;\n",
              "    }\n",
              "\n",
              "    .dataframe thead th {\n",
              "        text-align: right;\n",
              "    }\n",
              "</style>\n",
              "<table border=\"1\" class=\"dataframe\">\n",
              "  <thead>\n",
              "    <tr style=\"text-align: right;\">\n",
              "      <th></th>\n",
              "      <th>video_id</th>\n",
              "      <th>title</th>\n",
              "      <th>channel_title</th>\n",
              "      <th>category_id</th>\n",
              "      <th>tags</th>\n",
              "      <th>views</th>\n",
              "      <th>likes</th>\n",
              "      <th>dislikes</th>\n",
              "      <th>comment_total</th>\n",
              "      <th>thumbnail_link</th>\n",
              "      <th>date</th>\n",
              "      <th>country</th>\n",
              "    </tr>\n",
              "  </thead>\n",
              "  <tbody>\n",
              "    <tr>\n",
              "      <th>0</th>\n",
              "      <td>jt2OHQh0HoQ</td>\n",
              "      <td>Live Apple Event - Apple September Event 2017 ...</td>\n",
              "      <td>Apple Event</td>\n",
              "      <td>28</td>\n",
              "      <td>apple events|apple event|iphone 8|iphone x|iph...</td>\n",
              "      <td>7426393</td>\n",
              "      <td>78240</td>\n",
              "      <td>13548</td>\n",
              "      <td>705</td>\n",
              "      <td>https://i.ytimg.com/vi/jt2OHQh0HoQ/default_liv...</td>\n",
              "      <td>13.09</td>\n",
              "      <td>GB</td>\n",
              "    </tr>\n",
              "    <tr>\n",
              "      <th>1</th>\n",
              "      <td>AqokkXoa7uE</td>\n",
              "      <td>Holly and Phillip Meet Samantha the Sex Robot ...</td>\n",
              "      <td>This Morning</td>\n",
              "      <td>24</td>\n",
              "      <td>this morning|interview|holly willoughby|philli...</td>\n",
              "      <td>494203</td>\n",
              "      <td>2651</td>\n",
              "      <td>1309</td>\n",
              "      <td>0</td>\n",
              "      <td>https://i.ytimg.com/vi/AqokkXoa7uE/default.jpg</td>\n",
              "      <td>13.09</td>\n",
              "      <td>GB</td>\n",
              "    </tr>\n",
              "    <tr>\n",
              "      <th>2</th>\n",
              "      <td>YPVcg45W0z4</td>\n",
              "      <td>My DNA Test Results! I'm WHAT?!</td>\n",
              "      <td>emmablackery</td>\n",
              "      <td>24</td>\n",
              "      <td>emmablackery|emma blackery|emma|blackery|briti...</td>\n",
              "      <td>142819</td>\n",
              "      <td>13119</td>\n",
              "      <td>151</td>\n",
              "      <td>1141</td>\n",
              "      <td>https://i.ytimg.com/vi/YPVcg45W0z4/default.jpg</td>\n",
              "      <td>13.09</td>\n",
              "      <td>GB</td>\n",
              "    </tr>\n",
              "    <tr>\n",
              "      <th>3</th>\n",
              "      <td>T_PuZBdT2iM</td>\n",
              "      <td>getting into a conversation in a language you ...</td>\n",
              "      <td>ProZD</td>\n",
              "      <td>1</td>\n",
              "      <td>skit|korean|language|conversation|esl|japanese...</td>\n",
              "      <td>1580028</td>\n",
              "      <td>65729</td>\n",
              "      <td>1529</td>\n",
              "      <td>3598</td>\n",
              "      <td>https://i.ytimg.com/vi/T_PuZBdT2iM/default.jpg</td>\n",
              "      <td>13.09</td>\n",
              "      <td>GB</td>\n",
              "    </tr>\n",
              "    <tr>\n",
              "      <th>4</th>\n",
              "      <td>NsjsmgmbCfc</td>\n",
              "      <td>Baby Name Challenge!</td>\n",
              "      <td>Sprinkleofglitter</td>\n",
              "      <td>26</td>\n",
              "      <td>sprinkleofglitter|sprinkle of glitter|baby gli...</td>\n",
              "      <td>40592</td>\n",
              "      <td>5019</td>\n",
              "      <td>57</td>\n",
              "      <td>490</td>\n",
              "      <td>https://i.ytimg.com/vi/NsjsmgmbCfc/default.jpg</td>\n",
              "      <td>13.09</td>\n",
              "      <td>GB</td>\n",
              "    </tr>\n",
              "  </tbody>\n",
              "</table>\n",
              "</div>\n",
              "      <button class=\"colab-df-convert\" onclick=\"convertToInteractive('df-7e7eb434-f593-42fc-a67e-6271ad4714cf')\"\n",
              "              title=\"Convert this dataframe to an interactive table.\"\n",
              "              style=\"display:none;\">\n",
              "        \n",
              "  <svg xmlns=\"http://www.w3.org/2000/svg\" height=\"24px\"viewBox=\"0 0 24 24\"\n",
              "       width=\"24px\">\n",
              "    <path d=\"M0 0h24v24H0V0z\" fill=\"none\"/>\n",
              "    <path d=\"M18.56 5.44l.94 2.06.94-2.06 2.06-.94-2.06-.94-.94-2.06-.94 2.06-2.06.94zm-11 1L8.5 8.5l.94-2.06 2.06-.94-2.06-.94L8.5 2.5l-.94 2.06-2.06.94zm10 10l.94 2.06.94-2.06 2.06-.94-2.06-.94-.94-2.06-.94 2.06-2.06.94z\"/><path d=\"M17.41 7.96l-1.37-1.37c-.4-.4-.92-.59-1.43-.59-.52 0-1.04.2-1.43.59L10.3 9.45l-7.72 7.72c-.78.78-.78 2.05 0 2.83L4 21.41c.39.39.9.59 1.41.59.51 0 1.02-.2 1.41-.59l7.78-7.78 2.81-2.81c.8-.78.8-2.07 0-2.86zM5.41 20L4 18.59l7.72-7.72 1.47 1.35L5.41 20z\"/>\n",
              "  </svg>\n",
              "      </button>\n",
              "      \n",
              "  <style>\n",
              "    .colab-df-container {\n",
              "      display:flex;\n",
              "      flex-wrap:wrap;\n",
              "      gap: 12px;\n",
              "    }\n",
              "\n",
              "    .colab-df-convert {\n",
              "      background-color: #E8F0FE;\n",
              "      border: none;\n",
              "      border-radius: 50%;\n",
              "      cursor: pointer;\n",
              "      display: none;\n",
              "      fill: #1967D2;\n",
              "      height: 32px;\n",
              "      padding: 0 0 0 0;\n",
              "      width: 32px;\n",
              "    }\n",
              "\n",
              "    .colab-df-convert:hover {\n",
              "      background-color: #E2EBFA;\n",
              "      box-shadow: 0px 1px 2px rgba(60, 64, 67, 0.3), 0px 1px 3px 1px rgba(60, 64, 67, 0.15);\n",
              "      fill: #174EA6;\n",
              "    }\n",
              "\n",
              "    [theme=dark] .colab-df-convert {\n",
              "      background-color: #3B4455;\n",
              "      fill: #D2E3FC;\n",
              "    }\n",
              "\n",
              "    [theme=dark] .colab-df-convert:hover {\n",
              "      background-color: #434B5C;\n",
              "      box-shadow: 0px 1px 3px 1px rgba(0, 0, 0, 0.15);\n",
              "      filter: drop-shadow(0px 1px 2px rgba(0, 0, 0, 0.3));\n",
              "      fill: #FFFFFF;\n",
              "    }\n",
              "  </style>\n",
              "\n",
              "      <script>\n",
              "        const buttonEl =\n",
              "          document.querySelector('#df-7e7eb434-f593-42fc-a67e-6271ad4714cf button.colab-df-convert');\n",
              "        buttonEl.style.display =\n",
              "          google.colab.kernel.accessAllowed ? 'block' : 'none';\n",
              "\n",
              "        async function convertToInteractive(key) {\n",
              "          const element = document.querySelector('#df-7e7eb434-f593-42fc-a67e-6271ad4714cf');\n",
              "          const dataTable =\n",
              "            await google.colab.kernel.invokeFunction('convertToInteractive',\n",
              "                                                     [key], {});\n",
              "          if (!dataTable) return;\n",
              "\n",
              "          const docLinkHtml = 'Like what you see? Visit the ' +\n",
              "            '<a target=\"_blank\" href=https://colab.research.google.com/notebooks/data_table.ipynb>data table notebook</a>'\n",
              "            + ' to learn more about interactive tables.';\n",
              "          element.innerHTML = '';\n",
              "          dataTable['output_type'] = 'display_data';\n",
              "          await google.colab.output.renderOutput(dataTable, element);\n",
              "          const docLink = document.createElement('div');\n",
              "          docLink.innerHTML = docLinkHtml;\n",
              "          element.appendChild(docLink);\n",
              "        }\n",
              "      </script>\n",
              "    </div>\n",
              "  </div>\n",
              "  "
            ],
            "text/plain": [
              "      video_id  ... country\n",
              "0  jt2OHQh0HoQ  ...      GB\n",
              "1  AqokkXoa7uE  ...      GB\n",
              "2  YPVcg45W0z4  ...      GB\n",
              "3  T_PuZBdT2iM  ...      GB\n",
              "4  NsjsmgmbCfc  ...      GB\n",
              "\n",
              "[5 rows x 12 columns]"
            ]
          },
          "metadata": {},
          "execution_count": 63
        }
      ]
    },
    {
      "cell_type": "markdown",
      "source": [
        "**Most liked category**"
      ],
      "metadata": {
        "id": "yUxv533r1Ss2"
      }
    },
    {
      "cell_type": "code",
      "source": [
        "cat = pd.read_csv('/content/category_file.txt', sep= ':')\n",
        "cat.head()"
      ],
      "metadata": {
        "execution": {
          "iopub.status.busy": "2022-02-08T05:28:37.702871Z",
          "iopub.execute_input": "2022-02-08T05:28:37.703639Z",
          "iopub.status.idle": "2022-02-08T05:28:37.721600Z",
          "shell.execute_reply.started": "2022-02-08T05:28:37.703599Z",
          "shell.execute_reply": "2022-02-08T05:28:37.720846Z"
        },
        "trusted": true,
        "colab": {
          "base_uri": "https://localhost:8080/",
          "height": 206
        },
        "id": "HEhRK2WY1Ss3",
        "outputId": "386b1bfe-22f9-40e0-fb6e-9f11e5eb81e4"
      },
      "execution_count": 66,
      "outputs": [
        {
          "output_type": "execute_result",
          "data": {
            "text/html": [
              "\n",
              "  <div id=\"df-9479079b-d8bc-4f9b-b05d-a2c213497dbb\">\n",
              "    <div class=\"colab-df-container\">\n",
              "      <div>\n",
              "<style scoped>\n",
              "    .dataframe tbody tr th:only-of-type {\n",
              "        vertical-align: middle;\n",
              "    }\n",
              "\n",
              "    .dataframe tbody tr th {\n",
              "        vertical-align: top;\n",
              "    }\n",
              "\n",
              "    .dataframe thead th {\n",
              "        text-align: right;\n",
              "    }\n",
              "</style>\n",
              "<table border=\"1\" class=\"dataframe\">\n",
              "  <thead>\n",
              "    <tr style=\"text-align: right;\">\n",
              "      <th></th>\n",
              "      <th>Category_id      Category_name</th>\n",
              "    </tr>\n",
              "  </thead>\n",
              "  <tbody>\n",
              "    <tr>\n",
              "      <th>1</th>\n",
              "      <td>Film &amp; Animation</td>\n",
              "    </tr>\n",
              "    <tr>\n",
              "      <th>2</th>\n",
              "      <td>Autos &amp; Vehicles</td>\n",
              "    </tr>\n",
              "    <tr>\n",
              "      <th>10</th>\n",
              "      <td>Music</td>\n",
              "    </tr>\n",
              "    <tr>\n",
              "      <th>15</th>\n",
              "      <td>Pets &amp; Animals</td>\n",
              "    </tr>\n",
              "    <tr>\n",
              "      <th>17</th>\n",
              "      <td>Sports</td>\n",
              "    </tr>\n",
              "  </tbody>\n",
              "</table>\n",
              "</div>\n",
              "      <button class=\"colab-df-convert\" onclick=\"convertToInteractive('df-9479079b-d8bc-4f9b-b05d-a2c213497dbb')\"\n",
              "              title=\"Convert this dataframe to an interactive table.\"\n",
              "              style=\"display:none;\">\n",
              "        \n",
              "  <svg xmlns=\"http://www.w3.org/2000/svg\" height=\"24px\"viewBox=\"0 0 24 24\"\n",
              "       width=\"24px\">\n",
              "    <path d=\"M0 0h24v24H0V0z\" fill=\"none\"/>\n",
              "    <path d=\"M18.56 5.44l.94 2.06.94-2.06 2.06-.94-2.06-.94-.94-2.06-.94 2.06-2.06.94zm-11 1L8.5 8.5l.94-2.06 2.06-.94-2.06-.94L8.5 2.5l-.94 2.06-2.06.94zm10 10l.94 2.06.94-2.06 2.06-.94-2.06-.94-.94-2.06-.94 2.06-2.06.94z\"/><path d=\"M17.41 7.96l-1.37-1.37c-.4-.4-.92-.59-1.43-.59-.52 0-1.04.2-1.43.59L10.3 9.45l-7.72 7.72c-.78.78-.78 2.05 0 2.83L4 21.41c.39.39.9.59 1.41.59.51 0 1.02-.2 1.41-.59l7.78-7.78 2.81-2.81c.8-.78.8-2.07 0-2.86zM5.41 20L4 18.59l7.72-7.72 1.47 1.35L5.41 20z\"/>\n",
              "  </svg>\n",
              "      </button>\n",
              "      \n",
              "  <style>\n",
              "    .colab-df-container {\n",
              "      display:flex;\n",
              "      flex-wrap:wrap;\n",
              "      gap: 12px;\n",
              "    }\n",
              "\n",
              "    .colab-df-convert {\n",
              "      background-color: #E8F0FE;\n",
              "      border: none;\n",
              "      border-radius: 50%;\n",
              "      cursor: pointer;\n",
              "      display: none;\n",
              "      fill: #1967D2;\n",
              "      height: 32px;\n",
              "      padding: 0 0 0 0;\n",
              "      width: 32px;\n",
              "    }\n",
              "\n",
              "    .colab-df-convert:hover {\n",
              "      background-color: #E2EBFA;\n",
              "      box-shadow: 0px 1px 2px rgba(60, 64, 67, 0.3), 0px 1px 3px 1px rgba(60, 64, 67, 0.15);\n",
              "      fill: #174EA6;\n",
              "    }\n",
              "\n",
              "    [theme=dark] .colab-df-convert {\n",
              "      background-color: #3B4455;\n",
              "      fill: #D2E3FC;\n",
              "    }\n",
              "\n",
              "    [theme=dark] .colab-df-convert:hover {\n",
              "      background-color: #434B5C;\n",
              "      box-shadow: 0px 1px 3px 1px rgba(0, 0, 0, 0.15);\n",
              "      filter: drop-shadow(0px 1px 2px rgba(0, 0, 0, 0.3));\n",
              "      fill: #FFFFFF;\n",
              "    }\n",
              "  </style>\n",
              "\n",
              "      <script>\n",
              "        const buttonEl =\n",
              "          document.querySelector('#df-9479079b-d8bc-4f9b-b05d-a2c213497dbb button.colab-df-convert');\n",
              "        buttonEl.style.display =\n",
              "          google.colab.kernel.accessAllowed ? 'block' : 'none';\n",
              "\n",
              "        async function convertToInteractive(key) {\n",
              "          const element = document.querySelector('#df-9479079b-d8bc-4f9b-b05d-a2c213497dbb');\n",
              "          const dataTable =\n",
              "            await google.colab.kernel.invokeFunction('convertToInteractive',\n",
              "                                                     [key], {});\n",
              "          if (!dataTable) return;\n",
              "\n",
              "          const docLinkHtml = 'Like what you see? Visit the ' +\n",
              "            '<a target=\"_blank\" href=https://colab.research.google.com/notebooks/data_table.ipynb>data table notebook</a>'\n",
              "            + ' to learn more about interactive tables.';\n",
              "          element.innerHTML = '';\n",
              "          dataTable['output_type'] = 'display_data';\n",
              "          await google.colab.output.renderOutput(dataTable, element);\n",
              "          const docLink = document.createElement('div');\n",
              "          docLink.innerHTML = docLinkHtml;\n",
              "          element.appendChild(docLink);\n",
              "        }\n",
              "      </script>\n",
              "    </div>\n",
              "  </div>\n",
              "  "
            ],
            "text/plain": [
              "   Category_id      Category_name\n",
              "1                Film & Animation\n",
              "2                Autos & Vehicles\n",
              "10                          Music\n",
              "15                 Pets & Animals\n",
              "17                         Sports"
            ]
          },
          "metadata": {},
          "execution_count": 66
        }
      ]
    },
    {
      "cell_type": "code",
      "source": [
        "cat.reset_index(inplace=True)"
      ],
      "metadata": {
        "execution": {
          "iopub.status.busy": "2022-02-08T05:28:37.722695Z",
          "iopub.execute_input": "2022-02-08T05:28:37.722913Z",
          "iopub.status.idle": "2022-02-08T05:28:37.727712Z",
          "shell.execute_reply.started": "2022-02-08T05:28:37.722888Z",
          "shell.execute_reply": "2022-02-08T05:28:37.727084Z"
        },
        "trusted": true,
        "id": "sRBGnka51Ss3"
      },
      "execution_count": 67,
      "outputs": []
    },
    {
      "cell_type": "code",
      "source": [
        "cat.columns = ['category_id', 'category_name']\n",
        "cat"
      ],
      "metadata": {
        "execution": {
          "iopub.status.busy": "2022-02-08T05:28:37.728622Z",
          "iopub.execute_input": "2022-02-08T05:28:37.729242Z",
          "iopub.status.idle": "2022-02-08T05:28:37.746759Z",
          "shell.execute_reply.started": "2022-02-08T05:28:37.729191Z",
          "shell.execute_reply": "2022-02-08T05:28:37.745797Z"
        },
        "trusted": true,
        "colab": {
          "base_uri": "https://localhost:8080/",
          "height": 1000
        },
        "id": "hm490IXe1Ss4",
        "outputId": "919200f7-0a4f-4efc-b258-f6fe7955dde0"
      },
      "execution_count": 68,
      "outputs": [
        {
          "output_type": "execute_result",
          "data": {
            "text/html": [
              "\n",
              "  <div id=\"df-33049db5-f1a1-496e-b818-6b548d3e45e6\">\n",
              "    <div class=\"colab-df-container\">\n",
              "      <div>\n",
              "<style scoped>\n",
              "    .dataframe tbody tr th:only-of-type {\n",
              "        vertical-align: middle;\n",
              "    }\n",
              "\n",
              "    .dataframe tbody tr th {\n",
              "        vertical-align: top;\n",
              "    }\n",
              "\n",
              "    .dataframe thead th {\n",
              "        text-align: right;\n",
              "    }\n",
              "</style>\n",
              "<table border=\"1\" class=\"dataframe\">\n",
              "  <thead>\n",
              "    <tr style=\"text-align: right;\">\n",
              "      <th></th>\n",
              "      <th>category_id</th>\n",
              "      <th>category_name</th>\n",
              "    </tr>\n",
              "  </thead>\n",
              "  <tbody>\n",
              "    <tr>\n",
              "      <th>0</th>\n",
              "      <td>1</td>\n",
              "      <td>Film &amp; Animation</td>\n",
              "    </tr>\n",
              "    <tr>\n",
              "      <th>1</th>\n",
              "      <td>2</td>\n",
              "      <td>Autos &amp; Vehicles</td>\n",
              "    </tr>\n",
              "    <tr>\n",
              "      <th>2</th>\n",
              "      <td>10</td>\n",
              "      <td>Music</td>\n",
              "    </tr>\n",
              "    <tr>\n",
              "      <th>3</th>\n",
              "      <td>15</td>\n",
              "      <td>Pets &amp; Animals</td>\n",
              "    </tr>\n",
              "    <tr>\n",
              "      <th>4</th>\n",
              "      <td>17</td>\n",
              "      <td>Sports</td>\n",
              "    </tr>\n",
              "    <tr>\n",
              "      <th>5</th>\n",
              "      <td>18</td>\n",
              "      <td>Short Movies</td>\n",
              "    </tr>\n",
              "    <tr>\n",
              "      <th>6</th>\n",
              "      <td>19</td>\n",
              "      <td>Travel &amp; Events</td>\n",
              "    </tr>\n",
              "    <tr>\n",
              "      <th>7</th>\n",
              "      <td>20</td>\n",
              "      <td>Gaming</td>\n",
              "    </tr>\n",
              "    <tr>\n",
              "      <th>8</th>\n",
              "      <td>21</td>\n",
              "      <td>Videoblogging</td>\n",
              "    </tr>\n",
              "    <tr>\n",
              "      <th>9</th>\n",
              "      <td>22</td>\n",
              "      <td>People &amp; Blogs</td>\n",
              "    </tr>\n",
              "    <tr>\n",
              "      <th>10</th>\n",
              "      <td>23</td>\n",
              "      <td>Comedy</td>\n",
              "    </tr>\n",
              "    <tr>\n",
              "      <th>11</th>\n",
              "      <td>24</td>\n",
              "      <td>Entertainment</td>\n",
              "    </tr>\n",
              "    <tr>\n",
              "      <th>12</th>\n",
              "      <td>25</td>\n",
              "      <td>News &amp; Politics</td>\n",
              "    </tr>\n",
              "    <tr>\n",
              "      <th>13</th>\n",
              "      <td>26</td>\n",
              "      <td>Howto &amp; Style</td>\n",
              "    </tr>\n",
              "    <tr>\n",
              "      <th>14</th>\n",
              "      <td>27</td>\n",
              "      <td>Education</td>\n",
              "    </tr>\n",
              "    <tr>\n",
              "      <th>15</th>\n",
              "      <td>28</td>\n",
              "      <td>Science &amp; Technology</td>\n",
              "    </tr>\n",
              "    <tr>\n",
              "      <th>16</th>\n",
              "      <td>29</td>\n",
              "      <td>Nonprofits &amp; Activism</td>\n",
              "    </tr>\n",
              "    <tr>\n",
              "      <th>17</th>\n",
              "      <td>30</td>\n",
              "      <td>Movies</td>\n",
              "    </tr>\n",
              "    <tr>\n",
              "      <th>18</th>\n",
              "      <td>31</td>\n",
              "      <td>Anime/Animation</td>\n",
              "    </tr>\n",
              "    <tr>\n",
              "      <th>19</th>\n",
              "      <td>32</td>\n",
              "      <td>Action/Adventure</td>\n",
              "    </tr>\n",
              "    <tr>\n",
              "      <th>20</th>\n",
              "      <td>33</td>\n",
              "      <td>Classics</td>\n",
              "    </tr>\n",
              "    <tr>\n",
              "      <th>21</th>\n",
              "      <td>34</td>\n",
              "      <td>Comedy</td>\n",
              "    </tr>\n",
              "    <tr>\n",
              "      <th>22</th>\n",
              "      <td>35</td>\n",
              "      <td>Documentary</td>\n",
              "    </tr>\n",
              "    <tr>\n",
              "      <th>23</th>\n",
              "      <td>36</td>\n",
              "      <td>Drama</td>\n",
              "    </tr>\n",
              "    <tr>\n",
              "      <th>24</th>\n",
              "      <td>37</td>\n",
              "      <td>Family</td>\n",
              "    </tr>\n",
              "    <tr>\n",
              "      <th>25</th>\n",
              "      <td>38</td>\n",
              "      <td>Foreign</td>\n",
              "    </tr>\n",
              "    <tr>\n",
              "      <th>26</th>\n",
              "      <td>39</td>\n",
              "      <td>Horror</td>\n",
              "    </tr>\n",
              "    <tr>\n",
              "      <th>27</th>\n",
              "      <td>40</td>\n",
              "      <td>Sci-Fi/Fantasy</td>\n",
              "    </tr>\n",
              "    <tr>\n",
              "      <th>28</th>\n",
              "      <td>41</td>\n",
              "      <td>Thriller</td>\n",
              "    </tr>\n",
              "    <tr>\n",
              "      <th>29</th>\n",
              "      <td>42</td>\n",
              "      <td>Shorts</td>\n",
              "    </tr>\n",
              "    <tr>\n",
              "      <th>30</th>\n",
              "      <td>43</td>\n",
              "      <td>Shows</td>\n",
              "    </tr>\n",
              "    <tr>\n",
              "      <th>31</th>\n",
              "      <td>44</td>\n",
              "      <td>Trailers</td>\n",
              "    </tr>\n",
              "  </tbody>\n",
              "</table>\n",
              "</div>\n",
              "      <button class=\"colab-df-convert\" onclick=\"convertToInteractive('df-33049db5-f1a1-496e-b818-6b548d3e45e6')\"\n",
              "              title=\"Convert this dataframe to an interactive table.\"\n",
              "              style=\"display:none;\">\n",
              "        \n",
              "  <svg xmlns=\"http://www.w3.org/2000/svg\" height=\"24px\"viewBox=\"0 0 24 24\"\n",
              "       width=\"24px\">\n",
              "    <path d=\"M0 0h24v24H0V0z\" fill=\"none\"/>\n",
              "    <path d=\"M18.56 5.44l.94 2.06.94-2.06 2.06-.94-2.06-.94-.94-2.06-.94 2.06-2.06.94zm-11 1L8.5 8.5l.94-2.06 2.06-.94-2.06-.94L8.5 2.5l-.94 2.06-2.06.94zm10 10l.94 2.06.94-2.06 2.06-.94-2.06-.94-.94-2.06-.94 2.06-2.06.94z\"/><path d=\"M17.41 7.96l-1.37-1.37c-.4-.4-.92-.59-1.43-.59-.52 0-1.04.2-1.43.59L10.3 9.45l-7.72 7.72c-.78.78-.78 2.05 0 2.83L4 21.41c.39.39.9.59 1.41.59.51 0 1.02-.2 1.41-.59l7.78-7.78 2.81-2.81c.8-.78.8-2.07 0-2.86zM5.41 20L4 18.59l7.72-7.72 1.47 1.35L5.41 20z\"/>\n",
              "  </svg>\n",
              "      </button>\n",
              "      \n",
              "  <style>\n",
              "    .colab-df-container {\n",
              "      display:flex;\n",
              "      flex-wrap:wrap;\n",
              "      gap: 12px;\n",
              "    }\n",
              "\n",
              "    .colab-df-convert {\n",
              "      background-color: #E8F0FE;\n",
              "      border: none;\n",
              "      border-radius: 50%;\n",
              "      cursor: pointer;\n",
              "      display: none;\n",
              "      fill: #1967D2;\n",
              "      height: 32px;\n",
              "      padding: 0 0 0 0;\n",
              "      width: 32px;\n",
              "    }\n",
              "\n",
              "    .colab-df-convert:hover {\n",
              "      background-color: #E2EBFA;\n",
              "      box-shadow: 0px 1px 2px rgba(60, 64, 67, 0.3), 0px 1px 3px 1px rgba(60, 64, 67, 0.15);\n",
              "      fill: #174EA6;\n",
              "    }\n",
              "\n",
              "    [theme=dark] .colab-df-convert {\n",
              "      background-color: #3B4455;\n",
              "      fill: #D2E3FC;\n",
              "    }\n",
              "\n",
              "    [theme=dark] .colab-df-convert:hover {\n",
              "      background-color: #434B5C;\n",
              "      box-shadow: 0px 1px 3px 1px rgba(0, 0, 0, 0.15);\n",
              "      filter: drop-shadow(0px 1px 2px rgba(0, 0, 0, 0.3));\n",
              "      fill: #FFFFFF;\n",
              "    }\n",
              "  </style>\n",
              "\n",
              "      <script>\n",
              "        const buttonEl =\n",
              "          document.querySelector('#df-33049db5-f1a1-496e-b818-6b548d3e45e6 button.colab-df-convert');\n",
              "        buttonEl.style.display =\n",
              "          google.colab.kernel.accessAllowed ? 'block' : 'none';\n",
              "\n",
              "        async function convertToInteractive(key) {\n",
              "          const element = document.querySelector('#df-33049db5-f1a1-496e-b818-6b548d3e45e6');\n",
              "          const dataTable =\n",
              "            await google.colab.kernel.invokeFunction('convertToInteractive',\n",
              "                                                     [key], {});\n",
              "          if (!dataTable) return;\n",
              "\n",
              "          const docLinkHtml = 'Like what you see? Visit the ' +\n",
              "            '<a target=\"_blank\" href=https://colab.research.google.com/notebooks/data_table.ipynb>data table notebook</a>'\n",
              "            + ' to learn more about interactive tables.';\n",
              "          element.innerHTML = '';\n",
              "          dataTable['output_type'] = 'display_data';\n",
              "          await google.colab.output.renderOutput(dataTable, element);\n",
              "          const docLink = document.createElement('div');\n",
              "          docLink.innerHTML = docLinkHtml;\n",
              "          element.appendChild(docLink);\n",
              "        }\n",
              "      </script>\n",
              "    </div>\n",
              "  </div>\n",
              "  "
            ],
            "text/plain": [
              "    category_id           category_name\n",
              "0             1        Film & Animation\n",
              "1             2        Autos & Vehicles\n",
              "2            10                   Music\n",
              "3            15          Pets & Animals\n",
              "4            17                  Sports\n",
              "5            18            Short Movies\n",
              "6            19         Travel & Events\n",
              "7            20                  Gaming\n",
              "8            21           Videoblogging\n",
              "9            22          People & Blogs\n",
              "10           23                  Comedy\n",
              "11           24           Entertainment\n",
              "12           25         News & Politics\n",
              "13           26           Howto & Style\n",
              "14           27               Education\n",
              "15           28    Science & Technology\n",
              "16           29   Nonprofits & Activism\n",
              "17           30                  Movies\n",
              "18           31         Anime/Animation\n",
              "19           32        Action/Adventure\n",
              "20           33                Classics\n",
              "21           34                  Comedy\n",
              "22           35             Documentary\n",
              "23           36                   Drama\n",
              "24           37                  Family\n",
              "25           38                 Foreign\n",
              "26           39                  Horror\n",
              "27           40          Sci-Fi/Fantasy\n",
              "28           41                Thriller\n",
              "29           42                  Shorts\n",
              "30           43                   Shows\n",
              "31           44    Trailers            "
            ]
          },
          "metadata": {},
          "execution_count": 68
        }
      ]
    },
    {
      "cell_type": "code",
      "source": [
        "cat.set_index('category_id', inplace=True)\n",
        "cat"
      ],
      "metadata": {
        "execution": {
          "iopub.status.busy": "2022-02-08T05:28:37.747910Z",
          "iopub.execute_input": "2022-02-08T05:28:37.748284Z",
          "iopub.status.idle": "2022-02-08T05:28:37.759681Z",
          "shell.execute_reply.started": "2022-02-08T05:28:37.748252Z",
          "shell.execute_reply": "2022-02-08T05:28:37.758868Z"
        },
        "trusted": true,
        "colab": {
          "base_uri": "https://localhost:8080/",
          "height": 1000
        },
        "id": "v38VQiAy1Ss4",
        "outputId": "5728728e-8139-4168-d9aa-4d8623e20b3f"
      },
      "execution_count": 69,
      "outputs": [
        {
          "output_type": "execute_result",
          "data": {
            "text/html": [
              "\n",
              "  <div id=\"df-c84a577f-a871-4146-a2b3-df8ff342d351\">\n",
              "    <div class=\"colab-df-container\">\n",
              "      <div>\n",
              "<style scoped>\n",
              "    .dataframe tbody tr th:only-of-type {\n",
              "        vertical-align: middle;\n",
              "    }\n",
              "\n",
              "    .dataframe tbody tr th {\n",
              "        vertical-align: top;\n",
              "    }\n",
              "\n",
              "    .dataframe thead th {\n",
              "        text-align: right;\n",
              "    }\n",
              "</style>\n",
              "<table border=\"1\" class=\"dataframe\">\n",
              "  <thead>\n",
              "    <tr style=\"text-align: right;\">\n",
              "      <th></th>\n",
              "      <th>category_name</th>\n",
              "    </tr>\n",
              "    <tr>\n",
              "      <th>category_id</th>\n",
              "      <th></th>\n",
              "    </tr>\n",
              "  </thead>\n",
              "  <tbody>\n",
              "    <tr>\n",
              "      <th>1</th>\n",
              "      <td>Film &amp; Animation</td>\n",
              "    </tr>\n",
              "    <tr>\n",
              "      <th>2</th>\n",
              "      <td>Autos &amp; Vehicles</td>\n",
              "    </tr>\n",
              "    <tr>\n",
              "      <th>10</th>\n",
              "      <td>Music</td>\n",
              "    </tr>\n",
              "    <tr>\n",
              "      <th>15</th>\n",
              "      <td>Pets &amp; Animals</td>\n",
              "    </tr>\n",
              "    <tr>\n",
              "      <th>17</th>\n",
              "      <td>Sports</td>\n",
              "    </tr>\n",
              "    <tr>\n",
              "      <th>18</th>\n",
              "      <td>Short Movies</td>\n",
              "    </tr>\n",
              "    <tr>\n",
              "      <th>19</th>\n",
              "      <td>Travel &amp; Events</td>\n",
              "    </tr>\n",
              "    <tr>\n",
              "      <th>20</th>\n",
              "      <td>Gaming</td>\n",
              "    </tr>\n",
              "    <tr>\n",
              "      <th>21</th>\n",
              "      <td>Videoblogging</td>\n",
              "    </tr>\n",
              "    <tr>\n",
              "      <th>22</th>\n",
              "      <td>People &amp; Blogs</td>\n",
              "    </tr>\n",
              "    <tr>\n",
              "      <th>23</th>\n",
              "      <td>Comedy</td>\n",
              "    </tr>\n",
              "    <tr>\n",
              "      <th>24</th>\n",
              "      <td>Entertainment</td>\n",
              "    </tr>\n",
              "    <tr>\n",
              "      <th>25</th>\n",
              "      <td>News &amp; Politics</td>\n",
              "    </tr>\n",
              "    <tr>\n",
              "      <th>26</th>\n",
              "      <td>Howto &amp; Style</td>\n",
              "    </tr>\n",
              "    <tr>\n",
              "      <th>27</th>\n",
              "      <td>Education</td>\n",
              "    </tr>\n",
              "    <tr>\n",
              "      <th>28</th>\n",
              "      <td>Science &amp; Technology</td>\n",
              "    </tr>\n",
              "    <tr>\n",
              "      <th>29</th>\n",
              "      <td>Nonprofits &amp; Activism</td>\n",
              "    </tr>\n",
              "    <tr>\n",
              "      <th>30</th>\n",
              "      <td>Movies</td>\n",
              "    </tr>\n",
              "    <tr>\n",
              "      <th>31</th>\n",
              "      <td>Anime/Animation</td>\n",
              "    </tr>\n",
              "    <tr>\n",
              "      <th>32</th>\n",
              "      <td>Action/Adventure</td>\n",
              "    </tr>\n",
              "    <tr>\n",
              "      <th>33</th>\n",
              "      <td>Classics</td>\n",
              "    </tr>\n",
              "    <tr>\n",
              "      <th>34</th>\n",
              "      <td>Comedy</td>\n",
              "    </tr>\n",
              "    <tr>\n",
              "      <th>35</th>\n",
              "      <td>Documentary</td>\n",
              "    </tr>\n",
              "    <tr>\n",
              "      <th>36</th>\n",
              "      <td>Drama</td>\n",
              "    </tr>\n",
              "    <tr>\n",
              "      <th>37</th>\n",
              "      <td>Family</td>\n",
              "    </tr>\n",
              "    <tr>\n",
              "      <th>38</th>\n",
              "      <td>Foreign</td>\n",
              "    </tr>\n",
              "    <tr>\n",
              "      <th>39</th>\n",
              "      <td>Horror</td>\n",
              "    </tr>\n",
              "    <tr>\n",
              "      <th>40</th>\n",
              "      <td>Sci-Fi/Fantasy</td>\n",
              "    </tr>\n",
              "    <tr>\n",
              "      <th>41</th>\n",
              "      <td>Thriller</td>\n",
              "    </tr>\n",
              "    <tr>\n",
              "      <th>42</th>\n",
              "      <td>Shorts</td>\n",
              "    </tr>\n",
              "    <tr>\n",
              "      <th>43</th>\n",
              "      <td>Shows</td>\n",
              "    </tr>\n",
              "    <tr>\n",
              "      <th>44</th>\n",
              "      <td>Trailers</td>\n",
              "    </tr>\n",
              "  </tbody>\n",
              "</table>\n",
              "</div>\n",
              "      <button class=\"colab-df-convert\" onclick=\"convertToInteractive('df-c84a577f-a871-4146-a2b3-df8ff342d351')\"\n",
              "              title=\"Convert this dataframe to an interactive table.\"\n",
              "              style=\"display:none;\">\n",
              "        \n",
              "  <svg xmlns=\"http://www.w3.org/2000/svg\" height=\"24px\"viewBox=\"0 0 24 24\"\n",
              "       width=\"24px\">\n",
              "    <path d=\"M0 0h24v24H0V0z\" fill=\"none\"/>\n",
              "    <path d=\"M18.56 5.44l.94 2.06.94-2.06 2.06-.94-2.06-.94-.94-2.06-.94 2.06-2.06.94zm-11 1L8.5 8.5l.94-2.06 2.06-.94-2.06-.94L8.5 2.5l-.94 2.06-2.06.94zm10 10l.94 2.06.94-2.06 2.06-.94-2.06-.94-.94-2.06-.94 2.06-2.06.94z\"/><path d=\"M17.41 7.96l-1.37-1.37c-.4-.4-.92-.59-1.43-.59-.52 0-1.04.2-1.43.59L10.3 9.45l-7.72 7.72c-.78.78-.78 2.05 0 2.83L4 21.41c.39.39.9.59 1.41.59.51 0 1.02-.2 1.41-.59l7.78-7.78 2.81-2.81c.8-.78.8-2.07 0-2.86zM5.41 20L4 18.59l7.72-7.72 1.47 1.35L5.41 20z\"/>\n",
              "  </svg>\n",
              "      </button>\n",
              "      \n",
              "  <style>\n",
              "    .colab-df-container {\n",
              "      display:flex;\n",
              "      flex-wrap:wrap;\n",
              "      gap: 12px;\n",
              "    }\n",
              "\n",
              "    .colab-df-convert {\n",
              "      background-color: #E8F0FE;\n",
              "      border: none;\n",
              "      border-radius: 50%;\n",
              "      cursor: pointer;\n",
              "      display: none;\n",
              "      fill: #1967D2;\n",
              "      height: 32px;\n",
              "      padding: 0 0 0 0;\n",
              "      width: 32px;\n",
              "    }\n",
              "\n",
              "    .colab-df-convert:hover {\n",
              "      background-color: #E2EBFA;\n",
              "      box-shadow: 0px 1px 2px rgba(60, 64, 67, 0.3), 0px 1px 3px 1px rgba(60, 64, 67, 0.15);\n",
              "      fill: #174EA6;\n",
              "    }\n",
              "\n",
              "    [theme=dark] .colab-df-convert {\n",
              "      background-color: #3B4455;\n",
              "      fill: #D2E3FC;\n",
              "    }\n",
              "\n",
              "    [theme=dark] .colab-df-convert:hover {\n",
              "      background-color: #434B5C;\n",
              "      box-shadow: 0px 1px 3px 1px rgba(0, 0, 0, 0.15);\n",
              "      filter: drop-shadow(0px 1px 2px rgba(0, 0, 0, 0.3));\n",
              "      fill: #FFFFFF;\n",
              "    }\n",
              "  </style>\n",
              "\n",
              "      <script>\n",
              "        const buttonEl =\n",
              "          document.querySelector('#df-c84a577f-a871-4146-a2b3-df8ff342d351 button.colab-df-convert');\n",
              "        buttonEl.style.display =\n",
              "          google.colab.kernel.accessAllowed ? 'block' : 'none';\n",
              "\n",
              "        async function convertToInteractive(key) {\n",
              "          const element = document.querySelector('#df-c84a577f-a871-4146-a2b3-df8ff342d351');\n",
              "          const dataTable =\n",
              "            await google.colab.kernel.invokeFunction('convertToInteractive',\n",
              "                                                     [key], {});\n",
              "          if (!dataTable) return;\n",
              "\n",
              "          const docLinkHtml = 'Like what you see? Visit the ' +\n",
              "            '<a target=\"_blank\" href=https://colab.research.google.com/notebooks/data_table.ipynb>data table notebook</a>'\n",
              "            + ' to learn more about interactive tables.';\n",
              "          element.innerHTML = '';\n",
              "          dataTable['output_type'] = 'display_data';\n",
              "          await google.colab.output.renderOutput(dataTable, element);\n",
              "          const docLink = document.createElement('div');\n",
              "          docLink.innerHTML = docLinkHtml;\n",
              "          element.appendChild(docLink);\n",
              "        }\n",
              "      </script>\n",
              "    </div>\n",
              "  </div>\n",
              "  "
            ],
            "text/plain": [
              "                      category_name\n",
              "category_id                        \n",
              "1                  Film & Animation\n",
              "2                  Autos & Vehicles\n",
              "10                            Music\n",
              "15                   Pets & Animals\n",
              "17                           Sports\n",
              "18                     Short Movies\n",
              "19                  Travel & Events\n",
              "20                           Gaming\n",
              "21                    Videoblogging\n",
              "22                   People & Blogs\n",
              "23                           Comedy\n",
              "24                    Entertainment\n",
              "25                  News & Politics\n",
              "26                    Howto & Style\n",
              "27                        Education\n",
              "28             Science & Technology\n",
              "29            Nonprofits & Activism\n",
              "30                           Movies\n",
              "31                  Anime/Animation\n",
              "32                 Action/Adventure\n",
              "33                         Classics\n",
              "34                           Comedy\n",
              "35                      Documentary\n",
              "36                            Drama\n",
              "37                           Family\n",
              "38                          Foreign\n",
              "39                           Horror\n",
              "40                   Sci-Fi/Fantasy\n",
              "41                         Thriller\n",
              "42                           Shorts\n",
              "43                            Shows\n",
              "44             Trailers            "
            ]
          },
          "metadata": {},
          "execution_count": 69
        }
      ]
    },
    {
      "cell_type": "code",
      "source": [
        "dct = cat.to_dict()"
      ],
      "metadata": {
        "execution": {
          "iopub.status.busy": "2022-02-08T05:28:37.761003Z",
          "iopub.execute_input": "2022-02-08T05:28:37.761853Z",
          "iopub.status.idle": "2022-02-08T05:28:37.766443Z",
          "shell.execute_reply.started": "2022-02-08T05:28:37.761813Z",
          "shell.execute_reply": "2022-02-08T05:28:37.765641Z"
        },
        "trusted": true,
        "id": "tumsySKR1Ss5"
      },
      "execution_count": 70,
      "outputs": []
    },
    {
      "cell_type": "code",
      "source": [
        "dct['category_name']"
      ],
      "metadata": {
        "execution": {
          "iopub.status.busy": "2022-02-08T05:28:37.767708Z",
          "iopub.execute_input": "2022-02-08T05:28:37.768455Z",
          "iopub.status.idle": "2022-02-08T05:28:37.779537Z",
          "shell.execute_reply.started": "2022-02-08T05:28:37.768410Z",
          "shell.execute_reply": "2022-02-08T05:28:37.778928Z"
        },
        "trusted": true,
        "colab": {
          "base_uri": "https://localhost:8080/"
        },
        "id": "wHEF75Ht1Ss6",
        "outputId": "8c7c9410-0e67-4d47-b4b0-9d83df3e3a2b"
      },
      "execution_count": 71,
      "outputs": [
        {
          "output_type": "execute_result",
          "data": {
            "text/plain": [
              "{1: ' Film & Animation',\n",
              " 2: ' Autos & Vehicles',\n",
              " 10: ' Music',\n",
              " 15: ' Pets & Animals',\n",
              " 17: ' Sports',\n",
              " 18: ' Short Movies',\n",
              " 19: ' Travel & Events',\n",
              " 20: ' Gaming',\n",
              " 21: ' Videoblogging',\n",
              " 22: ' People & Blogs',\n",
              " 23: ' Comedy',\n",
              " 24: ' Entertainment',\n",
              " 25: ' News & Politics',\n",
              " 26: ' Howto & Style',\n",
              " 27: ' Education',\n",
              " 28: ' Science & Technology',\n",
              " 29: ' Nonprofits & Activism',\n",
              " 30: ' Movies',\n",
              " 31: ' Anime/Animation',\n",
              " 32: ' Action/Adventure',\n",
              " 33: ' Classics',\n",
              " 34: ' Comedy',\n",
              " 35: ' Documentary',\n",
              " 36: ' Drama',\n",
              " 37: ' Family',\n",
              " 38: ' Foreign',\n",
              " 39: ' Horror',\n",
              " 40: ' Sci-Fi/Fantasy',\n",
              " 41: ' Thriller',\n",
              " 42: ' Shorts',\n",
              " 43: ' Shows',\n",
              " 44: ' Trailers            '}"
            ]
          },
          "metadata": {},
          "execution_count": 71
        }
      ]
    },
    {
      "cell_type": "code",
      "source": [
        "full_df['category_name'] = full_df['category_id'].map(dct['category_name'])"
      ],
      "metadata": {
        "execution": {
          "iopub.status.busy": "2022-02-08T05:28:37.780515Z",
          "iopub.execute_input": "2022-02-08T05:28:37.781178Z",
          "iopub.status.idle": "2022-02-08T05:28:37.794701Z",
          "shell.execute_reply.started": "2022-02-08T05:28:37.781148Z",
          "shell.execute_reply": "2022-02-08T05:28:37.793909Z"
        },
        "trusted": true,
        "id": "RB5hIuAv1Ss6"
      },
      "execution_count": 73,
      "outputs": []
    },
    {
      "cell_type": "code",
      "source": [
        "full_df.head()"
      ],
      "metadata": {
        "execution": {
          "iopub.status.busy": "2022-02-08T05:28:37.795874Z",
          "iopub.execute_input": "2022-02-08T05:28:37.796555Z",
          "iopub.status.idle": "2022-02-08T05:28:37.816552Z",
          "shell.execute_reply.started": "2022-02-08T05:28:37.796515Z",
          "shell.execute_reply": "2022-02-08T05:28:37.816039Z"
        },
        "trusted": true,
        "colab": {
          "base_uri": "https://localhost:8080/",
          "height": 583
        },
        "id": "iJzzZ2fM1Ss7",
        "outputId": "73737569-7197-4868-b072-982bf8971b66"
      },
      "execution_count": 74,
      "outputs": [
        {
          "output_type": "execute_result",
          "data": {
            "text/html": [
              "\n",
              "  <div id=\"df-e375bc09-2ead-463e-8055-dc43da9ea21f\">\n",
              "    <div class=\"colab-df-container\">\n",
              "      <div>\n",
              "<style scoped>\n",
              "    .dataframe tbody tr th:only-of-type {\n",
              "        vertical-align: middle;\n",
              "    }\n",
              "\n",
              "    .dataframe tbody tr th {\n",
              "        vertical-align: top;\n",
              "    }\n",
              "\n",
              "    .dataframe thead th {\n",
              "        text-align: right;\n",
              "    }\n",
              "</style>\n",
              "<table border=\"1\" class=\"dataframe\">\n",
              "  <thead>\n",
              "    <tr style=\"text-align: right;\">\n",
              "      <th></th>\n",
              "      <th>video_id</th>\n",
              "      <th>title</th>\n",
              "      <th>channel_title</th>\n",
              "      <th>category_id</th>\n",
              "      <th>tags</th>\n",
              "      <th>views</th>\n",
              "      <th>likes</th>\n",
              "      <th>dislikes</th>\n",
              "      <th>comment_total</th>\n",
              "      <th>thumbnail_link</th>\n",
              "      <th>date</th>\n",
              "      <th>country</th>\n",
              "      <th>category_name</th>\n",
              "    </tr>\n",
              "  </thead>\n",
              "  <tbody>\n",
              "    <tr>\n",
              "      <th>0</th>\n",
              "      <td>jt2OHQh0HoQ</td>\n",
              "      <td>Live Apple Event - Apple September Event 2017 ...</td>\n",
              "      <td>Apple Event</td>\n",
              "      <td>28</td>\n",
              "      <td>apple events|apple event|iphone 8|iphone x|iph...</td>\n",
              "      <td>7426393</td>\n",
              "      <td>78240</td>\n",
              "      <td>13548</td>\n",
              "      <td>705</td>\n",
              "      <td>https://i.ytimg.com/vi/jt2OHQh0HoQ/default_liv...</td>\n",
              "      <td>13.09</td>\n",
              "      <td>GB</td>\n",
              "      <td>Science &amp; Technology</td>\n",
              "    </tr>\n",
              "    <tr>\n",
              "      <th>1</th>\n",
              "      <td>AqokkXoa7uE</td>\n",
              "      <td>Holly and Phillip Meet Samantha the Sex Robot ...</td>\n",
              "      <td>This Morning</td>\n",
              "      <td>24</td>\n",
              "      <td>this morning|interview|holly willoughby|philli...</td>\n",
              "      <td>494203</td>\n",
              "      <td>2651</td>\n",
              "      <td>1309</td>\n",
              "      <td>0</td>\n",
              "      <td>https://i.ytimg.com/vi/AqokkXoa7uE/default.jpg</td>\n",
              "      <td>13.09</td>\n",
              "      <td>GB</td>\n",
              "      <td>Entertainment</td>\n",
              "    </tr>\n",
              "    <tr>\n",
              "      <th>2</th>\n",
              "      <td>YPVcg45W0z4</td>\n",
              "      <td>My DNA Test Results! I'm WHAT?!</td>\n",
              "      <td>emmablackery</td>\n",
              "      <td>24</td>\n",
              "      <td>emmablackery|emma blackery|emma|blackery|briti...</td>\n",
              "      <td>142819</td>\n",
              "      <td>13119</td>\n",
              "      <td>151</td>\n",
              "      <td>1141</td>\n",
              "      <td>https://i.ytimg.com/vi/YPVcg45W0z4/default.jpg</td>\n",
              "      <td>13.09</td>\n",
              "      <td>GB</td>\n",
              "      <td>Entertainment</td>\n",
              "    </tr>\n",
              "    <tr>\n",
              "      <th>3</th>\n",
              "      <td>T_PuZBdT2iM</td>\n",
              "      <td>getting into a conversation in a language you ...</td>\n",
              "      <td>ProZD</td>\n",
              "      <td>1</td>\n",
              "      <td>skit|korean|language|conversation|esl|japanese...</td>\n",
              "      <td>1580028</td>\n",
              "      <td>65729</td>\n",
              "      <td>1529</td>\n",
              "      <td>3598</td>\n",
              "      <td>https://i.ytimg.com/vi/T_PuZBdT2iM/default.jpg</td>\n",
              "      <td>13.09</td>\n",
              "      <td>GB</td>\n",
              "      <td>Film &amp; Animation</td>\n",
              "    </tr>\n",
              "    <tr>\n",
              "      <th>4</th>\n",
              "      <td>NsjsmgmbCfc</td>\n",
              "      <td>Baby Name Challenge!</td>\n",
              "      <td>Sprinkleofglitter</td>\n",
              "      <td>26</td>\n",
              "      <td>sprinkleofglitter|sprinkle of glitter|baby gli...</td>\n",
              "      <td>40592</td>\n",
              "      <td>5019</td>\n",
              "      <td>57</td>\n",
              "      <td>490</td>\n",
              "      <td>https://i.ytimg.com/vi/NsjsmgmbCfc/default.jpg</td>\n",
              "      <td>13.09</td>\n",
              "      <td>GB</td>\n",
              "      <td>Howto &amp; Style</td>\n",
              "    </tr>\n",
              "  </tbody>\n",
              "</table>\n",
              "</div>\n",
              "      <button class=\"colab-df-convert\" onclick=\"convertToInteractive('df-e375bc09-2ead-463e-8055-dc43da9ea21f')\"\n",
              "              title=\"Convert this dataframe to an interactive table.\"\n",
              "              style=\"display:none;\">\n",
              "        \n",
              "  <svg xmlns=\"http://www.w3.org/2000/svg\" height=\"24px\"viewBox=\"0 0 24 24\"\n",
              "       width=\"24px\">\n",
              "    <path d=\"M0 0h24v24H0V0z\" fill=\"none\"/>\n",
              "    <path d=\"M18.56 5.44l.94 2.06.94-2.06 2.06-.94-2.06-.94-.94-2.06-.94 2.06-2.06.94zm-11 1L8.5 8.5l.94-2.06 2.06-.94-2.06-.94L8.5 2.5l-.94 2.06-2.06.94zm10 10l.94 2.06.94-2.06 2.06-.94-2.06-.94-.94-2.06-.94 2.06-2.06.94z\"/><path d=\"M17.41 7.96l-1.37-1.37c-.4-.4-.92-.59-1.43-.59-.52 0-1.04.2-1.43.59L10.3 9.45l-7.72 7.72c-.78.78-.78 2.05 0 2.83L4 21.41c.39.39.9.59 1.41.59.51 0 1.02-.2 1.41-.59l7.78-7.78 2.81-2.81c.8-.78.8-2.07 0-2.86zM5.41 20L4 18.59l7.72-7.72 1.47 1.35L5.41 20z\"/>\n",
              "  </svg>\n",
              "      </button>\n",
              "      \n",
              "  <style>\n",
              "    .colab-df-container {\n",
              "      display:flex;\n",
              "      flex-wrap:wrap;\n",
              "      gap: 12px;\n",
              "    }\n",
              "\n",
              "    .colab-df-convert {\n",
              "      background-color: #E8F0FE;\n",
              "      border: none;\n",
              "      border-radius: 50%;\n",
              "      cursor: pointer;\n",
              "      display: none;\n",
              "      fill: #1967D2;\n",
              "      height: 32px;\n",
              "      padding: 0 0 0 0;\n",
              "      width: 32px;\n",
              "    }\n",
              "\n",
              "    .colab-df-convert:hover {\n",
              "      background-color: #E2EBFA;\n",
              "      box-shadow: 0px 1px 2px rgba(60, 64, 67, 0.3), 0px 1px 3px 1px rgba(60, 64, 67, 0.15);\n",
              "      fill: #174EA6;\n",
              "    }\n",
              "\n",
              "    [theme=dark] .colab-df-convert {\n",
              "      background-color: #3B4455;\n",
              "      fill: #D2E3FC;\n",
              "    }\n",
              "\n",
              "    [theme=dark] .colab-df-convert:hover {\n",
              "      background-color: #434B5C;\n",
              "      box-shadow: 0px 1px 3px 1px rgba(0, 0, 0, 0.15);\n",
              "      filter: drop-shadow(0px 1px 2px rgba(0, 0, 0, 0.3));\n",
              "      fill: #FFFFFF;\n",
              "    }\n",
              "  </style>\n",
              "\n",
              "      <script>\n",
              "        const buttonEl =\n",
              "          document.querySelector('#df-e375bc09-2ead-463e-8055-dc43da9ea21f button.colab-df-convert');\n",
              "        buttonEl.style.display =\n",
              "          google.colab.kernel.accessAllowed ? 'block' : 'none';\n",
              "\n",
              "        async function convertToInteractive(key) {\n",
              "          const element = document.querySelector('#df-e375bc09-2ead-463e-8055-dc43da9ea21f');\n",
              "          const dataTable =\n",
              "            await google.colab.kernel.invokeFunction('convertToInteractive',\n",
              "                                                     [key], {});\n",
              "          if (!dataTable) return;\n",
              "\n",
              "          const docLinkHtml = 'Like what you see? Visit the ' +\n",
              "            '<a target=\"_blank\" href=https://colab.research.google.com/notebooks/data_table.ipynb>data table notebook</a>'\n",
              "            + ' to learn more about interactive tables.';\n",
              "          element.innerHTML = '';\n",
              "          dataTable['output_type'] = 'display_data';\n",
              "          await google.colab.output.renderOutput(dataTable, element);\n",
              "          const docLink = document.createElement('div');\n",
              "          docLink.innerHTML = docLinkHtml;\n",
              "          element.appendChild(docLink);\n",
              "        }\n",
              "      </script>\n",
              "    </div>\n",
              "  </div>\n",
              "  "
            ],
            "text/plain": [
              "      video_id  ...          category_name\n",
              "0  jt2OHQh0HoQ  ...   Science & Technology\n",
              "1  AqokkXoa7uE  ...          Entertainment\n",
              "2  YPVcg45W0z4  ...          Entertainment\n",
              "3  T_PuZBdT2iM  ...       Film & Animation\n",
              "4  NsjsmgmbCfc  ...          Howto & Style\n",
              "\n",
              "[5 rows x 13 columns]"
            ]
          },
          "metadata": {},
          "execution_count": 74
        }
      ]
    },
    {
      "cell_type": "code",
      "source": [
        "import seaborn as sns\n",
        "plt.figure(figsize=(12,8))\n",
        "sns.boxplot(x = 'category_name', y = 'likes', data = full_df)\n",
        "plt.xticks(rotation = 'vertical')"
      ],
      "metadata": {
        "execution": {
          "iopub.status.busy": "2022-02-08T05:28:37.817708Z",
          "iopub.execute_input": "2022-02-08T05:28:37.818103Z",
          "iopub.status.idle": "2022-02-08T05:28:38.473582Z",
          "shell.execute_reply.started": "2022-02-08T05:28:37.818072Z",
          "shell.execute_reply": "2022-02-08T05:28:38.472654Z"
        },
        "trusted": true,
        "colab": {
          "base_uri": "https://localhost:8080/",
          "height": 645
        },
        "id": "6KnAsga41Ss7",
        "outputId": "be831532-0046-4905-b180-4040f4c90c9a"
      },
      "execution_count": 75,
      "outputs": [
        {
          "output_type": "execute_result",
          "data": {
            "text/plain": [
              "(array([ 0,  1,  2,  3,  4,  5,  6,  7,  8,  9, 10, 11, 12, 13, 14, 15]),\n",
              " <a list of 16 Text major ticklabel objects>)"
            ]
          },
          "metadata": {},
          "execution_count": 75
        },
        {
          "output_type": "display_data",
          "data": {
            "image/png": "[encoded data removed]",
            "text/plain": [
              "<Figure size 864x576 with 1 Axes>"
            ]
          },
          "metadata": {
            "needs_background": "light"
          }
        }
      ]
    },
    {
      "cell_type": "markdown",
      "source": [
        "**Whether audience is engaging or not**"
      ],
      "metadata": {
        "id": "5W1HbJCT1Ss8"
      }
    },
    {
      "cell_type": "code",
      "source": [
        "full_df.columns"
      ],
      "metadata": {
        "execution": {
          "iopub.status.busy": "2022-02-08T05:29:09.043103Z",
          "iopub.execute_input": "2022-02-08T05:29:09.043773Z",
          "iopub.status.idle": "2022-02-08T05:29:09.050741Z",
          "shell.execute_reply.started": "2022-02-08T05:29:09.043733Z",
          "shell.execute_reply": "2022-02-08T05:29:09.049773Z"
        },
        "trusted": true,
        "colab": {
          "base_uri": "https://localhost:8080/"
        },
        "id": "-VmYQEUq1Ss9",
        "outputId": "4bb2b448-01c2-40b4-d5af-1a521264226d"
      },
      "execution_count": 76,
      "outputs": [
        {
          "output_type": "execute_result",
          "data": {
            "text/plain": [
              "Index(['video_id', 'title', 'channel_title', 'category_id', 'tags', 'views',\n",
              "       'likes', 'dislikes', 'comment_total', 'thumbnail_link', 'date',\n",
              "       'country', 'category_name'],\n",
              "      dtype='object')"
            ]
          },
          "metadata": {},
          "execution_count": 76
        }
      ]
    },
    {
      "cell_type": "code",
      "source": [
        "full_df['like_rate'] = (full_df['likes']/full_df['views'])*100\n",
        "full_df['dislike_rate'] = (full_df['dislikes']/full_df['views'])*100\n",
        "full_df['comment_total_rate'] = (full_df['comment_total']/full_df['views'])*100"
      ],
      "metadata": {
        "execution": {
          "iopub.status.busy": "2022-02-08T05:36:32.444360Z",
          "iopub.execute_input": "2022-02-08T05:36:32.444660Z",
          "iopub.status.idle": "2022-02-08T05:36:32.452624Z",
          "shell.execute_reply.started": "2022-02-08T05:36:32.444628Z",
          "shell.execute_reply": "2022-02-08T05:36:32.451859Z"
        },
        "trusted": true,
        "id": "fkkVhxTd1Ss9"
      },
      "execution_count": 77,
      "outputs": []
    },
    {
      "cell_type": "code",
      "source": [
        "full_df.head()"
      ],
      "metadata": {
        "execution": {
          "iopub.status.busy": "2022-02-08T05:36:36.763274Z",
          "iopub.execute_input": "2022-02-08T05:36:36.763532Z",
          "iopub.status.idle": "2022-02-08T05:36:36.784944Z",
          "shell.execute_reply.started": "2022-02-08T05:36:36.763505Z",
          "shell.execute_reply": "2022-02-08T05:36:36.784044Z"
        },
        "trusted": true,
        "colab": {
          "base_uri": "https://localhost:8080/",
          "height": 583
        },
        "id": "Xk1mODAn1Ss-",
        "outputId": "2ae419ef-f886-4ddb-9f00-0cb656c9a597"
      },
      "execution_count": 78,
      "outputs": [
        {
          "output_type": "execute_result",
          "data": {
            "text/html": [
              "\n",
              "  <div id=\"df-54c6acec-fb52-49ae-997a-e8618121db3a\">\n",
              "    <div class=\"colab-df-container\">\n",
              "      <div>\n",
              "<style scoped>\n",
              "    .dataframe tbody tr th:only-of-type {\n",
              "        vertical-align: middle;\n",
              "    }\n",
              "\n",
              "    .dataframe tbody tr th {\n",
              "        vertical-align: top;\n",
              "    }\n",
              "\n",
              "    .dataframe thead th {\n",
              "        text-align: right;\n",
              "    }\n",
              "</style>\n",
              "<table border=\"1\" class=\"dataframe\">\n",
              "  <thead>\n",
              "    <tr style=\"text-align: right;\">\n",
              "      <th></th>\n",
              "      <th>video_id</th>\n",
              "      <th>title</th>\n",
              "      <th>channel_title</th>\n",
              "      <th>category_id</th>\n",
              "      <th>tags</th>\n",
              "      <th>views</th>\n",
              "      <th>likes</th>\n",
              "      <th>dislikes</th>\n",
              "      <th>comment_total</th>\n",
              "      <th>thumbnail_link</th>\n",
              "      <th>date</th>\n",
              "      <th>country</th>\n",
              "      <th>category_name</th>\n",
              "      <th>like_rate</th>\n",
              "      <th>dislike_rate</th>\n",
              "      <th>comment_total_rate</th>\n",
              "    </tr>\n",
              "  </thead>\n",
              "  <tbody>\n",
              "    <tr>\n",
              "      <th>0</th>\n",
              "      <td>jt2OHQh0HoQ</td>\n",
              "      <td>Live Apple Event - Apple September Event 2017 ...</td>\n",
              "      <td>Apple Event</td>\n",
              "      <td>28</td>\n",
              "      <td>apple events|apple event|iphone 8|iphone x|iph...</td>\n",
              "      <td>7426393</td>\n",
              "      <td>78240</td>\n",
              "      <td>13548</td>\n",
              "      <td>705</td>\n",
              "      <td>https://i.ytimg.com/vi/jt2OHQh0HoQ/default_liv...</td>\n",
              "      <td>13.09</td>\n",
              "      <td>GB</td>\n",
              "      <td>Science &amp; Technology</td>\n",
              "      <td>1.053540</td>\n",
              "      <td>0.182430</td>\n",
              "      <td>0.009493</td>\n",
              "    </tr>\n",
              "    <tr>\n",
              "      <th>1</th>\n",
              "      <td>AqokkXoa7uE</td>\n",
              "      <td>Holly and Phillip Meet Samantha the Sex Robot ...</td>\n",
              "      <td>This Morning</td>\n",
              "      <td>24</td>\n",
              "      <td>this morning|interview|holly willoughby|philli...</td>\n",
              "      <td>494203</td>\n",
              "      <td>2651</td>\n",
              "      <td>1309</td>\n",
              "      <td>0</td>\n",
              "      <td>https://i.ytimg.com/vi/AqokkXoa7uE/default.jpg</td>\n",
              "      <td>13.09</td>\n",
              "      <td>GB</td>\n",
              "      <td>Entertainment</td>\n",
              "      <td>0.536419</td>\n",
              "      <td>0.264871</td>\n",
              "      <td>0.000000</td>\n",
              "    </tr>\n",
              "    <tr>\n",
              "      <th>2</th>\n",
              "      <td>YPVcg45W0z4</td>\n",
              "      <td>My DNA Test Results! I'm WHAT?!</td>\n",
              "      <td>emmablackery</td>\n",
              "      <td>24</td>\n",
              "      <td>emmablackery|emma blackery|emma|blackery|briti...</td>\n",
              "      <td>142819</td>\n",
              "      <td>13119</td>\n",
              "      <td>151</td>\n",
              "      <td>1141</td>\n",
              "      <td>https://i.ytimg.com/vi/YPVcg45W0z4/default.jpg</td>\n",
              "      <td>13.09</td>\n",
              "      <td>GB</td>\n",
              "      <td>Entertainment</td>\n",
              "      <td>9.185753</td>\n",
              "      <td>0.105728</td>\n",
              "      <td>0.798913</td>\n",
              "    </tr>\n",
              "    <tr>\n",
              "      <th>3</th>\n",
              "      <td>T_PuZBdT2iM</td>\n",
              "      <td>getting into a conversation in a language you ...</td>\n",
              "      <td>ProZD</td>\n",
              "      <td>1</td>\n",
              "      <td>skit|korean|language|conversation|esl|japanese...</td>\n",
              "      <td>1580028</td>\n",
              "      <td>65729</td>\n",
              "      <td>1529</td>\n",
              "      <td>3598</td>\n",
              "      <td>https://i.ytimg.com/vi/T_PuZBdT2iM/default.jpg</td>\n",
              "      <td>13.09</td>\n",
              "      <td>GB</td>\n",
              "      <td>Film &amp; Animation</td>\n",
              "      <td>4.159990</td>\n",
              "      <td>0.096770</td>\n",
              "      <td>0.227717</td>\n",
              "    </tr>\n",
              "    <tr>\n",
              "      <th>4</th>\n",
              "      <td>NsjsmgmbCfc</td>\n",
              "      <td>Baby Name Challenge!</td>\n",
              "      <td>Sprinkleofglitter</td>\n",
              "      <td>26</td>\n",
              "      <td>sprinkleofglitter|sprinkle of glitter|baby gli...</td>\n",
              "      <td>40592</td>\n",
              "      <td>5019</td>\n",
              "      <td>57</td>\n",
              "      <td>490</td>\n",
              "      <td>https://i.ytimg.com/vi/NsjsmgmbCfc/default.jpg</td>\n",
              "      <td>13.09</td>\n",
              "      <td>GB</td>\n",
              "      <td>Howto &amp; Style</td>\n",
              "      <td>12.364505</td>\n",
              "      <td>0.140422</td>\n",
              "      <td>1.207134</td>\n",
              "    </tr>\n",
              "  </tbody>\n",
              "</table>\n",
              "</div>\n",
              "      <button class=\"colab-df-convert\" onclick=\"convertToInteractive('df-54c6acec-fb52-49ae-997a-e8618121db3a')\"\n",
              "              title=\"Convert this dataframe to an interactive table.\"\n",
              "              style=\"display:none;\">\n",
              "        \n",
              "  <svg xmlns=\"http://www.w3.org/2000/svg\" height=\"24px\"viewBox=\"0 0 24 24\"\n",
              "       width=\"24px\">\n",
              "    <path d=\"M0 0h24v24H0V0z\" fill=\"none\"/>\n",
              "    <path d=\"M18.56 5.44l.94 2.06.94-2.06 2.06-.94-2.06-.94-.94-2.06-.94 2.06-2.06.94zm-11 1L8.5 8.5l.94-2.06 2.06-.94-2.06-.94L8.5 2.5l-.94 2.06-2.06.94zm10 10l.94 2.06.94-2.06 2.06-.94-2.06-.94-.94-2.06-.94 2.06-2.06.94z\"/><path d=\"M17.41 7.96l-1.37-1.37c-.4-.4-.92-.59-1.43-.59-.52 0-1.04.2-1.43.59L10.3 9.45l-7.72 7.72c-.78.78-.78 2.05 0 2.83L4 21.41c.39.39.9.59 1.41.59.51 0 1.02-.2 1.41-.59l7.78-7.78 2.81-2.81c.8-.78.8-2.07 0-2.86zM5.41 20L4 18.59l7.72-7.72 1.47 1.35L5.41 20z\"/>\n",
              "  </svg>\n",
              "      </button>\n",
              "      \n",
              "  <style>\n",
              "    .colab-df-container {\n",
              "      display:flex;\n",
              "      flex-wrap:wrap;\n",
              "      gap: 12px;\n",
              "    }\n",
              "\n",
              "    .colab-df-convert {\n",
              "      background-color: #E8F0FE;\n",
              "      border: none;\n",
              "      border-radius: 50%;\n",
              "      cursor: pointer;\n",
              "      display: none;\n",
              "      fill: #1967D2;\n",
              "      height: 32px;\n",
              "      padding: 0 0 0 0;\n",
              "      width: 32px;\n",
              "    }\n",
              "\n",
              "    .colab-df-convert:hover {\n",
              "      background-color: #E2EBFA;\n",
              "      box-shadow: 0px 1px 2px rgba(60, 64, 67, 0.3), 0px 1px 3px 1px rgba(60, 64, 67, 0.15);\n",
              "      fill: #174EA6;\n",
              "    }\n",
              "\n",
              "    [theme=dark] .colab-df-convert {\n",
              "      background-color: #3B4455;\n",
              "      fill: #D2E3FC;\n",
              "    }\n",
              "\n",
              "    [theme=dark] .colab-df-convert:hover {\n",
              "      background-color: #434B5C;\n",
              "      box-shadow: 0px 1px 3px 1px rgba(0, 0, 0, 0.15);\n",
              "      filter: drop-shadow(0px 1px 2px rgba(0, 0, 0, 0.3));\n",
              "      fill: #FFFFFF;\n",
              "    }\n",
              "  </style>\n",
              "\n",
              "      <script>\n",
              "        const buttonEl =\n",
              "          document.querySelector('#df-54c6acec-fb52-49ae-997a-e8618121db3a button.colab-df-convert');\n",
              "        buttonEl.style.display =\n",
              "          google.colab.kernel.accessAllowed ? 'block' : 'none';\n",
              "\n",
              "        async function convertToInteractive(key) {\n",
              "          const element = document.querySelector('#df-54c6acec-fb52-49ae-997a-e8618121db3a');\n",
              "          const dataTable =\n",
              "            await google.colab.kernel.invokeFunction('convertToInteractive',\n",
              "                                                     [key], {});\n",
              "          if (!dataTable) return;\n",
              "\n",
              "          const docLinkHtml = 'Like what you see? Visit the ' +\n",
              "            '<a target=\"_blank\" href=https://colab.research.google.com/notebooks/data_table.ipynb>data table notebook</a>'\n",
              "            + ' to learn more about interactive tables.';\n",
              "          element.innerHTML = '';\n",
              "          dataTable['output_type'] = 'display_data';\n",
              "          await google.colab.output.renderOutput(dataTable, element);\n",
              "          const docLink = document.createElement('div');\n",
              "          docLink.innerHTML = docLinkHtml;\n",
              "          element.appendChild(docLink);\n",
              "        }\n",
              "      </script>\n",
              "    </div>\n",
              "  </div>\n",
              "  "
            ],
            "text/plain": [
              "      video_id  ... comment_total_rate\n",
              "0  jt2OHQh0HoQ  ...           0.009493\n",
              "1  AqokkXoa7uE  ...           0.000000\n",
              "2  YPVcg45W0z4  ...           0.798913\n",
              "3  T_PuZBdT2iM  ...           0.227717\n",
              "4  NsjsmgmbCfc  ...           1.207134\n",
              "\n",
              "[5 rows x 16 columns]"
            ]
          },
          "metadata": {},
          "execution_count": 78
        }
      ]
    },
    {
      "cell_type": "code",
      "source": [
        "plt.figure(figsize=(12,8))\n",
        "sns.boxplot(x = 'category_name', y = 'like_rate', data = full_df)\n",
        "plt.xticks(rotation = 'vertical')"
      ],
      "metadata": {
        "execution": {
          "iopub.status.busy": "2022-02-08T05:36:53.693262Z",
          "iopub.execute_input": "2022-02-08T05:36:53.693537Z",
          "iopub.status.idle": "2022-02-08T05:36:54.192545Z",
          "shell.execute_reply.started": "2022-02-08T05:36:53.693505Z",
          "shell.execute_reply": "2022-02-08T05:36:54.191632Z"
        },
        "trusted": true,
        "colab": {
          "base_uri": "https://localhost:8080/",
          "height": 637
        },
        "id": "Ybyye2v01Ss-",
        "outputId": "de777d01-1cde-498d-fd0c-be71b44fc923"
      },
      "execution_count": 79,
      "outputs": [
        {
          "output_type": "execute_result",
          "data": {
            "text/plain": [
              "(array([ 0,  1,  2,  3,  4,  5,  6,  7,  8,  9, 10, 11, 12, 13, 14, 15]),\n",
              " <a list of 16 Text major ticklabel objects>)"
            ]
          },
          "metadata": {},
          "execution_count": 79
        },
        {
          "output_type": "display_data",
          "data": {
            "image/png": "[encoded data removed]",
            "text/plain": [
              "<Figure size 864x576 with 1 Axes>"
            ]
          },
          "metadata": {
            "needs_background": "light"
          }
        }
      ]
    },
    {
      "cell_type": "code",
      "source": [
        "sns.regplot(data=full_df, x='views', y = 'likes')"
      ],
      "metadata": {
        "execution": {
          "iopub.status.busy": "2022-02-08T05:40:05.684352Z",
          "iopub.execute_input": "2022-02-08T05:40:05.684689Z",
          "iopub.status.idle": "2022-02-08T05:40:06.928911Z",
          "shell.execute_reply.started": "2022-02-08T05:40:05.684655Z",
          "shell.execute_reply": "2022-02-08T05:40:06.928238Z"
        },
        "trusted": true,
        "colab": {
          "base_uri": "https://localhost:8080/",
          "height": 307
        },
        "id": "lmwA3yUo1Ss_",
        "outputId": "4a35ef30-ba1e-4332-f021-2ef087e8a25c"
      },
      "execution_count": 80,
      "outputs": [
        {
          "output_type": "execute_result",
          "data": {
            "text/plain": [
              "<matplotlib.axes._subplots.AxesSubplot at 0x7f73b83c5bd0>"
            ]
          },
          "metadata": {},
          "execution_count": 80
        },
        {
          "output_type": "display_data",
          "data": {
            "image/png": "[encoded data removed]",
            "text/plain": [
              "<Figure size 432x288 with 1 Axes>"
            ]
          },
          "metadata": {
            "needs_background": "light"
          }
        }
      ]
    },
    {
      "cell_type": "code",
      "source": [
        "plt.figure(figsize=(12,8))\n",
        "sns.boxplot(x = 'category_name', y = 'dislike_rate', data = full_df)\n",
        "plt.xticks(rotation = 'vertical')"
      ],
      "metadata": {
        "execution": {
          "iopub.status.busy": "2022-02-08T05:37:40.542762Z",
          "iopub.execute_input": "2022-02-08T05:37:40.543071Z",
          "iopub.status.idle": "2022-02-08T05:37:41.046536Z",
          "shell.execute_reply.started": "2022-02-08T05:37:40.543040Z",
          "shell.execute_reply": "2022-02-08T05:37:41.045616Z"
        },
        "trusted": true,
        "colab": {
          "base_uri": "https://localhost:8080/",
          "height": 635
        },
        "id": "8WI_pr-a1StA",
        "outputId": "7f5a9cb1-9c9d-4366-f8cb-2793e39092c0"
      },
      "execution_count": 81,
      "outputs": [
        {
          "output_type": "execute_result",
          "data": {
            "text/plain": [
              "(array([ 0,  1,  2,  3,  4,  5,  6,  7,  8,  9, 10, 11, 12, 13, 14, 15]),\n",
              " <a list of 16 Text major ticklabel objects>)"
            ]
          },
          "metadata": {},
          "execution_count": 81
        },
        {
          "output_type": "display_data",
          "data": {
            "image/png": "[encoded data removed]",
            "text/plain": [
              "<Figure size 864x576 with 1 Axes>"
            ]
          },
          "metadata": {
            "needs_background": "light"
          }
        }
      ]
    },
    {
      "cell_type": "code",
      "source": [
        "sns.regplot(data=full_df, x='views', y = 'dislikes')"
      ],
      "metadata": {
        "execution": {
          "iopub.status.busy": "2022-02-08T05:41:25.818523Z",
          "iopub.execute_input": "2022-02-08T05:41:25.818866Z",
          "iopub.status.idle": "2022-02-08T05:41:27.044445Z",
          "shell.execute_reply.started": "2022-02-08T05:41:25.818833Z",
          "shell.execute_reply": "2022-02-08T05:41:27.043618Z"
        },
        "trusted": true,
        "colab": {
          "base_uri": "https://localhost:8080/",
          "height": 296
        },
        "id": "aho0asJQ1StB",
        "outputId": "01211903-3058-420e-b1be-3e1cf80e4f81"
      },
      "execution_count": 82,
      "outputs": [
        {
          "output_type": "execute_result",
          "data": {
            "text/plain": [
              "<matplotlib.axes._subplots.AxesSubplot at 0x7f73aee6ded0>"
            ]
          },
          "metadata": {},
          "execution_count": 82
        },
        {
          "output_type": "display_data",
          "data": {
            "image/png": "[encoded data removed]",
            "text/plain": [
              "<Figure size 432x288 with 1 Axes>"
            ]
          },
          "metadata": {
            "needs_background": "light"
          }
        }
      ]
    },
    {
      "cell_type": "code",
      "source": [
        "plt.figure(figsize=(12,8))\n",
        "sns.boxplot(x = 'category_name', y = 'comment_total_rate', data = full_df)\n",
        "plt.xticks(rotation = 'vertical')"
      ],
      "metadata": {
        "execution": {
          "iopub.status.busy": "2022-02-08T05:42:28.238726Z",
          "iopub.execute_input": "2022-02-08T05:42:28.238984Z",
          "iopub.status.idle": "2022-02-08T05:42:28.724422Z",
          "shell.execute_reply.started": "2022-02-08T05:42:28.238956Z",
          "shell.execute_reply": "2022-02-08T05:42:28.723461Z"
        },
        "trusted": true,
        "colab": {
          "base_uri": "https://localhost:8080/",
          "height": 634
        },
        "id": "1v9MRB5t1StC",
        "outputId": "f8f399ad-d027-4b54-ebda-b23963da4ade"
      },
      "execution_count": 83,
      "outputs": [
        {
          "output_type": "execute_result",
          "data": {
            "text/plain": [
              "(array([ 0,  1,  2,  3,  4,  5,  6,  7,  8,  9, 10, 11, 12, 13, 14, 15]),\n",
              " <a list of 16 Text major ticklabel objects>)"
            ]
          },
          "metadata": {},
          "execution_count": 83
        },
        {
          "output_type": "display_data",
          "data": {
            "image/png": "[encoded data removed]",
            "text/plain": [
              "<Figure size 864x576 with 1 Axes>"
            ]
          },
          "metadata": {
            "needs_background": "light"
          }
        }
      ]
    },
    {
      "cell_type": "code",
      "source": [
        "sns.regplot(data=full_df, x='views', y = 'comment_total')"
      ],
      "metadata": {
        "execution": {
          "iopub.status.busy": "2022-02-08T05:43:13.298356Z",
          "iopub.execute_input": "2022-02-08T05:43:13.298647Z",
          "iopub.status.idle": "2022-02-08T05:43:14.577743Z",
          "shell.execute_reply.started": "2022-02-08T05:43:13.298609Z",
          "shell.execute_reply": "2022-02-08T05:43:14.576914Z"
        },
        "trusted": true,
        "colab": {
          "base_uri": "https://localhost:8080/",
          "height": 296
        },
        "id": "9fa9r8bF1StC",
        "outputId": "4fd746dd-da09-49ba-a277-8c07ff130803"
      },
      "execution_count": 84,
      "outputs": [
        {
          "output_type": "execute_result",
          "data": {
            "text/plain": [
              "<matplotlib.axes._subplots.AxesSubplot at 0x7f73aede0350>"
            ]
          },
          "metadata": {},
          "execution_count": 84
        },
        {
          "output_type": "display_data",
          "data": {
            "image/png": "[encoded data removed]",
            "text/plain": [
              "<Figure size 432x288 with 1 Axes>"
            ]
          },
          "metadata": {
            "needs_background": "light"
          }
        }
      ]
    },
    {
      "cell_type": "code",
      "source": [
        "sns.heatmap(full_df[['views', 'likes', 'dislikes']].corr(),annot=True)"
      ],
      "metadata": {
        "execution": {
          "iopub.status.busy": "2022-02-08T05:44:46.678713Z",
          "iopub.execute_input": "2022-02-08T05:44:46.679280Z",
          "iopub.status.idle": "2022-02-08T05:44:46.928830Z",
          "shell.execute_reply.started": "2022-02-08T05:44:46.679230Z",
          "shell.execute_reply": "2022-02-08T05:44:46.928242Z"
        },
        "trusted": true,
        "colab": {
          "base_uri": "https://localhost:8080/",
          "height": 286
        },
        "id": "6-j6Dn0i1StD",
        "outputId": "96acd377-a4e8-426b-cd95-5ac671b5acea"
      },
      "execution_count": 85,
      "outputs": [
        {
          "output_type": "execute_result",
          "data": {
            "text/plain": [
              "<matplotlib.axes._subplots.AxesSubplot at 0x7f73aebb6d10>"
            ]
          },
          "metadata": {},
          "execution_count": 85
        },
        {
          "output_type": "display_data",
          "data": {
            "image/png": "[encoded data removed]",
            "text/plain": [
              "<Figure size 432x288 with 2 Axes>"
            ]
          },
          "metadata": {
            "needs_background": "light"
          }
        }
      ]
    },
    {
      "cell_type": "markdown",
      "source": [
        "**Which channel has largest number of trending videos?**"
      ],
      "metadata": {
        "id": "QaYwq5E01StE"
      }
    },
    {
      "cell_type": "code",
      "source": [
        "full_df.columns"
      ],
      "metadata": {
        "execution": {
          "iopub.status.busy": "2022-02-08T05:52:04.643494Z",
          "iopub.execute_input": "2022-02-08T05:52:04.643762Z",
          "iopub.status.idle": "2022-02-08T05:52:04.650354Z",
          "shell.execute_reply.started": "2022-02-08T05:52:04.643735Z",
          "shell.execute_reply": "2022-02-08T05:52:04.649408Z"
        },
        "trusted": true,
        "colab": {
          "base_uri": "https://localhost:8080/"
        },
        "id": "p8xwrK2t1StF",
        "outputId": "b0f7fb69-31ec-4d99-8760-4b6708eabef0"
      },
      "execution_count": 86,
      "outputs": [
        {
          "output_type": "execute_result",
          "data": {
            "text/plain": [
              "Index(['video_id', 'title', 'channel_title', 'category_id', 'tags', 'views',\n",
              "       'likes', 'dislikes', 'comment_total', 'thumbnail_link', 'date',\n",
              "       'country', 'category_name', 'like_rate', 'dislike_rate',\n",
              "       'comment_total_rate'],\n",
              "      dtype='object')"
            ]
          },
          "metadata": {},
          "execution_count": 86
        }
      ]
    },
    {
      "cell_type": "code",
      "source": [
        "cdf = full_df.groupby('channel_title')['video_id'].count().sort_values(ascending = False).to_frame().reset_index().rename(columns = {'video_id':'tatal_videos'})"
      ],
      "metadata": {
        "execution": {
          "iopub.status.busy": "2022-02-08T05:56:56.964946Z",
          "iopub.execute_input": "2022-02-08T05:56:56.965539Z",
          "iopub.status.idle": "2022-02-08T05:56:56.979370Z",
          "shell.execute_reply.started": "2022-02-08T05:56:56.965487Z",
          "shell.execute_reply": "2022-02-08T05:56:56.978753Z"
        },
        "trusted": true,
        "id": "U0y4X22T1StF"
      },
      "execution_count": 87,
      "outputs": []
    },
    {
      "cell_type": "code",
      "source": [
        "cdf"
      ],
      "metadata": {
        "execution": {
          "iopub.status.busy": "2022-02-08T05:57:04.004308Z",
          "iopub.execute_input": "2022-02-08T05:57:04.004895Z",
          "iopub.status.idle": "2022-02-08T05:57:04.017423Z",
          "shell.execute_reply.started": "2022-02-08T05:57:04.004855Z",
          "shell.execute_reply": "2022-02-08T05:57:04.016896Z"
        },
        "trusted": true,
        "colab": {
          "base_uri": "https://localhost:8080/",
          "height": 424
        },
        "id": "S69crsRc1StG",
        "outputId": "2504c06c-6fbe-4537-d934-b5ddd80e1c26"
      },
      "execution_count": 88,
      "outputs": [
        {
          "output_type": "execute_result",
          "data": {
            "text/html": [
              "\n",
              "  <div id=\"df-6811502c-39d6-4452-854e-c9b7e3bcc824\">\n",
              "    <div class=\"colab-df-container\">\n",
              "      <div>\n",
              "<style scoped>\n",
              "    .dataframe tbody tr th:only-of-type {\n",
              "        vertical-align: middle;\n",
              "    }\n",
              "\n",
              "    .dataframe tbody tr th {\n",
              "        vertical-align: top;\n",
              "    }\n",
              "\n",
              "    .dataframe thead th {\n",
              "        text-align: right;\n",
              "    }\n",
              "</style>\n",
              "<table border=\"1\" class=\"dataframe\">\n",
              "  <thead>\n",
              "    <tr style=\"text-align: right;\">\n",
              "      <th></th>\n",
              "      <th>channel_title</th>\n",
              "      <th>tatal_videos</th>\n",
              "    </tr>\n",
              "  </thead>\n",
              "  <tbody>\n",
              "    <tr>\n",
              "      <th>0</th>\n",
              "      <td>First We Feast</td>\n",
              "      <td>79</td>\n",
              "    </tr>\n",
              "    <tr>\n",
              "      <th>1</th>\n",
              "      <td>The Tonight Show Starring Jimmy Fallon</td>\n",
              "      <td>78</td>\n",
              "    </tr>\n",
              "    <tr>\n",
              "      <th>2</th>\n",
              "      <td>Jimmy Kimmel Live</td>\n",
              "      <td>77</td>\n",
              "    </tr>\n",
              "    <tr>\n",
              "      <th>3</th>\n",
              "      <td>jacksfilms</td>\n",
              "      <td>77</td>\n",
              "    </tr>\n",
              "    <tr>\n",
              "      <th>4</th>\n",
              "      <td>Vox</td>\n",
              "      <td>75</td>\n",
              "    </tr>\n",
              "    <tr>\n",
              "      <th>...</th>\n",
              "      <td>...</td>\n",
              "      <td>...</td>\n",
              "    </tr>\n",
              "    <tr>\n",
              "      <th>1699</th>\n",
              "      <td>Concert Daily</td>\n",
              "      <td>1</td>\n",
              "    </tr>\n",
              "    <tr>\n",
              "      <th>1700</th>\n",
              "      <td>Complex News</td>\n",
              "      <td>1</td>\n",
              "    </tr>\n",
              "    <tr>\n",
              "      <th>1701</th>\n",
              "      <td>Comicbook.com</td>\n",
              "      <td>1</td>\n",
              "    </tr>\n",
              "    <tr>\n",
              "      <th>1702</th>\n",
              "      <td>aao331</td>\n",
              "      <td>1</td>\n",
              "    </tr>\n",
              "    <tr>\n",
              "      <th>1703</th>\n",
              "      <td>Shawn Setaro</td>\n",
              "      <td>1</td>\n",
              "    </tr>\n",
              "  </tbody>\n",
              "</table>\n",
              "<p>1704 rows × 2 columns</p>\n",
              "</div>\n",
              "      <button class=\"colab-df-convert\" onclick=\"convertToInteractive('df-6811502c-39d6-4452-854e-c9b7e3bcc824')\"\n",
              "              title=\"Convert this dataframe to an interactive table.\"\n",
              "              style=\"display:none;\">\n",
              "        \n",
              "  <svg xmlns=\"http://www.w3.org/2000/svg\" height=\"24px\"viewBox=\"0 0 24 24\"\n",
              "       width=\"24px\">\n",
              "    <path d=\"M0 0h24v24H0V0z\" fill=\"none\"/>\n",
              "    <path d=\"M18.56 5.44l.94 2.06.94-2.06 2.06-.94-2.06-.94-.94-2.06-.94 2.06-2.06.94zm-11 1L8.5 8.5l.94-2.06 2.06-.94-2.06-.94L8.5 2.5l-.94 2.06-2.06.94zm10 10l.94 2.06.94-2.06 2.06-.94-2.06-.94-.94-2.06-.94 2.06-2.06.94z\"/><path d=\"M17.41 7.96l-1.37-1.37c-.4-.4-.92-.59-1.43-.59-.52 0-1.04.2-1.43.59L10.3 9.45l-7.72 7.72c-.78.78-.78 2.05 0 2.83L4 21.41c.39.39.9.59 1.41.59.51 0 1.02-.2 1.41-.59l7.78-7.78 2.81-2.81c.8-.78.8-2.07 0-2.86zM5.41 20L4 18.59l7.72-7.72 1.47 1.35L5.41 20z\"/>\n",
              "  </svg>\n",
              "      </button>\n",
              "      \n",
              "  <style>\n",
              "    .colab-df-container {\n",
              "      display:flex;\n",
              "      flex-wrap:wrap;\n",
              "      gap: 12px;\n",
              "    }\n",
              "\n",
              "    .colab-df-convert {\n",
              "      background-color: #E8F0FE;\n",
              "      border: none;\n",
              "      border-radius: 50%;\n",
              "      cursor: pointer;\n",
              "      display: none;\n",
              "      fill: #1967D2;\n",
              "      height: 32px;\n",
              "      padding: 0 0 0 0;\n",
              "      width: 32px;\n",
              "    }\n",
              "\n",
              "    .colab-df-convert:hover {\n",
              "      background-color: #E2EBFA;\n",
              "      box-shadow: 0px 1px 2px rgba(60, 64, 67, 0.3), 0px 1px 3px 1px rgba(60, 64, 67, 0.15);\n",
              "      fill: #174EA6;\n",
              "    }\n",
              "\n",
              "    [theme=dark] .colab-df-convert {\n",
              "      background-color: #3B4455;\n",
              "      fill: #D2E3FC;\n",
              "    }\n",
              "\n",
              "    [theme=dark] .colab-df-convert:hover {\n",
              "      background-color: #434B5C;\n",
              "      box-shadow: 0px 1px 3px 1px rgba(0, 0, 0, 0.15);\n",
              "      filter: drop-shadow(0px 1px 2px rgba(0, 0, 0, 0.3));\n",
              "      fill: #FFFFFF;\n",
              "    }\n",
              "  </style>\n",
              "\n",
              "      <script>\n",
              "        const buttonEl =\n",
              "          document.querySelector('#df-6811502c-39d6-4452-854e-c9b7e3bcc824 button.colab-df-convert');\n",
              "        buttonEl.style.display =\n",
              "          google.colab.kernel.accessAllowed ? 'block' : 'none';\n",
              "\n",
              "        async function convertToInteractive(key) {\n",
              "          const element = document.querySelector('#df-6811502c-39d6-4452-854e-c9b7e3bcc824');\n",
              "          const dataTable =\n",
              "            await google.colab.kernel.invokeFunction('convertToInteractive',\n",
              "                                                     [key], {});\n",
              "          if (!dataTable) return;\n",
              "\n",
              "          const docLinkHtml = 'Like what you see? Visit the ' +\n",
              "            '<a target=\"_blank\" href=https://colab.research.google.com/notebooks/data_table.ipynb>data table notebook</a>'\n",
              "            + ' to learn more about interactive tables.';\n",
              "          element.innerHTML = '';\n",
              "          dataTable['output_type'] = 'display_data';\n",
              "          await google.colab.output.renderOutput(dataTable, element);\n",
              "          const docLink = document.createElement('div');\n",
              "          docLink.innerHTML = docLinkHtml;\n",
              "          element.appendChild(docLink);\n",
              "        }\n",
              "      </script>\n",
              "    </div>\n",
              "  </div>\n",
              "  "
            ],
            "text/plain": [
              "                               channel_title  tatal_videos\n",
              "0                             First We Feast            79\n",
              "1     The Tonight Show Starring Jimmy Fallon            78\n",
              "2                          Jimmy Kimmel Live            77\n",
              "3                                 jacksfilms            77\n",
              "4                                        Vox            75\n",
              "...                                      ...           ...\n",
              "1699                           Concert Daily             1\n",
              "1700                            Complex News             1\n",
              "1701                           Comicbook.com             1\n",
              "1702                                  aao331             1\n",
              "1703                            Shawn Setaro             1\n",
              "\n",
              "[1704 rows x 2 columns]"
            ]
          },
          "metadata": {},
          "execution_count": 88
        }
      ]
    },
    {
      "cell_type": "code",
      "source": [
        "import plotly.express as px"
      ],
      "metadata": {
        "execution": {
          "iopub.status.busy": "2022-02-08T05:59:57.552544Z",
          "iopub.execute_input": "2022-02-08T05:59:57.553085Z",
          "iopub.status.idle": "2022-02-08T05:59:58.591733Z",
          "shell.execute_reply.started": "2022-02-08T05:59:57.553025Z",
          "shell.execute_reply": "2022-02-08T05:59:58.590880Z"
        },
        "trusted": true,
        "id": "ow0pVU4A1StH"
      },
      "execution_count": 89,
      "outputs": []
    },
    {
      "cell_type": "code",
      "source": [
        "px.bar(data_frame = cdf[0:20], x = 'channel_title', y = 'tatal_videos')"
      ],
      "metadata": {
        "execution": {
          "iopub.status.busy": "2022-02-08T06:00:00.367117Z",
          "iopub.execute_input": "2022-02-08T06:00:00.367713Z",
          "iopub.status.idle": "2022-02-08T06:00:00.583544Z",
          "shell.execute_reply.started": "2022-02-08T06:00:00.367678Z",
          "shell.execute_reply": "2022-02-08T06:00:00.582829Z"
        },
        "trusted": true,
        "colab": {
          "base_uri": "https://localhost:8080/",
          "height": 542
        },
        "id": "yjNcGKox1StH",
        "outputId": "a8e4dbd6-d743-4e29-8dc2-91b6d7537de9"
      },
      "execution_count": 90,
      "outputs": [
        {
          "output_type": "display_data",
          "data": {
            "text/html": [
              "<html>\n",
              "<head><meta charset=\"utf-8\" /></head>\n",
              "<body>\n",
              "    <div>            <script src=\"https://cdnjs.cloudflare.com/ajax/libs/mathjax/2.7.5/MathJax.js?config=TeX-AMS-MML_SVG\"></script><script type=\"text/javascript\">if (window.MathJax) {MathJax.Hub.Config({SVG: {font: \"STIX-Web\"}});}</script>                <script type=\"text/javascript\">window.PlotlyConfig = {MathJaxConfig: 'local'};</script>\n",
              "        <script src=\"https://cdn.plot.ly/plotly-2.8.3.min.js\"></script>                <div id=\"a9eaeb09-e50f-478f-bc25-d2ce6d0cc5a6\" class=\"plotly-graph-div\" style=\"height:525px; width:100%;\"></div>            <script type=\"text/javascript\">                                    window.PLOTLYENV=window.PLOTLYENV || {};                                    if (document.getElementById(\"a9eaeb09-e50f-478f-bc25-d2ce6d0cc5a6\")) {                    Plotly.newPlot(                        \"a9eaeb09-e50f-478f-bc25-d2ce6d0cc5a6\",                        [{\"alignmentgroup\":\"True\",\"hovertemplate\":\"channel_title=%{x}<br>tatal_videos=%{y}<extra></extra>\",\"legendgroup\":\"\",\"marker\":{\"color\":\"#636efa\",\"pattern\":{\"shape\":\"\"}},\"name\":\"\",\"offsetgroup\":\"\",\"orientation\":\"v\",\"showlegend\":false,\"textposition\":\"auto\",\"x\":[\"First We Feast\",\"The Tonight Show Starring Jimmy Fallon\",\"Jimmy Kimmel Live\",\"jacksfilms\",\"Vox\",\"The Late Late Show with James Corden\",\"Marques Brownlee\",\"Netflix\",\"Safiya Nygaard\",\"TheEllenShow\",\"vlogbrothers\",\"CollegeHumor\",\"Nile Wilson\",\"Meet Arnold\",\"ESPN\",\"Amber Scholl\",\"Rosanna Pansino\",\"Good Mythical Morning\",\"Simply Nailogical\",\"BuzzFeedVideo\"],\"xaxis\":\"x\",\"y\":[79,78,77,77,75,75,68,67,64,64,62,60,59,58,58,57,57,57,57,56],\"yaxis\":\"y\",\"type\":\"bar\"}],                        {\"template\":{\"data\":{\"bar\":[{\"error_x\":{\"color\":\"#2a3f5f\"},\"error_y\":{\"color\":\"#2a3f5f\"},\"marker\":{\"line\":{\"color\":\"#E5ECF6\",\"width\":0.5},\"pattern\":{\"fillmode\":\"overlay\",\"size\":10,\"solidity\":0.2}},\"type\":\"bar\"}],\"barpolar\":[{\"marker\":{\"line\":{\"color\":\"#E5ECF6\",\"width\":0.5},\"pattern\":{\"fillmode\":\"overlay\",\"size\":10,\"solidity\":0.2}},\"type\":\"barpolar\"}],\"carpet\":[{\"aaxis\":{\"endlinecolor\":\"#2a3f5f\",\"gridcolor\":\"white\",\"linecolor\":\"white\",\"minorgridcolor\":\"white\",\"startlinecolor\":\"#2a3f5f\"},\"baxis\":{\"endlinecolor\":\"#2a3f5f\",\"gridcolor\":\"white\",\"linecolor\":\"white\",\"minorgridcolor\":\"white\",\"startlinecolor\":\"#2a3f5f\"},\"type\":\"carpet\"}],\"choropleth\":[{\"colorbar\":{\"outlinewidth\":0,\"ticks\":\"\"},\"type\":\"choropleth\"}],\"contour\":[{\"colorbar\":{\"outlinewidth\":0,\"ticks\":\"\"},\"colorscale\":[[0.0,\"#0d0887\"],[0.1111111111111111,\"#46039f\"],[0.2222222222222222,\"#7201a8\"],[0.3333333333333333,\"#9c179e\"],[0.4444444444444444,\"#bd3786\"],[0.5555555555555556,\"#d8576b\"],[0.6666666666666666,\"#ed7953\"],[0.7777777777777778,\"#fb9f3a\"],[0.8888888888888888,\"#fdca26\"],[1.0,\"#f0f921\"]],\"type\":\"contour\"}],\"contourcarpet\":[{\"colorbar\":{\"outlinewidth\":0,\"ticks\":\"\"},\"type\":\"contourcarpet\"}],\"heatmap\":[{\"colorbar\":{\"outlinewidth\":0,\"ticks\":\"\"},\"colorscale\":[[0.0,\"#0d0887\"],[0.1111111111111111,\"#46039f\"],[0.2222222222222222,\"#7201a8\"],[0.3333333333333333,\"#9c179e\"],[0.4444444444444444,\"#bd3786\"],[0.5555555555555556,\"#d8576b\"],[0.6666666666666666,\"#ed7953\"],[0.7777777777777778,\"#fb9f3a\"],[0.8888888888888888,\"#fdca26\"],[1.0,\"#f0f921\"]],\"type\":\"heatmap\"}],\"heatmapgl\":[{\"colorbar\":{\"outlinewidth\":0,\"ticks\":\"\"},\"colorscale\":[[0.0,\"#0d0887\"],[0.1111111111111111,\"#46039f\"],[0.2222222222222222,\"#7201a8\"],[0.3333333333333333,\"#9c179e\"],[0.4444444444444444,\"#bd3786\"],[0.5555555555555556,\"#d8576b\"],[0.6666666666666666,\"#ed7953\"],[0.7777777777777778,\"#fb9f3a\"],[0.8888888888888888,\"#fdca26\"],[1.0,\"#f0f921\"]],\"type\":\"heatmapgl\"}],\"histogram\":[{\"marker\":{\"pattern\":{\"fillmode\":\"overlay\",\"size\":10,\"solidity\":0.2}},\"type\":\"histogram\"}],\"histogram2d\":[{\"colorbar\":{\"outlinewidth\":0,\"ticks\":\"\"},\"colorscale\":[[0.0,\"#0d0887\"],[0.1111111111111111,\"#46039f\"],[0.2222222222222222,\"#7201a8\"],[0.3333333333333333,\"#9c179e\"],[0.4444444444444444,\"#bd3786\"],[0.5555555555555556,\"#d8576b\"],[0.6666666666666666,\"#ed7953\"],[0.7777777777777778,\"#fb9f3a\"],[0.8888888888888888,\"#fdca26\"],[1.0,\"#f0f921\"]],\"type\":\"histogram2d\"}],\"histogram2dcontour\":[{\"colorbar\":{\"outlinewidth\":0,\"ticks\":\"\"},\"colorscale\":[[0.0,\"#0d0887\"],[0.1111111111111111,\"#46039f\"],[0.2222222222222222,\"#7201a8\"],[0.3333333333333333,\"#9c179e\"],[0.4444444444444444,\"#bd3786\"],[0.5555555555555556,\"#d8576b\"],[0.6666666666666666,\"#ed7953\"],[0.7777777777777778,\"#fb9f3a\"],[0.8888888888888888,\"#fdca26\"],[1.0,\"#f0f921\"]],\"type\":\"histogram2dcontour\"}],\"mesh3d\":[{\"colorbar\":{\"outlinewidth\":0,\"ticks\":\"\"},\"type\":\"mesh3d\"}],\"parcoords\":[{\"line\":{\"colorbar\":{\"outlinewidth\":0,\"ticks\":\"\"}},\"type\":\"parcoords\"}],\"pie\":[{\"automargin\":true,\"type\":\"pie\"}],\"scatter\":[{\"marker\":{\"colorbar\":{\"outlinewidth\":0,\"ticks\":\"\"}},\"type\":\"scatter\"}],\"scatter3d\":[{\"line\":{\"colorbar\":{\"outlinewidth\":0,\"ticks\":\"\"}},\"marker\":{\"colorbar\":{\"outlinewidth\":0,\"ticks\":\"\"}},\"type\":\"scatter3d\"}],\"scattercarpet\":[{\"marker\":{\"colorbar\":{\"outlinewidth\":0,\"ticks\":\"\"}},\"type\":\"scattercarpet\"}],\"scattergeo\":[{\"marker\":{\"colorbar\":{\"outlinewidth\":0,\"ticks\":\"\"}},\"type\":\"scattergeo\"}],\"scattergl\":[{\"marker\":{\"colorbar\":{\"outlinewidth\":0,\"ticks\":\"\"}},\"type\":\"scattergl\"}],\"scattermapbox\":[{\"marker\":{\"colorbar\":{\"outlinewidth\":0,\"ticks\":\"\"}},\"type\":\"scattermapbox\"}],\"scatterpolar\":[{\"marker\":{\"colorbar\":{\"outlinewidth\":0,\"ticks\":\"\"}},\"type\":\"scatterpolar\"}],\"scatterpolargl\":[{\"marker\":{\"colorbar\":{\"outlinewidth\":0,\"ticks\":\"\"}},\"type\":\"scatterpolargl\"}],\"scatterternary\":[{\"marker\":{\"colorbar\":{\"outlinewidth\":0,\"ticks\":\"\"}},\"type\":\"scatterternary\"}],\"surface\":[{\"colorbar\":{\"outlinewidth\":0,\"ticks\":\"\"},\"colorscale\":[[0.0,\"#0d0887\"],[0.1111111111111111,\"#46039f\"],[0.2222222222222222,\"#7201a8\"],[0.3333333333333333,\"#9c179e\"],[0.4444444444444444,\"#bd3786\"],[0.5555555555555556,\"#d8576b\"],[0.6666666666666666,\"#ed7953\"],[0.7777777777777778,\"#fb9f3a\"],[0.8888888888888888,\"#fdca26\"],[1.0,\"#f0f921\"]],\"type\":\"surface\"}],\"table\":[{\"cells\":{\"fill\":{\"color\":\"#EBF0F8\"},\"line\":{\"color\":\"white\"}},\"header\":{\"fill\":{\"color\":\"#C8D4E3\"},\"line\":{\"color\":\"white\"}},\"type\":\"table\"}]},\"layout\":{\"annotationdefaults\":{\"arrowcolor\":\"#2a3f5f\",\"arrowhead\":0,\"arrowwidth\":1},\"autotypenumbers\":\"strict\",\"coloraxis\":{\"colorbar\":{\"outlinewidth\":0,\"ticks\":\"\"}},\"colorscale\":{\"diverging\":[[0,\"#8e0152\"],[0.1,\"#c51b7d\"],[0.2,\"#de77ae\"],[0.3,\"#f1b6da\"],[0.4,\"#fde0ef\"],[0.5,\"#f7f7f7\"],[0.6,\"#e6f5d0\"],[0.7,\"#b8e186\"],[0.8,\"#7fbc41\"],[0.9,\"#4d9221\"],[1,\"#276419\"]],\"sequential\":[[0.0,\"#0d0887\"],[0.1111111111111111,\"#46039f\"],[0.2222222222222222,\"#7201a8\"],[0.3333333333333333,\"#9c179e\"],[0.4444444444444444,\"#bd3786\"],[0.5555555555555556,\"#d8576b\"],[0.6666666666666666,\"#ed7953\"],[0.7777777777777778,\"#fb9f3a\"],[0.8888888888888888,\"#fdca26\"],[1.0,\"#f0f921\"]],\"sequentialminus\":[[0.0,\"#0d0887\"],[0.1111111111111111,\"#46039f\"],[0.2222222222222222,\"#7201a8\"],[0.3333333333333333,\"#9c179e\"],[0.4444444444444444,\"#bd3786\"],[0.5555555555555556,\"#d8576b\"],[0.6666666666666666,\"#ed7953\"],[0.7777777777777778,\"#fb9f3a\"],[0.8888888888888888,\"#fdca26\"],[1.0,\"#f0f921\"]]},\"colorway\":[\"#636efa\",\"#EF553B\",\"#00cc96\",\"#ab63fa\",\"#FFA15A\",\"#19d3f3\",\"#FF6692\",\"#B6E880\",\"#FF97FF\",\"#FECB52\"],\"font\":{\"color\":\"#2a3f5f\"},\"geo\":{\"bgcolor\":\"white\",\"lakecolor\":\"white\",\"landcolor\":\"#E5ECF6\",\"showlakes\":true,\"showland\":true,\"subunitcolor\":\"white\"},\"hoverlabel\":{\"align\":\"left\"},\"hovermode\":\"closest\",\"mapbox\":{\"style\":\"light\"},\"paper_bgcolor\":\"white\",\"plot_bgcolor\":\"#E5ECF6\",\"polar\":{\"angularaxis\":{\"gridcolor\":\"white\",\"linecolor\":\"white\",\"ticks\":\"\"},\"bgcolor\":\"#E5ECF6\",\"radialaxis\":{\"gridcolor\":\"white\",\"linecolor\":\"white\",\"ticks\":\"\"}},\"scene\":{\"xaxis\":{\"backgroundcolor\":\"#E5ECF6\",\"gridcolor\":\"white\",\"gridwidth\":2,\"linecolor\":\"white\",\"showbackground\":true,\"ticks\":\"\",\"zerolinecolor\":\"white\"},\"yaxis\":{\"backgroundcolor\":\"#E5ECF6\",\"gridcolor\":\"white\",\"gridwidth\":2,\"linecolor\":\"white\",\"showbackground\":true,\"ticks\":\"\",\"zerolinecolor\":\"white\"},\"zaxis\":{\"backgroundcolor\":\"#E5ECF6\",\"gridcolor\":\"white\",\"gridwidth\":2,\"linecolor\":\"white\",\"showbackground\":true,\"ticks\":\"\",\"zerolinecolor\":\"white\"}},\"shapedefaults\":{\"line\":{\"color\":\"#2a3f5f\"}},\"ternary\":{\"aaxis\":{\"gridcolor\":\"white\",\"linecolor\":\"white\",\"ticks\":\"\"},\"baxis\":{\"gridcolor\":\"white\",\"linecolor\":\"white\",\"ticks\":\"\"},\"bgcolor\":\"#E5ECF6\",\"caxis\":{\"gridcolor\":\"white\",\"linecolor\":\"white\",\"ticks\":\"\"}},\"title\":{\"x\":0.05},\"xaxis\":{\"automargin\":true,\"gridcolor\":\"white\",\"linecolor\":\"white\",\"ticks\":\"\",\"title\":{\"standoff\":15},\"zerolinecolor\":\"white\",\"zerolinewidth\":2},\"yaxis\":{\"automargin\":true,\"gridcolor\":\"white\",\"linecolor\":\"white\",\"ticks\":\"\",\"title\":{\"standoff\":15},\"zerolinecolor\":\"white\",\"zerolinewidth\":2}}},\"xaxis\":{\"anchor\":\"y\",\"domain\":[0.0,1.0],\"title\":{\"text\":\"channel_title\"}},\"yaxis\":{\"anchor\":\"x\",\"domain\":[0.0,1.0],\"title\":{\"text\":\"tatal_videos\"}},\"legend\":{\"tracegroupgap\":0},\"margin\":{\"t\":60},\"barmode\":\"relative\"},                        {\"responsive\": true}                    ).then(function(){\n",
              "                            \n",
              "var gd = document.getElementById('a9eaeb09-e50f-478f-bc25-d2ce6d0cc5a6');\n",
              "var x = new MutationObserver(function (mutations, observer) {{\n",
              "        var display = window.getComputedStyle(gd).display;\n",
              "        if (!display || display === 'none') {{\n",
              "            console.log([gd, 'removed!']);\n",
              "            Plotly.purge(gd);\n",
              "            observer.disconnect();\n",
              "        }}\n",
              "}});\n",
              "\n",
              "// Listen for the removal of the full notebook cells\n",
              "var notebookContainer = gd.closest('#notebook-container');\n",
              "if (notebookContainer) {{\n",
              "    x.observe(notebookContainer, {childList: true});\n",
              "}}\n",
              "\n",
              "// Listen for the clearing of the current output cell\n",
              "var outputEl = gd.closest('.output');\n",
              "if (outputEl) {{\n",
              "    x.observe(outputEl, {childList: true});\n",
              "}}\n",
              "\n",
              "                        })                };                            </script>        </div>\n",
              "</body>\n",
              "</html>"
            ]
          },
          "metadata": {}
        }
      ]
    },
    {
      "cell_type": "markdown",
      "source": [
        "**Does punctuation in title and tags have any relation with views, likes, dislikes, comments?**"
      ],
      "metadata": {
        "id": "j5HrUo0V1StI"
      }
    },
    {
      "cell_type": "code",
      "source": [
        "full_df.columns"
      ],
      "metadata": {
        "execution": {
          "iopub.status.busy": "2022-02-08T06:08:43.121984Z",
          "iopub.execute_input": "2022-02-08T06:08:43.122221Z",
          "iopub.status.idle": "2022-02-08T06:08:43.127692Z",
          "shell.execute_reply.started": "2022-02-08T06:08:43.122195Z",
          "shell.execute_reply": "2022-02-08T06:08:43.127135Z"
        },
        "trusted": true,
        "colab": {
          "base_uri": "https://localhost:8080/"
        },
        "id": "MD-sFVFh1StI",
        "outputId": "a142d526-714f-4e6e-eee6-c5f534a983f2"
      },
      "execution_count": 91,
      "outputs": [
        {
          "output_type": "execute_result",
          "data": {
            "text/plain": [
              "Index(['video_id', 'title', 'channel_title', 'category_id', 'tags', 'views',\n",
              "       'likes', 'dislikes', 'comment_total', 'thumbnail_link', 'date',\n",
              "       'country', 'category_name', 'like_rate', 'dislike_rate',\n",
              "       'comment_total_rate'],\n",
              "      dtype='object')"
            ]
          },
          "metadata": {},
          "execution_count": 91
        }
      ]
    },
    {
      "cell_type": "code",
      "source": [
        "full_df['title']"
      ],
      "metadata": {
        "execution": {
          "iopub.status.busy": "2022-02-08T06:09:16.607443Z",
          "iopub.execute_input": "2022-02-08T06:09:16.608209Z",
          "iopub.status.idle": "2022-02-08T06:09:16.615348Z",
          "shell.execute_reply.started": "2022-02-08T06:09:16.608170Z",
          "shell.execute_reply": "2022-02-08T06:09:16.614521Z"
        },
        "trusted": true,
        "colab": {
          "base_uri": "https://localhost:8080/"
        },
        "id": "eHYKZIGH1StJ",
        "outputId": "6d061fc7-6316-4524-e7cb-1f513885737b"
      },
      "execution_count": 92,
      "outputs": [
        {
          "output_type": "execute_result",
          "data": {
            "text/plain": [
              "0       Live Apple Event - Apple September Event 2017 ...\n",
              "1       Holly and Phillip Meet Samantha the Sex Robot ...\n",
              "2                         My DNA Test Results! I'm WHAT?!\n",
              "3       getting into a conversation in a language you ...\n",
              "4                                    Baby Name Challenge!\n",
              "                              ...                        \n",
              "7987                       How Do MASSIVE Sinkholes Form?\n",
              "7988    Trump slams Clinton for defending NFL anthem p...\n",
              "7989    LP - Lost On You (A Night at The McKittrick Ho...\n",
              "7990    TrÃ© Melvin @ #YouTubeBlack FanFest Washington...\n",
              "7991    First cosmic event seen in gravitational waves...\n",
              "Name: title, Length: 15985, dtype: object"
            ]
          },
          "metadata": {},
          "execution_count": 92
        }
      ]
    },
    {
      "cell_type": "code",
      "source": [
        "import string"
      ],
      "metadata": {
        "execution": {
          "iopub.status.busy": "2022-02-08T06:06:20.347339Z",
          "iopub.execute_input": "2022-02-08T06:06:20.347669Z",
          "iopub.status.idle": "2022-02-08T06:06:20.351817Z",
          "shell.execute_reply.started": "2022-02-08T06:06:20.347639Z",
          "shell.execute_reply": "2022-02-08T06:06:20.350892Z"
        },
        "trusted": true,
        "id": "65RTwsPY1StJ"
      },
      "execution_count": 93,
      "outputs": []
    },
    {
      "cell_type": "code",
      "source": [
        "string.punctuation"
      ],
      "metadata": {
        "execution": {
          "iopub.status.busy": "2022-02-08T06:06:41.367554Z",
          "iopub.execute_input": "2022-02-08T06:06:41.367865Z",
          "iopub.status.idle": "2022-02-08T06:06:41.373495Z",
          "shell.execute_reply.started": "2022-02-08T06:06:41.367837Z",
          "shell.execute_reply": "2022-02-08T06:06:41.372718Z"
        },
        "trusted": true,
        "colab": {
          "base_uri": "https://localhost:8080/",
          "height": 35
        },
        "id": "UK9UYQo_1StK",
        "outputId": "7eb32479-625b-4f38-ec16-01c0b4a2b4cd"
      },
      "execution_count": 94,
      "outputs": [
        {
          "output_type": "execute_result",
          "data": {
            "application/vnd.google.colaboratory.intrinsic+json": {
              "type": "string"
            },
            "text/plain": [
              "'!\"#$%&\\'()*+,-./:;<=>?@[\\\\]^_`{|}~'"
            ]
          },
          "metadata": {},
          "execution_count": 94
        }
      ]
    },
    {
      "cell_type": "code",
      "source": [
        "def punc_count(x):\n",
        "    return len([c for c in x if c in string.punctuation])"
      ],
      "metadata": {
        "execution": {
          "iopub.status.busy": "2022-02-08T06:08:18.382159Z",
          "iopub.execute_input": "2022-02-08T06:08:18.382959Z",
          "iopub.status.idle": "2022-02-08T06:08:18.387277Z",
          "shell.execute_reply.started": "2022-02-08T06:08:18.382904Z",
          "shell.execute_reply": "2022-02-08T06:08:18.386433Z"
        },
        "trusted": true,
        "id": "mbQrYYq81StL"
      },
      "execution_count": 95,
      "outputs": []
    },
    {
      "cell_type": "code",
      "source": [
        "text = 'Live Apple Event - Apple September Event 2017'"
      ],
      "metadata": {
        "execution": {
          "iopub.status.busy": "2022-02-08T06:09:28.198807Z",
          "iopub.execute_input": "2022-02-08T06:09:28.199061Z",
          "iopub.status.idle": "2022-02-08T06:09:28.202924Z",
          "shell.execute_reply.started": "2022-02-08T06:09:28.199028Z",
          "shell.execute_reply": "2022-02-08T06:09:28.201889Z"
        },
        "trusted": true,
        "id": "2Cf4--Xz1StL"
      },
      "execution_count": 96,
      "outputs": []
    },
    {
      "cell_type": "code",
      "source": [
        "punc_count(text)"
      ],
      "metadata": {
        "execution": {
          "iopub.status.busy": "2022-02-08T06:09:41.278630Z",
          "iopub.execute_input": "2022-02-08T06:09:41.278917Z",
          "iopub.status.idle": "2022-02-08T06:09:41.285125Z",
          "shell.execute_reply.started": "2022-02-08T06:09:41.278888Z",
          "shell.execute_reply": "2022-02-08T06:09:41.284223Z"
        },
        "trusted": true,
        "colab": {
          "base_uri": "https://localhost:8080/"
        },
        "id": "J8GedRHk1StM",
        "outputId": "fd1e60c0-1785-4d85-c623-a7467446c019"
      },
      "execution_count": 97,
      "outputs": [
        {
          "output_type": "execute_result",
          "data": {
            "text/plain": [
              "1"
            ]
          },
          "metadata": {},
          "execution_count": 97
        }
      ]
    },
    {
      "cell_type": "code",
      "source": [
        "full_df['count_punc'] = full_df['title'].apply(punc_count)"
      ],
      "metadata": {
        "execution": {
          "iopub.status.busy": "2022-02-08T06:12:09.794481Z",
          "iopub.execute_input": "2022-02-08T06:12:09.795033Z",
          "iopub.status.idle": "2022-02-08T06:12:09.879133Z",
          "shell.execute_reply.started": "2022-02-08T06:12:09.794990Z",
          "shell.execute_reply": "2022-02-08T06:12:09.878234Z"
        },
        "trusted": true,
        "id": "id69FmzQ1StM"
      },
      "execution_count": 98,
      "outputs": []
    },
    {
      "cell_type": "code",
      "source": [
        "full_df.head()"
      ],
      "metadata": {
        "execution": {
          "iopub.status.busy": "2022-02-08T06:12:20.772441Z",
          "iopub.execute_input": "2022-02-08T06:12:20.774760Z",
          "iopub.status.idle": "2022-02-08T06:12:20.797147Z",
          "shell.execute_reply.started": "2022-02-08T06:12:20.774710Z",
          "shell.execute_reply": "2022-02-08T06:12:20.796150Z"
        },
        "trusted": true,
        "colab": {
          "base_uri": "https://localhost:8080/",
          "height": 583
        },
        "id": "yVMXrqrd1StN",
        "outputId": "f7a3a75c-03ba-4044-b4d7-3a9bbec7c8d5"
      },
      "execution_count": 99,
      "outputs": [
        {
          "output_type": "execute_result",
          "data": {
            "text/html": [
              "\n",
              "  <div id=\"df-bffbc331-b1dd-4acc-9e28-1ef258f1da20\">\n",
              "    <div class=\"colab-df-container\">\n",
              "      <div>\n",
              "<style scoped>\n",
              "    .dataframe tbody tr th:only-of-type {\n",
              "        vertical-align: middle;\n",
              "    }\n",
              "\n",
              "    .dataframe tbody tr th {\n",
              "        vertical-align: top;\n",
              "    }\n",
              "\n",
              "    .dataframe thead th {\n",
              "        text-align: right;\n",
              "    }\n",
              "</style>\n",
              "<table border=\"1\" class=\"dataframe\">\n",
              "  <thead>\n",
              "    <tr style=\"text-align: right;\">\n",
              "      <th></th>\n",
              "      <th>video_id</th>\n",
              "      <th>title</th>\n",
              "      <th>channel_title</th>\n",
              "      <th>category_id</th>\n",
              "      <th>tags</th>\n",
              "      <th>views</th>\n",
              "      <th>likes</th>\n",
              "      <th>dislikes</th>\n",
              "      <th>comment_total</th>\n",
              "      <th>thumbnail_link</th>\n",
              "      <th>date</th>\n",
              "      <th>country</th>\n",
              "      <th>category_name</th>\n",
              "      <th>like_rate</th>\n",
              "      <th>dislike_rate</th>\n",
              "      <th>comment_total_rate</th>\n",
              "      <th>count_punc</th>\n",
              "    </tr>\n",
              "  </thead>\n",
              "  <tbody>\n",
              "    <tr>\n",
              "      <th>0</th>\n",
              "      <td>jt2OHQh0HoQ</td>\n",
              "      <td>Live Apple Event - Apple September Event 2017 ...</td>\n",
              "      <td>Apple Event</td>\n",
              "      <td>28</td>\n",
              "      <td>apple events|apple event|iphone 8|iphone x|iph...</td>\n",
              "      <td>7426393</td>\n",
              "      <td>78240</td>\n",
              "      <td>13548</td>\n",
              "      <td>705</td>\n",
              "      <td>https://i.ytimg.com/vi/jt2OHQh0HoQ/default_liv...</td>\n",
              "      <td>13.09</td>\n",
              "      <td>GB</td>\n",
              "      <td>Science &amp; Technology</td>\n",
              "      <td>1.053540</td>\n",
              "      <td>0.182430</td>\n",
              "      <td>0.009493</td>\n",
              "      <td>5</td>\n",
              "    </tr>\n",
              "    <tr>\n",
              "      <th>1</th>\n",
              "      <td>AqokkXoa7uE</td>\n",
              "      <td>Holly and Phillip Meet Samantha the Sex Robot ...</td>\n",
              "      <td>This Morning</td>\n",
              "      <td>24</td>\n",
              "      <td>this morning|interview|holly willoughby|philli...</td>\n",
              "      <td>494203</td>\n",
              "      <td>2651</td>\n",
              "      <td>1309</td>\n",
              "      <td>0</td>\n",
              "      <td>https://i.ytimg.com/vi/AqokkXoa7uE/default.jpg</td>\n",
              "      <td>13.09</td>\n",
              "      <td>GB</td>\n",
              "      <td>Entertainment</td>\n",
              "      <td>0.536419</td>\n",
              "      <td>0.264871</td>\n",
              "      <td>0.000000</td>\n",
              "      <td>1</td>\n",
              "    </tr>\n",
              "    <tr>\n",
              "      <th>2</th>\n",
              "      <td>YPVcg45W0z4</td>\n",
              "      <td>My DNA Test Results! I'm WHAT?!</td>\n",
              "      <td>emmablackery</td>\n",
              "      <td>24</td>\n",
              "      <td>emmablackery|emma blackery|emma|blackery|briti...</td>\n",
              "      <td>142819</td>\n",
              "      <td>13119</td>\n",
              "      <td>151</td>\n",
              "      <td>1141</td>\n",
              "      <td>https://i.ytimg.com/vi/YPVcg45W0z4/default.jpg</td>\n",
              "      <td>13.09</td>\n",
              "      <td>GB</td>\n",
              "      <td>Entertainment</td>\n",
              "      <td>9.185753</td>\n",
              "      <td>0.105728</td>\n",
              "      <td>0.798913</td>\n",
              "      <td>4</td>\n",
              "    </tr>\n",
              "    <tr>\n",
              "      <th>3</th>\n",
              "      <td>T_PuZBdT2iM</td>\n",
              "      <td>getting into a conversation in a language you ...</td>\n",
              "      <td>ProZD</td>\n",
              "      <td>1</td>\n",
              "      <td>skit|korean|language|conversation|esl|japanese...</td>\n",
              "      <td>1580028</td>\n",
              "      <td>65729</td>\n",
              "      <td>1529</td>\n",
              "      <td>3598</td>\n",
              "      <td>https://i.ytimg.com/vi/T_PuZBdT2iM/default.jpg</td>\n",
              "      <td>13.09</td>\n",
              "      <td>GB</td>\n",
              "      <td>Film &amp; Animation</td>\n",
              "      <td>4.159990</td>\n",
              "      <td>0.096770</td>\n",
              "      <td>0.227717</td>\n",
              "      <td>1</td>\n",
              "    </tr>\n",
              "    <tr>\n",
              "      <th>4</th>\n",
              "      <td>NsjsmgmbCfc</td>\n",
              "      <td>Baby Name Challenge!</td>\n",
              "      <td>Sprinkleofglitter</td>\n",
              "      <td>26</td>\n",
              "      <td>sprinkleofglitter|sprinkle of glitter|baby gli...</td>\n",
              "      <td>40592</td>\n",
              "      <td>5019</td>\n",
              "      <td>57</td>\n",
              "      <td>490</td>\n",
              "      <td>https://i.ytimg.com/vi/NsjsmgmbCfc/default.jpg</td>\n",
              "      <td>13.09</td>\n",
              "      <td>GB</td>\n",
              "      <td>Howto &amp; Style</td>\n",
              "      <td>12.364505</td>\n",
              "      <td>0.140422</td>\n",
              "      <td>1.207134</td>\n",
              "      <td>1</td>\n",
              "    </tr>\n",
              "  </tbody>\n",
              "</table>\n",
              "</div>\n",
              "      <button class=\"colab-df-convert\" onclick=\"convertToInteractive('df-bffbc331-b1dd-4acc-9e28-1ef258f1da20')\"\n",
              "              title=\"Convert this dataframe to an interactive table.\"\n",
              "              style=\"display:none;\">\n",
              "        \n",
              "  <svg xmlns=\"http://www.w3.org/2000/svg\" height=\"24px\"viewBox=\"0 0 24 24\"\n",
              "       width=\"24px\">\n",
              "    <path d=\"M0 0h24v24H0V0z\" fill=\"none\"/>\n",
              "    <path d=\"M18.56 5.44l.94 2.06.94-2.06 2.06-.94-2.06-.94-.94-2.06-.94 2.06-2.06.94zm-11 1L8.5 8.5l.94-2.06 2.06-.94-2.06-.94L8.5 2.5l-.94 2.06-2.06.94zm10 10l.94 2.06.94-2.06 2.06-.94-2.06-.94-.94-2.06-.94 2.06-2.06.94z\"/><path d=\"M17.41 7.96l-1.37-1.37c-.4-.4-.92-.59-1.43-.59-.52 0-1.04.2-1.43.59L10.3 9.45l-7.72 7.72c-.78.78-.78 2.05 0 2.83L4 21.41c.39.39.9.59 1.41.59.51 0 1.02-.2 1.41-.59l7.78-7.78 2.81-2.81c.8-.78.8-2.07 0-2.86zM5.41 20L4 18.59l7.72-7.72 1.47 1.35L5.41 20z\"/>\n",
              "  </svg>\n",
              "      </button>\n",
              "      \n",
              "  <style>\n",
              "    .colab-df-container {\n",
              "      display:flex;\n",
              "      flex-wrap:wrap;\n",
              "      gap: 12px;\n",
              "    }\n",
              "\n",
              "    .colab-df-convert {\n",
              "      background-color: #E8F0FE;\n",
              "      border: none;\n",
              "      border-radius: 50%;\n",
              "      cursor: pointer;\n",
              "      display: none;\n",
              "      fill: #1967D2;\n",
              "      height: 32px;\n",
              "      padding: 0 0 0 0;\n",
              "      width: 32px;\n",
              "    }\n",
              "\n",
              "    .colab-df-convert:hover {\n",
              "      background-color: #E2EBFA;\n",
              "      box-shadow: 0px 1px 2px rgba(60, 64, 67, 0.3), 0px 1px 3px 1px rgba(60, 64, 67, 0.15);\n",
              "      fill: #174EA6;\n",
              "    }\n",
              "\n",
              "    [theme=dark] .colab-df-convert {\n",
              "      background-color: #3B4455;\n",
              "      fill: #D2E3FC;\n",
              "    }\n",
              "\n",
              "    [theme=dark] .colab-df-convert:hover {\n",
              "      background-color: #434B5C;\n",
              "      box-shadow: 0px 1px 3px 1px rgba(0, 0, 0, 0.15);\n",
              "      filter: drop-shadow(0px 1px 2px rgba(0, 0, 0, 0.3));\n",
              "      fill: #FFFFFF;\n",
              "    }\n",
              "  </style>\n",
              "\n",
              "      <script>\n",
              "        const buttonEl =\n",
              "          document.querySelector('#df-bffbc331-b1dd-4acc-9e28-1ef258f1da20 button.colab-df-convert');\n",
              "        buttonEl.style.display =\n",
              "          google.colab.kernel.accessAllowed ? 'block' : 'none';\n",
              "\n",
              "        async function convertToInteractive(key) {\n",
              "          const element = document.querySelector('#df-bffbc331-b1dd-4acc-9e28-1ef258f1da20');\n",
              "          const dataTable =\n",
              "            await google.colab.kernel.invokeFunction('convertToInteractive',\n",
              "                                                     [key], {});\n",
              "          if (!dataTable) return;\n",
              "\n",
              "          const docLinkHtml = 'Like what you see? Visit the ' +\n",
              "            '<a target=\"_blank\" href=https://colab.research.google.com/notebooks/data_table.ipynb>data table notebook</a>'\n",
              "            + ' to learn more about interactive tables.';\n",
              "          element.innerHTML = '';\n",
              "          dataTable['output_type'] = 'display_data';\n",
              "          await google.colab.output.renderOutput(dataTable, element);\n",
              "          const docLink = document.createElement('div');\n",
              "          docLink.innerHTML = docLinkHtml;\n",
              "          element.appendChild(docLink);\n",
              "        }\n",
              "      </script>\n",
              "    </div>\n",
              "  </div>\n",
              "  "
            ],
            "text/plain": [
              "      video_id  ... count_punc\n",
              "0  jt2OHQh0HoQ  ...          5\n",
              "1  AqokkXoa7uE  ...          1\n",
              "2  YPVcg45W0z4  ...          4\n",
              "3  T_PuZBdT2iM  ...          1\n",
              "4  NsjsmgmbCfc  ...          1\n",
              "\n",
              "[5 rows x 17 columns]"
            ]
          },
          "metadata": {},
          "execution_count": 99
        }
      ]
    },
    {
      "cell_type": "code",
      "source": [
        "plt.figure(figsize = (10,10))\n",
        "sns.boxplot(x = 'count_punc', y = 'views', data = full_df)"
      ],
      "metadata": {
        "execution": {
          "iopub.status.busy": "2022-02-08T06:14:50.343292Z",
          "iopub.execute_input": "2022-02-08T06:14:50.343566Z",
          "iopub.status.idle": "2022-02-08T06:14:50.728161Z",
          "shell.execute_reply.started": "2022-02-08T06:14:50.343537Z",
          "shell.execute_reply": "2022-02-08T06:14:50.727379Z"
        },
        "trusted": true,
        "colab": {
          "base_uri": "https://localhost:8080/",
          "height": 634
        },
        "id": "mENxbT291StN",
        "outputId": "d9550095-04ec-4162-950e-3d406aeaa938"
      },
      "execution_count": 100,
      "outputs": [
        {
          "output_type": "execute_result",
          "data": {
            "text/plain": [
              "<matplotlib.axes._subplots.AxesSubplot at 0x7f73ad011d50>"
            ]
          },
          "metadata": {},
          "execution_count": 100
        },
        {
          "output_type": "display_data",
          "data": {
            "image/png": "[encoded data removed]",
            "text/plain": [
              "<Figure size 720x720 with 1 Axes>"
            ]
          },
          "metadata": {
            "needs_background": "light"
          }
        }
      ]
    }
  ]
}